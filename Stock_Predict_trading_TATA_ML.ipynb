{
  "nbformat": 4,
  "nbformat_minor": 0,
  "metadata": {
    "colab": {
      "name": "Stock_Predict_trading_TATA_ML.ipynb",
      "provenance": [],
      "collapsed_sections": [],
      "include_colab_link": true
    },
    "kernelspec": {
      "name": "python3",
      "display_name": "Python 3"
    }
  },
  "cells": [
    {
      "cell_type": "markdown",
      "metadata": {
        "id": "view-in-github",
        "colab_type": "text"
      },
      "source": [
        "<a href=\"https://colab.research.google.com/github/abhinag007/Stock-Money-MLM/blob/master/Stock_Predict_trading_TATA_ML.ipynb\" target=\"_parent\"><img src=\"https://colab.research.google.com/assets/colab-badge.svg\" alt=\"Open In Colab\"/></a>"
      ]
    },
    {
      "cell_type": "code",
      "metadata": {
        "id": "apJmPMcGlpwI",
        "colab_type": "code",
        "colab": {
          "base_uri": "https://localhost:8080/",
          "height": 72
        },
        "outputId": "9d8de255-21f5-48f3-bb32-f8c23c80709a"
      },
      "source": [
        "import math\n",
        "import pandas_datareader.data as web\n",
        "import numpy as np\n",
        "import pandas as pd\n",
        "from sklearn.preprocessing import MinMaxScaler\n",
        "from keras.models import Sequential\n",
        "from keras.layers import Dense, LSTM\n",
        "import matplotlib.pyplot as plt\n",
        "from datetime import date\n",
        "from datetime import time\n",
        "plt.style.use('fivethirtyeight') "
      ],
      "execution_count": null,
      "outputs": [
        {
          "output_type": "stream",
          "text": [
            "/usr/local/lib/python3.6/dist-packages/pandas_datareader/compat/__init__.py:7: FutureWarning: pandas.util.testing is deprecated. Use the functions in the public API at pandas.testing instead.\n",
            "  from pandas.util.testing import assert_frame_equal\n"
          ],
          "name": "stderr"
        }
      ]
    },
    {
      "cell_type": "code",
      "metadata": {
        "id": "sW8Zj9Hyd6LZ",
        "colab_type": "code",
        "colab": {
          "base_uri": "https://localhost:8080/",
          "height": 592
        },
        "outputId": "811222a4-224e-4ab4-a852-74e499aeddfd"
      },
      "source": [
        "pip install alpha_vantage"
      ],
      "execution_count": null,
      "outputs": [
        {
          "output_type": "stream",
          "text": [
            "Collecting alpha_vantage\n",
            "  Downloading https://files.pythonhosted.org/packages/12/e3/72ec32d859a363c2eebaa42e0d4abb5ac7172a7a77a2307576ceb5fc1b42/alpha_vantage-2.2.0.tar.gz\n",
            "Collecting aiohttp\n",
            "\u001b[?25l  Downloading https://files.pythonhosted.org/packages/7c/39/7eb5f98d24904e0f6d3edb505d4aa60e3ef83c0a58d6fe18244a51757247/aiohttp-3.6.2-cp36-cp36m-manylinux1_x86_64.whl (1.2MB)\n",
            "\u001b[K     |████████████████████████████████| 1.2MB 5.3MB/s \n",
            "\u001b[?25hRequirement already satisfied: requests in /usr/local/lib/python3.6/dist-packages (from alpha_vantage) (2.23.0)\n",
            "Requirement already satisfied: chardet<4.0,>=2.0 in /usr/local/lib/python3.6/dist-packages (from aiohttp->alpha_vantage) (3.0.4)\n",
            "Collecting multidict<5.0,>=4.5\n",
            "\u001b[?25l  Downloading https://files.pythonhosted.org/packages/1a/95/f50352b5366e7d579e8b99631680a9e32e1b22adfa1629a8f23b1d22d5e2/multidict-4.7.6-cp36-cp36m-manylinux1_x86_64.whl (148kB)\n",
            "\u001b[K     |████████████████████████████████| 153kB 17.0MB/s \n",
            "\u001b[?25hRequirement already satisfied: typing-extensions>=3.6.5; python_version < \"3.7\" in /usr/local/lib/python3.6/dist-packages (from aiohttp->alpha_vantage) (3.7.4.3)\n",
            "Collecting yarl<2.0,>=1.0\n",
            "\u001b[?25l  Downloading https://files.pythonhosted.org/packages/a0/b4/2cbeaf2c3ea53865d9613b315fe24e78c66acedb1df7e4be4e064c87203b/yarl-1.5.1-cp36-cp36m-manylinux1_x86_64.whl (257kB)\n",
            "\u001b[K     |████████████████████████████████| 266kB 18.6MB/s \n",
            "\u001b[?25hCollecting async-timeout<4.0,>=3.0\n",
            "  Downloading https://files.pythonhosted.org/packages/e1/1e/5a4441be21b0726c4464f3f23c8b19628372f606755a9d2e46c187e65ec4/async_timeout-3.0.1-py3-none-any.whl\n",
            "Requirement already satisfied: attrs>=17.3.0 in /usr/local/lib/python3.6/dist-packages (from aiohttp->alpha_vantage) (20.1.0)\n",
            "Collecting idna-ssl>=1.0; python_version < \"3.7\"\n",
            "  Downloading https://files.pythonhosted.org/packages/46/03/07c4894aae38b0de52b52586b24bf189bb83e4ddabfe2e2c8f2419eec6f4/idna-ssl-1.1.0.tar.gz\n",
            "Requirement already satisfied: certifi>=2017.4.17 in /usr/local/lib/python3.6/dist-packages (from requests->alpha_vantage) (2020.6.20)\n",
            "Requirement already satisfied: idna<3,>=2.5 in /usr/local/lib/python3.6/dist-packages (from requests->alpha_vantage) (2.10)\n",
            "Requirement already satisfied: urllib3!=1.25.0,!=1.25.1,<1.26,>=1.21.1 in /usr/local/lib/python3.6/dist-packages (from requests->alpha_vantage) (1.24.3)\n",
            "Building wheels for collected packages: alpha-vantage, idna-ssl\n",
            "  Building wheel for alpha-vantage (setup.py) ... \u001b[?25l\u001b[?25hdone\n",
            "  Created wheel for alpha-vantage: filename=alpha_vantage-2.2.0-cp36-none-any.whl size=25706 sha256=8cbaa1591b45e5551ab544c908b809d9bf1f974e4e448045156748a6a257f0c9\n",
            "  Stored in directory: /root/.cache/pip/wheels/3a/fa/05/80b0afcbd2a4de8bd2a0c5cd77084e3d3a9cc12c48be9b7f84\n",
            "  Building wheel for idna-ssl (setup.py) ... \u001b[?25l\u001b[?25hdone\n",
            "  Created wheel for idna-ssl: filename=idna_ssl-1.1.0-cp36-none-any.whl size=3161 sha256=860de2c842865cb31e2907d1fe55f371cdf8589bf48375ceedc1c1773f0dab75\n",
            "  Stored in directory: /root/.cache/pip/wheels/d3/00/b3/32d613e19e08a739751dd6bf998cfed277728f8b2127ad4eb7\n",
            "Successfully built alpha-vantage idna-ssl\n",
            "Installing collected packages: multidict, yarl, async-timeout, idna-ssl, aiohttp, alpha-vantage\n",
            "Successfully installed aiohttp-3.6.2 alpha-vantage-2.2.0 async-timeout-3.0.1 idna-ssl-1.1.0 multidict-4.7.6 yarl-1.5.1\n"
          ],
          "name": "stdout"
        }
      ]
    },
    {
      "cell_type": "code",
      "metadata": {
        "id": "RlnTjHxTeCOY",
        "colab_type": "code",
        "colab": {}
      },
      "source": [
        "api_key = '5LLGMLRK81AS4OEH'"
      ],
      "execution_count": null,
      "outputs": []
    },
    {
      "cell_type": "code",
      "metadata": {
        "id": "mPAvnyLzeB7R",
        "colab_type": "code",
        "colab": {}
      },
      "source": [
        "import pandas as pd\n",
        "from alpha_vantage.timeseries import TimeSeries\n",
        "import time\n",
        "import matplotlib.pyplot as plt\n",
        "from alpha_vantage.foreignexchange import ForeignExchange"
      ],
      "execution_count": null,
      "outputs": []
    },
    {
      "cell_type": "code",
      "metadata": {
        "id": "0AlB7_uOfQs6",
        "colab_type": "code",
        "colab": {}
      },
      "source": [
        "# ts = TimeSeries(key=api_key,output_format='pandas')\n",
        "# df, meta_data = ts.get_daily(symbol='IBM', outputsize='full')\n",
        "# print(df)"
      ],
      "execution_count": null,
      "outputs": []
    },
    {
      "cell_type": "code",
      "metadata": {
        "id": "yfKdxuL-eBvT",
        "colab_type": "code",
        "colab": {}
      },
      "source": [
        "# cc = ForeignExchange(key = api_key, output_format = 'pandas')\n",
        "# df, meta_data = cc.get_currency_exchange_intraday(from_symbol='GBP', to_symbol='JPY',interval='1min',outputsize='full')\n",
        "# print(df)"
      ],
      "execution_count": null,
      "outputs": []
    },
    {
      "cell_type": "code",
      "metadata": {
        "id": "WLKYJsm6eBi2",
        "colab_type": "code",
        "colab": {}
      },
      "source": [
        "# df = df[::-1]\n",
        "# df.tail(10)"
      ],
      "execution_count": null,
      "outputs": []
    },
    {
      "cell_type": "code",
      "metadata": {
        "id": "zOMA72kPmqUa",
        "colab_type": "code",
        "colab": {}
      },
      "source": [
        "# Get the stock quote\n",
        "df = web.DataReader('TATAMOTORS.NS', data_source='yahoo',start = '2010-01-25', end = date.today())"
      ],
      "execution_count": null,
      "outputs": []
    },
    {
      "cell_type": "code",
      "metadata": {
        "id": "UdrFnTqS9qTt",
        "colab_type": "code",
        "colab": {
          "base_uri": "https://localhost:8080/",
          "height": 446
        },
        "outputId": "eab2e405-af53-4d93-82f9-3926474e6783"
      },
      "source": [
        "df"
      ],
      "execution_count": null,
      "outputs": [
        {
          "output_type": "execute_result",
          "data": {
            "text/html": [
              "<div>\n",
              "<style scoped>\n",
              "    .dataframe tbody tr th:only-of-type {\n",
              "        vertical-align: middle;\n",
              "    }\n",
              "\n",
              "    .dataframe tbody tr th {\n",
              "        vertical-align: top;\n",
              "    }\n",
              "\n",
              "    .dataframe thead th {\n",
              "        text-align: right;\n",
              "    }\n",
              "</style>\n",
              "<table border=\"1\" class=\"dataframe\">\n",
              "  <thead>\n",
              "    <tr style=\"text-align: right;\">\n",
              "      <th></th>\n",
              "      <th>High</th>\n",
              "      <th>Low</th>\n",
              "      <th>Open</th>\n",
              "      <th>Close</th>\n",
              "      <th>Volume</th>\n",
              "      <th>Adj Close</th>\n",
              "    </tr>\n",
              "    <tr>\n",
              "      <th>Date</th>\n",
              "      <th></th>\n",
              "      <th></th>\n",
              "      <th></th>\n",
              "      <th></th>\n",
              "      <th></th>\n",
              "      <th></th>\n",
              "    </tr>\n",
              "  </thead>\n",
              "  <tbody>\n",
              "    <tr>\n",
              "      <th>2010-01-25</th>\n",
              "      <td>154.938004</td>\n",
              "      <td>150.386993</td>\n",
              "      <td>153.988007</td>\n",
              "      <td>152.098999</td>\n",
              "      <td>8448704.0</td>\n",
              "      <td>121.989670</td>\n",
              "    </tr>\n",
              "    <tr>\n",
              "      <th>2010-01-27</th>\n",
              "      <td>150.862000</td>\n",
              "      <td>140.731003</td>\n",
              "      <td>148.804001</td>\n",
              "      <td>142.065994</td>\n",
              "      <td>16092885.0</td>\n",
              "      <td>113.942802</td>\n",
              "    </tr>\n",
              "    <tr>\n",
              "      <th>2010-01-28</th>\n",
              "      <td>145.371002</td>\n",
              "      <td>138.960007</td>\n",
              "      <td>143.460999</td>\n",
              "      <td>140.710999</td>\n",
              "      <td>27120073.0</td>\n",
              "      <td>112.856033</td>\n",
              "    </tr>\n",
              "    <tr>\n",
              "      <th>2010-01-29</th>\n",
              "      <td>140.848999</td>\n",
              "      <td>132.875000</td>\n",
              "      <td>139.503998</td>\n",
              "      <td>137.395996</td>\n",
              "      <td>20899408.0</td>\n",
              "      <td>110.197281</td>\n",
              "    </tr>\n",
              "    <tr>\n",
              "      <th>2010-02-01</th>\n",
              "      <td>143.134995</td>\n",
              "      <td>134.229996</td>\n",
              "      <td>136.080002</td>\n",
              "      <td>142.442001</td>\n",
              "      <td>24102055.0</td>\n",
              "      <td>114.244377</td>\n",
              "    </tr>\n",
              "    <tr>\n",
              "      <th>...</th>\n",
              "      <td>...</td>\n",
              "      <td>...</td>\n",
              "      <td>...</td>\n",
              "      <td>...</td>\n",
              "      <td>...</td>\n",
              "      <td>...</td>\n",
              "    </tr>\n",
              "    <tr>\n",
              "      <th>2020-08-24</th>\n",
              "      <td>123.000000</td>\n",
              "      <td>120.800003</td>\n",
              "      <td>122.000000</td>\n",
              "      <td>121.199997</td>\n",
              "      <td>31294253.0</td>\n",
              "      <td>121.199997</td>\n",
              "    </tr>\n",
              "    <tr>\n",
              "      <th>2020-08-25</th>\n",
              "      <td>128.350006</td>\n",
              "      <td>121.099998</td>\n",
              "      <td>121.800003</td>\n",
              "      <td>127.099998</td>\n",
              "      <td>90263366.0</td>\n",
              "      <td>127.099998</td>\n",
              "    </tr>\n",
              "    <tr>\n",
              "      <th>2020-08-26</th>\n",
              "      <td>139.000000</td>\n",
              "      <td>128.350006</td>\n",
              "      <td>130.500000</td>\n",
              "      <td>137.899994</td>\n",
              "      <td>197510376.0</td>\n",
              "      <td>137.899994</td>\n",
              "    </tr>\n",
              "    <tr>\n",
              "      <th>2020-08-27</th>\n",
              "      <td>146.850006</td>\n",
              "      <td>139.300003</td>\n",
              "      <td>140.100006</td>\n",
              "      <td>144.250000</td>\n",
              "      <td>181380747.0</td>\n",
              "      <td>144.250000</td>\n",
              "    </tr>\n",
              "    <tr>\n",
              "      <th>2020-08-28</th>\n",
              "      <td>144.149994</td>\n",
              "      <td>141.000000</td>\n",
              "      <td>144.149994</td>\n",
              "      <td>141.949997</td>\n",
              "      <td>26043139.0</td>\n",
              "      <td>141.949997</td>\n",
              "    </tr>\n",
              "  </tbody>\n",
              "</table>\n",
              "<p>2611 rows × 6 columns</p>\n",
              "</div>"
            ],
            "text/plain": [
              "                  High         Low  ...       Volume   Adj Close\n",
              "Date                                ...                         \n",
              "2010-01-25  154.938004  150.386993  ...    8448704.0  121.989670\n",
              "2010-01-27  150.862000  140.731003  ...   16092885.0  113.942802\n",
              "2010-01-28  145.371002  138.960007  ...   27120073.0  112.856033\n",
              "2010-01-29  140.848999  132.875000  ...   20899408.0  110.197281\n",
              "2010-02-01  143.134995  134.229996  ...   24102055.0  114.244377\n",
              "...                ...         ...  ...          ...         ...\n",
              "2020-08-24  123.000000  120.800003  ...   31294253.0  121.199997\n",
              "2020-08-25  128.350006  121.099998  ...   90263366.0  127.099998\n",
              "2020-08-26  139.000000  128.350006  ...  197510376.0  137.899994\n",
              "2020-08-27  146.850006  139.300003  ...  181380747.0  144.250000\n",
              "2020-08-28  144.149994  141.000000  ...   26043139.0  141.949997\n",
              "\n",
              "[2611 rows x 6 columns]"
            ]
          },
          "metadata": {
            "tags": []
          },
          "execution_count": 9
        }
      ]
    },
    {
      "cell_type": "code",
      "metadata": {
        "id": "CKzQZaqRnR3F",
        "colab_type": "code",
        "colab": {}
      },
      "source": [
        "#show the data\n",
        "df['Date'] = df.index"
      ],
      "execution_count": null,
      "outputs": []
    },
    {
      "cell_type": "code",
      "metadata": {
        "id": "ALCXElU2uJ1X",
        "colab_type": "code",
        "colab": {
          "base_uri": "https://localhost:8080/",
          "height": 446
        },
        "outputId": "4a52aead-81ae-4b71-b2a8-a9dcbbc9e39f"
      },
      "source": [
        "df"
      ],
      "execution_count": null,
      "outputs": [
        {
          "output_type": "execute_result",
          "data": {
            "text/html": [
              "<div>\n",
              "<style scoped>\n",
              "    .dataframe tbody tr th:only-of-type {\n",
              "        vertical-align: middle;\n",
              "    }\n",
              "\n",
              "    .dataframe tbody tr th {\n",
              "        vertical-align: top;\n",
              "    }\n",
              "\n",
              "    .dataframe thead th {\n",
              "        text-align: right;\n",
              "    }\n",
              "</style>\n",
              "<table border=\"1\" class=\"dataframe\">\n",
              "  <thead>\n",
              "    <tr style=\"text-align: right;\">\n",
              "      <th></th>\n",
              "      <th>High</th>\n",
              "      <th>Low</th>\n",
              "      <th>Open</th>\n",
              "      <th>Close</th>\n",
              "      <th>Volume</th>\n",
              "      <th>Adj Close</th>\n",
              "      <th>Date</th>\n",
              "    </tr>\n",
              "    <tr>\n",
              "      <th>Date</th>\n",
              "      <th></th>\n",
              "      <th></th>\n",
              "      <th></th>\n",
              "      <th></th>\n",
              "      <th></th>\n",
              "      <th></th>\n",
              "      <th></th>\n",
              "    </tr>\n",
              "  </thead>\n",
              "  <tbody>\n",
              "    <tr>\n",
              "      <th>2010-01-25</th>\n",
              "      <td>154.938004</td>\n",
              "      <td>150.386993</td>\n",
              "      <td>153.988007</td>\n",
              "      <td>152.098999</td>\n",
              "      <td>8448704.0</td>\n",
              "      <td>121.989670</td>\n",
              "      <td>2010-01-25</td>\n",
              "    </tr>\n",
              "    <tr>\n",
              "      <th>2010-01-27</th>\n",
              "      <td>150.862000</td>\n",
              "      <td>140.731003</td>\n",
              "      <td>148.804001</td>\n",
              "      <td>142.065994</td>\n",
              "      <td>16092885.0</td>\n",
              "      <td>113.942802</td>\n",
              "      <td>2010-01-27</td>\n",
              "    </tr>\n",
              "    <tr>\n",
              "      <th>2010-01-28</th>\n",
              "      <td>145.371002</td>\n",
              "      <td>138.960007</td>\n",
              "      <td>143.460999</td>\n",
              "      <td>140.710999</td>\n",
              "      <td>27120073.0</td>\n",
              "      <td>112.856033</td>\n",
              "      <td>2010-01-28</td>\n",
              "    </tr>\n",
              "    <tr>\n",
              "      <th>2010-01-29</th>\n",
              "      <td>140.848999</td>\n",
              "      <td>132.875000</td>\n",
              "      <td>139.503998</td>\n",
              "      <td>137.395996</td>\n",
              "      <td>20899408.0</td>\n",
              "      <td>110.197281</td>\n",
              "      <td>2010-01-29</td>\n",
              "    </tr>\n",
              "    <tr>\n",
              "      <th>2010-02-01</th>\n",
              "      <td>143.134995</td>\n",
              "      <td>134.229996</td>\n",
              "      <td>136.080002</td>\n",
              "      <td>142.442001</td>\n",
              "      <td>24102055.0</td>\n",
              "      <td>114.244377</td>\n",
              "      <td>2010-02-01</td>\n",
              "    </tr>\n",
              "    <tr>\n",
              "      <th>...</th>\n",
              "      <td>...</td>\n",
              "      <td>...</td>\n",
              "      <td>...</td>\n",
              "      <td>...</td>\n",
              "      <td>...</td>\n",
              "      <td>...</td>\n",
              "      <td>...</td>\n",
              "    </tr>\n",
              "    <tr>\n",
              "      <th>2020-08-24</th>\n",
              "      <td>123.000000</td>\n",
              "      <td>120.800003</td>\n",
              "      <td>122.000000</td>\n",
              "      <td>121.199997</td>\n",
              "      <td>31294253.0</td>\n",
              "      <td>121.199997</td>\n",
              "      <td>2020-08-24</td>\n",
              "    </tr>\n",
              "    <tr>\n",
              "      <th>2020-08-25</th>\n",
              "      <td>128.350006</td>\n",
              "      <td>121.099998</td>\n",
              "      <td>121.800003</td>\n",
              "      <td>127.099998</td>\n",
              "      <td>90263366.0</td>\n",
              "      <td>127.099998</td>\n",
              "      <td>2020-08-25</td>\n",
              "    </tr>\n",
              "    <tr>\n",
              "      <th>2020-08-26</th>\n",
              "      <td>139.000000</td>\n",
              "      <td>128.350006</td>\n",
              "      <td>130.500000</td>\n",
              "      <td>137.899994</td>\n",
              "      <td>197510376.0</td>\n",
              "      <td>137.899994</td>\n",
              "      <td>2020-08-26</td>\n",
              "    </tr>\n",
              "    <tr>\n",
              "      <th>2020-08-27</th>\n",
              "      <td>146.850006</td>\n",
              "      <td>139.300003</td>\n",
              "      <td>140.100006</td>\n",
              "      <td>144.250000</td>\n",
              "      <td>181380747.0</td>\n",
              "      <td>144.250000</td>\n",
              "      <td>2020-08-27</td>\n",
              "    </tr>\n",
              "    <tr>\n",
              "      <th>2020-08-28</th>\n",
              "      <td>144.149994</td>\n",
              "      <td>141.000000</td>\n",
              "      <td>144.149994</td>\n",
              "      <td>141.949997</td>\n",
              "      <td>26043139.0</td>\n",
              "      <td>141.949997</td>\n",
              "      <td>2020-08-28</td>\n",
              "    </tr>\n",
              "  </tbody>\n",
              "</table>\n",
              "<p>2611 rows × 7 columns</p>\n",
              "</div>"
            ],
            "text/plain": [
              "                  High         Low  ...   Adj Close       Date\n",
              "Date                                ...                       \n",
              "2010-01-25  154.938004  150.386993  ...  121.989670 2010-01-25\n",
              "2010-01-27  150.862000  140.731003  ...  113.942802 2010-01-27\n",
              "2010-01-28  145.371002  138.960007  ...  112.856033 2010-01-28\n",
              "2010-01-29  140.848999  132.875000  ...  110.197281 2010-01-29\n",
              "2010-02-01  143.134995  134.229996  ...  114.244377 2010-02-01\n",
              "...                ...         ...  ...         ...        ...\n",
              "2020-08-24  123.000000  120.800003  ...  121.199997 2020-08-24\n",
              "2020-08-25  128.350006  121.099998  ...  127.099998 2020-08-25\n",
              "2020-08-26  139.000000  128.350006  ...  137.899994 2020-08-26\n",
              "2020-08-27  146.850006  139.300003  ...  144.250000 2020-08-27\n",
              "2020-08-28  144.149994  141.000000  ...  141.949997 2020-08-28\n",
              "\n",
              "[2611 rows x 7 columns]"
            ]
          },
          "metadata": {
            "tags": []
          },
          "execution_count": 11
        }
      ]
    },
    {
      "cell_type": "code",
      "metadata": {
        "id": "Wf68KJAlnbDI",
        "colab_type": "code",
        "colab": {
          "base_uri": "https://localhost:8080/",
          "height": 35
        },
        "outputId": "bd9edca2-941e-4ca8-e5b9-18fd10487ed8"
      },
      "source": [
        "#Get number of rows and colomns in datasets\n",
        "df.shape"
      ],
      "execution_count": null,
      "outputs": [
        {
          "output_type": "execute_result",
          "data": {
            "text/plain": [
              "(2611, 7)"
            ]
          },
          "metadata": {
            "tags": []
          },
          "execution_count": 12
        }
      ]
    },
    {
      "cell_type": "code",
      "metadata": {
        "id": "qRU7fuU5pyzl",
        "colab_type": "code",
        "colab": {
          "base_uri": "https://localhost:8080/",
          "height": 301
        },
        "outputId": "0fd9d90f-88e2-4d85-a961-90f2eb057f6c"
      },
      "source": [
        "# Close price history\n",
        "plt.figure(figsize=(16,4))\n",
        "plt.title('Close Price History')\n",
        "plt.plot(df['High'],);\n",
        "plt.xlabel('Date', fontsize=18)\n",
        "plt.ylabel('Close price USD($)', fontsize = 18)\n",
        "plt.show()"
      ],
      "execution_count": null,
      "outputs": [
        {
          "output_type": "display_data",
          "data": {
            "image/png": "[encoded data removed]",
            "text/plain": [
              "<Figure size 1152x288 with 1 Axes>"
            ]
          },
          "metadata": {
            "tags": [],
            "needs_background": "light"
          }
        }
      ]
    },
    {
      "cell_type": "code",
      "metadata": {
        "id": "-rVlC095qXQx",
        "colab_type": "code",
        "colab": {
          "base_uri": "https://localhost:8080/",
          "height": 35
        },
        "outputId": "630f565a-8955-49d3-cf68-b33d83c1b3da"
      },
      "source": [
        "# Create new dataframe with only close coloumn\n",
        "data = df.filter(['High'])\n",
        "# Convert dataframe to numpy array\n",
        "dataset = data.values\n",
        "# Get the number of rows to train the model on\n",
        "training_data_len = math.ceil( len(dataset) * 0.99)\n",
        "\n",
        "training_data_len"
      ],
      "execution_count": null,
      "outputs": [
        {
          "output_type": "execute_result",
          "data": {
            "text/plain": [
              "2585"
            ]
          },
          "metadata": {
            "tags": []
          },
          "execution_count": 14
        }
      ]
    },
    {
      "cell_type": "code",
      "metadata": {
        "id": "054BIqTuvqM9",
        "colab_type": "code",
        "colab": {
          "base_uri": "https://localhost:8080/",
          "height": 139
        },
        "outputId": "729e84fd-1f56-42f9-c294-5228d3940337"
      },
      "source": [
        "# Scale the data\n",
        "scaler = MinMaxScaler(feature_range=(0,1))\n",
        "scaled_data = scaler.fit_transform(dataset)\n",
        "\n",
        "scaled_data"
      ],
      "execution_count": null,
      "outputs": [
        {
          "output_type": "execute_result",
          "data": {
            "text/plain": [
              "array([[0.16333551],\n",
              "       [0.15577336],\n",
              "       [0.145586  ],\n",
              "       ...,\n",
              "       [0.13376598],\n",
              "       [0.14832997],\n",
              "       [0.14332068]])"
            ]
          },
          "metadata": {
            "tags": []
          },
          "execution_count": 15
        }
      ]
    },
    {
      "cell_type": "code",
      "metadata": {
        "id": "TpFHvI_owSV5",
        "colab_type": "code",
        "colab": {
          "base_uri": "https://localhost:8080/",
          "height": 260
        },
        "outputId": "0c4a3b7f-69b4-4d9c-884a-a99f4cdbec0b"
      },
      "source": [
        "# Create training datasets\n",
        "# Create the scaled training datasets\n",
        "train_data = scaled_data[0:training_data_len,:]\n",
        "# Slit x_train and y_train datasets\n",
        "x_train = []\n",
        "y_train = []\n",
        "for i in range(60,len(train_data)):\n",
        "  x_train.append(train_data[i-60:i,0])\n",
        "  y_train.append(train_data[i,0])\n",
        "  if i<=60:\n",
        "    print(x_train)\n",
        "    print(y_train)\n",
        "    print() "
      ],
      "execution_count": null,
      "outputs": [
        {
          "output_type": "stream",
          "text": [
            "[array([0.16333551, 0.15577336, 0.145586  , 0.1371964 , 0.14143757,\n",
            "       0.14754889, 0.14277709, 0.1420424 , 0.12497193, 0.12842276,\n",
            "       0.12845987, 0.13066208, 0.12989029, 0.13374557, 0.13616857,\n",
            "       0.14094221, 0.14017042, 0.13631513, 0.13826134, 0.13723352,\n",
            "       0.1322595 , 0.12845987, 0.14044502, 0.17236702, 0.17469725,\n",
            "       0.18048018, 0.1761852 , 0.17585497, 0.16407019, 0.1669329 ,\n",
            "       0.16326315, 0.16188652, 0.16065648, 0.16530024, 0.16801638,\n",
            "       0.16553772, 0.16460266, 0.16342828, 0.15799415, 0.15232253,\n",
            "       0.1537177 , 0.15470842, 0.15474553, 0.15727801, 0.16223345,\n",
            "       0.16517222, 0.16440042, 0.168842  , 0.16847462, 0.17484568,\n",
            "       0.17322972, 0.16469357, 0.16862305, 0.16570285, 0.16205165,\n",
            "       0.16915368, 0.17398298, 0.18965829, 0.18738184, 0.19189759])]\n",
            "[0.18969537101429104]\n",
            "\n"
          ],
          "name": "stdout"
        }
      ]
    },
    {
      "cell_type": "code",
      "metadata": {
        "id": "i9wytjq9xqI8",
        "colab_type": "code",
        "colab": {}
      },
      "source": [
        "# convert x_train y_train to numpy arrays\n",
        "x_train, y_train = np.array(x_train), np.array(y_train)"
      ],
      "execution_count": null,
      "outputs": []
    },
    {
      "cell_type": "code",
      "metadata": {
        "id": "kPm9qFun1Yyh",
        "colab_type": "code",
        "colab": {
          "base_uri": "https://localhost:8080/",
          "height": 35
        },
        "outputId": "4b3bc6f8-08a4-4876-e0ca-fe394c438c2f"
      },
      "source": [
        "# Reshape the data\n",
        "x_train = np.reshape(x_train,(x_train.shape[0], x_train.shape[1],1))\n",
        "x_train.shape"
      ],
      "execution_count": null,
      "outputs": [
        {
          "output_type": "execute_result",
          "data": {
            "text/plain": [
              "(2525, 60, 1)"
            ]
          },
          "metadata": {
            "tags": []
          },
          "execution_count": 18
        }
      ]
    },
    {
      "cell_type": "code",
      "metadata": {
        "id": "YphvzrAL1nXb",
        "colab_type": "code",
        "colab": {}
      },
      "source": [
        "# Build LSTM Model\n",
        "model = Sequential()\n",
        "model.add(LSTM(50,return_sequences=True, input_shape = (x_train.shape[1],1)))\n",
        "model.add(LSTM(50, return_sequences=False))\n",
        "model.add(Dense(15))\n",
        "model.add(Dense(1))\n"
      ],
      "execution_count": null,
      "outputs": []
    },
    {
      "cell_type": "code",
      "metadata": {
        "id": "vUy-netL42K4",
        "colab_type": "code",
        "colab": {}
      },
      "source": [
        "model.compile(optimizer='adam',loss='mse')\n"
      ],
      "execution_count": null,
      "outputs": []
    },
    {
      "cell_type": "code",
      "metadata": {
        "id": "KJKvbL_r5kH-",
        "colab_type": "code",
        "colab": {
          "base_uri": "https://localhost:8080/",
          "height": 139
        },
        "outputId": "97e39f38-b23c-418f-b168-d13dcad31b6c"
      },
      "source": [
        "model.fit(x_train,y_train,batch_size=1, epochs = 3,)"
      ],
      "execution_count": null,
      "outputs": [
        {
          "output_type": "stream",
          "text": [
            "Epoch 1/3\n",
            "2525/2525 [==============================] - 120s 48ms/step - loss: 0.0035\n",
            "Epoch 2/3\n",
            "2525/2525 [==============================] - 118s 47ms/step - loss: 0.0011\n",
            "Epoch 3/3\n",
            "2525/2525 [==============================] - 122s 48ms/step - loss: 7.2125e-04\n"
          ],
          "name": "stdout"
        },
        {
          "output_type": "execute_result",
          "data": {
            "text/plain": [
              "<tensorflow.python.keras.callbacks.History at 0x7f1ebde91ac8>"
            ]
          },
          "metadata": {
            "tags": []
          },
          "execution_count": 118
        }
      ]
    },
    {
      "cell_type": "code",
      "metadata": {
        "id": "lQrQdp_g5_VL",
        "colab_type": "code",
        "colab": {}
      },
      "source": [
        "# Crete testing datasets\n",
        "# Create a new array containing scaled value from index 1704 to 2130\n",
        "test_data = scaled_data[training_data_len-60: ,:]\n",
        "# Create dataset x_test, y_test \n",
        "x_test = []\n",
        "y_test = dataset[training_data_len: ,:]\n",
        "for i in range(60, len(test_data)):\n",
        "  x_test.append(test_data[i-60:i, 0])"
      ],
      "execution_count": null,
      "outputs": []
    },
    {
      "cell_type": "code",
      "metadata": {
        "id": "pCf7PuLD8ifs",
        "colab_type": "code",
        "colab": {}
      },
      "source": [
        "x_test = np.array(x_test)"
      ],
      "execution_count": null,
      "outputs": []
    },
    {
      "cell_type": "code",
      "metadata": {
        "id": "ChpGsyct73c7",
        "colab_type": "code",
        "colab": {}
      },
      "source": [
        "# Reshape the data\n",
        "x_test = np.reshape(x_test,(x_test.shape[0],x_test.shape[1],1))"
      ],
      "execution_count": null,
      "outputs": []
    },
    {
      "cell_type": "code",
      "metadata": {
        "id": "REUYDN6V2VpO",
        "colab_type": "code",
        "colab": {}
      },
      "source": [
        "# x_test = range(10)"
      ],
      "execution_count": null,
      "outputs": []
    },
    {
      "cell_type": "code",
      "metadata": {
        "id": "0cu0bGnW8VOj",
        "colab_type": "code",
        "colab": {
          "base_uri": "https://localhost:8080/",
          "height": 55
        },
        "outputId": "45f8126b-c799-48ba-998d-e736cb1bd32b"
      },
      "source": [
        "# Get model prediction price value\n",
        "predictions = model.predict(x_test)\n",
        "predictions = scaler.inverse_transform(predictions)"
      ],
      "execution_count": null,
      "outputs": [
        {
          "output_type": "stream",
          "text": [
            "WARNING:tensorflow:5 out of the last 9 calls to <function Model.make_predict_function.<locals>.predict_function at 0x7f1ec0256950> triggered tf.function retracing. Tracing is expensive and the excessive number of tracings could be due to (1) creating @tf.function repeatedly in a loop, (2) passing tensors with different shapes, (3) passing Python objects instead of tensors. For (1), please define your @tf.function outside of the loop. For (2), @tf.function has experimental_relax_shapes=True option that relaxes argument shapes that can avoid unnecessary retracing. For (3), please refer to https://www.tensorflow.org/tutorials/customization/performance#python_or_tensor_args and https://www.tensorflow.org/api_docs/python/tf/function for  more details.\n"
          ],
          "name": "stdout"
        }
      ]
    },
    {
      "cell_type": "code",
      "metadata": {
        "id": "cQ1NT69s9EoW",
        "colab_type": "code",
        "colab": {
          "base_uri": "https://localhost:8080/",
          "height": 35
        },
        "outputId": "3459f6ce-d10e-43ba-8850-d4ec908e60dd"
      },
      "source": [
        "rmse = np.sqrt( np.mean(predictions - y_test)**2)\n",
        "rmse"
      ],
      "execution_count": null,
      "outputs": [
        {
          "output_type": "execute_result",
          "data": {
            "text/plain": [
              "2.9761420029860277"
            ]
          },
          "metadata": {
            "tags": []
          },
          "execution_count": 111
        }
      ]
    },
    {
      "cell_type": "code",
      "metadata": {
        "id": "hmAgyqvW9VMf",
        "colab_type": "code",
        "colab": {
          "base_uri": "https://localhost:8080/",
          "height": 401
        },
        "outputId": "d7f0159a-4bd0-4ad0-e390-537c9f03dd35"
      },
      "source": [
        "# PLot the data\n",
        "train = data[:training_data_len]\n",
        "valid = data[training_data_len:]\n",
        "valid['Predictions'] = predictions\n",
        "# Visualize the data\n",
        "plt.figure(figsize=(12,4))\n",
        "plt.title(\"Model\")\n",
        "plt.xlabel('Date', fontsize = 18)\n",
        "plt.ylabel('Close Price USD($) ', fontsize=18)\n",
        "# plt.plot(train['High'])\n",
        "plt.plot(valid[['High', 'Predictions']])\n",
        "plt.legend(['Close','Val','Predictions'],loc = 'lower right')\n",
        "plt.tight_layout()\n",
        "plt.show()"
      ],
      "execution_count": null,
      "outputs": [
        {
          "output_type": "stream",
          "text": [
            "/usr/local/lib/python3.6/dist-packages/ipykernel_launcher.py:4: SettingWithCopyWarning: \n",
            "A value is trying to be set on a copy of a slice from a DataFrame.\n",
            "Try using .loc[row_indexer,col_indexer] = value instead\n",
            "\n",
            "See the caveats in the documentation: https://pandas.pydata.org/pandas-docs/stable/user_guide/indexing.html#returning-a-view-versus-a-copy\n",
            "  after removing the cwd from sys.path.\n"
          ],
          "name": "stderr"
        },
        {
          "output_type": "display_data",
          "data": {
            "image/png": "[encoded data removed]",
            "text/plain": [
              "<Figure size 864x288 with 1 Axes>"
            ]
          },
          "metadata": {
            "tags": [],
            "needs_background": "light"
          }
        }
      ]
    },
    {
      "cell_type": "code",
      "metadata": {
        "id": "4WJaZ2df44LB",
        "colab_type": "code",
        "colab": {
          "base_uri": "https://localhost:8080/",
          "height": 69
        },
        "outputId": "17b2e8f1-b6b4-4a0a-c058-04c629ea2758"
      },
      "source": [
        "valid.sum(axis=0)"
      ],
      "execution_count": null,
      "outputs": [
        {
          "output_type": "execute_result",
          "data": {
            "text/plain": [
              "High           3176.649986\n",
              "Predictions    3254.029678\n",
              "dtype: float64"
            ]
          },
          "metadata": {
            "tags": []
          },
          "execution_count": 113
        }
      ]
    },
    {
      "cell_type": "code",
      "metadata": {
        "id": "nbqQ7crH-FvX",
        "colab_type": "code",
        "colab": {
          "base_uri": "https://localhost:8080/",
          "height": 877
        },
        "outputId": "85b9d70c-8b73-4688-e8e6-30f6dfd71b81"
      },
      "source": [
        "valid.tail(30)"
      ],
      "execution_count": null,
      "outputs": [
        {
          "output_type": "execute_result",
          "data": {
            "text/html": [
              "<div>\n",
              "<style scoped>\n",
              "    .dataframe tbody tr th:only-of-type {\n",
              "        vertical-align: middle;\n",
              "    }\n",
              "\n",
              "    .dataframe tbody tr th {\n",
              "        vertical-align: top;\n",
              "    }\n",
              "\n",
              "    .dataframe thead th {\n",
              "        text-align: right;\n",
              "    }\n",
              "</style>\n",
              "<table border=\"1\" class=\"dataframe\">\n",
              "  <thead>\n",
              "    <tr style=\"text-align: right;\">\n",
              "      <th></th>\n",
              "      <th>High</th>\n",
              "      <th>Predictions</th>\n",
              "    </tr>\n",
              "    <tr>\n",
              "      <th>Date</th>\n",
              "      <th></th>\n",
              "      <th></th>\n",
              "    </tr>\n",
              "  </thead>\n",
              "  <tbody>\n",
              "    <tr>\n",
              "      <th>2020-07-24</th>\n",
              "      <td>105.500000</td>\n",
              "      <td>112.901726</td>\n",
              "    </tr>\n",
              "    <tr>\n",
              "      <th>2020-07-27</th>\n",
              "      <td>104.500000</td>\n",
              "      <td>111.017899</td>\n",
              "    </tr>\n",
              "    <tr>\n",
              "      <th>2020-07-28</th>\n",
              "      <td>107.199997</td>\n",
              "      <td>109.673477</td>\n",
              "    </tr>\n",
              "    <tr>\n",
              "      <th>2020-07-29</th>\n",
              "      <td>108.750000</td>\n",
              "      <td>110.769241</td>\n",
              "    </tr>\n",
              "    <tr>\n",
              "      <th>2020-07-30</th>\n",
              "      <td>106.750000</td>\n",
              "      <td>112.723167</td>\n",
              "    </tr>\n",
              "    <tr>\n",
              "      <th>2020-07-31</th>\n",
              "      <td>105.400002</td>\n",
              "      <td>112.555016</td>\n",
              "    </tr>\n",
              "    <tr>\n",
              "      <th>2020-08-03</th>\n",
              "      <td>114.400002</td>\n",
              "      <td>111.180809</td>\n",
              "    </tr>\n",
              "    <tr>\n",
              "      <th>2020-08-04</th>\n",
              "      <td>115.099998</td>\n",
              "      <td>115.527191</td>\n",
              "    </tr>\n",
              "    <tr>\n",
              "      <th>2020-08-05</th>\n",
              "      <td>117.650002</td>\n",
              "      <td>119.230827</td>\n",
              "    </tr>\n",
              "    <tr>\n",
              "      <th>2020-08-06</th>\n",
              "      <td>117.699997</td>\n",
              "      <td>121.919624</td>\n",
              "    </tr>\n",
              "    <tr>\n",
              "      <th>2020-08-07</th>\n",
              "      <td>119.699997</td>\n",
              "      <td>122.901329</td>\n",
              "    </tr>\n",
              "    <tr>\n",
              "      <th>2020-08-10</th>\n",
              "      <td>124.699997</td>\n",
              "      <td>124.117722</td>\n",
              "    </tr>\n",
              "    <tr>\n",
              "      <th>2020-08-11</th>\n",
              "      <td>125.800003</td>\n",
              "      <td>127.682594</td>\n",
              "    </tr>\n",
              "    <tr>\n",
              "      <th>2020-08-12</th>\n",
              "      <td>126.400002</td>\n",
              "      <td>130.355347</td>\n",
              "    </tr>\n",
              "    <tr>\n",
              "      <th>2020-08-13</th>\n",
              "      <td>131.899994</td>\n",
              "      <td>131.540558</td>\n",
              "    </tr>\n",
              "    <tr>\n",
              "      <th>2020-08-14</th>\n",
              "      <td>132.649994</td>\n",
              "      <td>135.003098</td>\n",
              "    </tr>\n",
              "    <tr>\n",
              "      <th>2020-08-17</th>\n",
              "      <td>126.250000</td>\n",
              "      <td>137.402176</td>\n",
              "    </tr>\n",
              "    <tr>\n",
              "      <th>2020-08-18</th>\n",
              "      <td>127.500000</td>\n",
              "      <td>134.219879</td>\n",
              "    </tr>\n",
              "    <tr>\n",
              "      <th>2020-08-19</th>\n",
              "      <td>127.599998</td>\n",
              "      <td>132.489044</td>\n",
              "    </tr>\n",
              "    <tr>\n",
              "      <th>2020-08-20</th>\n",
              "      <td>125.650002</td>\n",
              "      <td>132.305603</td>\n",
              "    </tr>\n",
              "    <tr>\n",
              "      <th>2020-08-21</th>\n",
              "      <td>124.199997</td>\n",
              "      <td>131.334274</td>\n",
              "    </tr>\n",
              "    <tr>\n",
              "      <th>2020-08-24</th>\n",
              "      <td>123.000000</td>\n",
              "      <td>129.844742</td>\n",
              "    </tr>\n",
              "    <tr>\n",
              "      <th>2020-08-25</th>\n",
              "      <td>128.350006</td>\n",
              "      <td>128.409439</td>\n",
              "    </tr>\n",
              "    <tr>\n",
              "      <th>2020-08-26</th>\n",
              "      <td>139.000000</td>\n",
              "      <td>130.988358</td>\n",
              "    </tr>\n",
              "    <tr>\n",
              "      <th>2020-08-27</th>\n",
              "      <td>146.850006</td>\n",
              "      <td>139.322800</td>\n",
              "    </tr>\n",
              "    <tr>\n",
              "      <th>2020-08-28</th>\n",
              "      <td>144.149994</td>\n",
              "      <td>148.613739</td>\n",
              "    </tr>\n",
              "  </tbody>\n",
              "</table>\n",
              "</div>"
            ],
            "text/plain": [
              "                  High  Predictions\n",
              "Date                               \n",
              "2020-07-24  105.500000   112.901726\n",
              "2020-07-27  104.500000   111.017899\n",
              "2020-07-28  107.199997   109.673477\n",
              "2020-07-29  108.750000   110.769241\n",
              "2020-07-30  106.750000   112.723167\n",
              "2020-07-31  105.400002   112.555016\n",
              "2020-08-03  114.400002   111.180809\n",
              "2020-08-04  115.099998   115.527191\n",
              "2020-08-05  117.650002   119.230827\n",
              "2020-08-06  117.699997   121.919624\n",
              "2020-08-07  119.699997   122.901329\n",
              "2020-08-10  124.699997   124.117722\n",
              "2020-08-11  125.800003   127.682594\n",
              "2020-08-12  126.400002   130.355347\n",
              "2020-08-13  131.899994   131.540558\n",
              "2020-08-14  132.649994   135.003098\n",
              "2020-08-17  126.250000   137.402176\n",
              "2020-08-18  127.500000   134.219879\n",
              "2020-08-19  127.599998   132.489044\n",
              "2020-08-20  125.650002   132.305603\n",
              "2020-08-21  124.199997   131.334274\n",
              "2020-08-24  123.000000   129.844742\n",
              "2020-08-25  128.350006   128.409439\n",
              "2020-08-26  139.000000   130.988358\n",
              "2020-08-27  146.850006   139.322800\n",
              "2020-08-28  144.149994   148.613739"
            ]
          },
          "metadata": {
            "tags": []
          },
          "execution_count": 114
        }
      ]
    },
    {
      "cell_type": "code",
      "metadata": {
        "id": "70AKqhoPCGOS",
        "colab_type": "code",
        "colab": {}
      },
      "source": [
        "# # Get the quote\n",
        "# # apple_quote = web.DataReader('TATAMOTORS.NS',data_source='yahoo',start='2012-01-01',end='2020-06-22')\n",
        "# apple_quote, meta_data = cc.get_currency_exchange_intraday(from_symbol='GBP', to_symbol='JPY',interval='1min',outputsize='full')\n",
        "# apple_quote = apple_quote[::-1]\n",
        "# # Create new dataframe\n",
        "# new_df = apple_quote.filter(items=['High'])\n",
        "# # Get the last 60 days closing price and convert to numpy array\n",
        "# last_60_days = new_df[-60:].values\n",
        "# # Scale the data to be values between 0 and 1\n",
        "# last_60_days_scaled = scaler.transform(last_60_days)\n",
        "# # Create an empty list\n",
        "# X_test = []\n",
        "# # Append the past 60 days\n",
        "# X_test.append(last_60_days_scaled)\n",
        "\n",
        "# # Convert the X_test dataset to numpy array\n",
        "# X_test = np.array(X_test)\n",
        "# # Reshape the data\n",
        "# X_test = np.reshape(X_test,(X_test.shape[0],X_test.shape[1],1))\n",
        "# # Get Predicted scaled price\n",
        "# pred_price = model.predict(X_test)\n",
        "# # undo the scaling\n",
        "# pred_price = scaler.inverse_transform(pred_price)\n",
        "# comp = (new_df['High'][-1])\n",
        "# # comp = float(\"{:.5f}\".format(comp))\n",
        "# # pred_price = float(pred_price)\n",
        "# # pred_price = float(\"{:.4f}\".format(pred_price))\n",
        "# print(pred_price)\n",
        "# print(comp)\n",
        "# if pred_price > comp:\n",
        "#   print(\"green\")\n",
        "# elif pred_price < comp:\n",
        "#   print(\"red\")\n",
        "# else:\n",
        "#   print (\"Dont buy or sell\")"
      ],
      "execution_count": null,
      "outputs": []
    },
    {
      "cell_type": "code",
      "metadata": {
        "id": "yOwcPWVfR527",
        "colab_type": "code",
        "colab": {}
      },
      "source": [
        ""
      ],
      "execution_count": null,
      "outputs": []
    },
    {
      "cell_type": "code",
      "metadata": {
        "id": "KDNxPwwKlgoQ",
        "colab_type": "code",
        "colab": {}
      },
      "source": [
        "# new, meta_data = cc.get_currency_exchange_intraday(from_symbol='GBP', to_symbol='JPY',interval='1min',outputsize='full')\n",
        "# new = new[::-1]\n",
        "# print(new.tail(10))"
      ],
      "execution_count": null,
      "outputs": []
    },
    {
      "cell_type": "code",
      "metadata": {
        "id": "_SlVRj83-vA8",
        "colab_type": "code",
        "colab": {}
      },
      "source": [
        "# pred_price = np.reshape(pred_price,1)\n",
        "# lst_2 = np.reshape(lst_2,60)\n",
        "# lst_2 = np.append(lst_2,pred_price)\n",
        "# lst_2 = lst_2[1:]\n",
        "# lst_2=np.reshape(lst_2,(1,60,1))\n",
        "# pred_price = model.predict(lst_2)\n",
        "# pred_price = scaler.inverse_transform(pred_price)\n",
        "# print(pred_price)\n",
        "# pred_price = scaler.transform(pred_price)"
      ],
      "execution_count": null,
      "outputs": []
    },
    {
      "cell_type": "code",
      "metadata": {
        "id": "oWCoEGtnjIzo",
        "colab_type": "code",
        "colab": {}
      },
      "source": [
        ""
      ],
      "execution_count": null,
      "outputs": []
    }
  ]
}