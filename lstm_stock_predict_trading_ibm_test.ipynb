{
  "nbformat": 4,
  "nbformat_minor": 0,
  "metadata": {
    "colab": {
      "name": "lstm_stock_predict_trading_ibm_test.ipynb",
      "provenance": [],
      "collapsed_sections": [],
      "include_colab_link": true
    },
    "kernelspec": {
      "name": "python3",
      "display_name": "Python 3"
    }
  },
  "cells": [
    {
      "cell_type": "markdown",
      "metadata": {
        "id": "view-in-github",
        "colab_type": "text"
      },
      "source": [
        "<a href=\"https://colab.research.google.com/github/abhinag007/Stock-Money-MLM/blob/master/lstm_stock_predict_trading_ibm_test.ipynb\" target=\"_parent\"><img src=\"https://colab.research.google.com/assets/colab-badge.svg\" alt=\"Open In Colab\"/></a>"
      ]
    },
    {
      "cell_type": "code",
      "metadata": {
        "id": "apJmPMcGlpwI",
        "colab_type": "code",
        "colab": {
          "base_uri": "https://localhost:8080/",
          "height": 72
        },
        "outputId": "7eff48cd-b280-4243-d6cb-4daa48dde649"
      },
      "source": [
        "import math\n",
        "import tensorflow as tf\n",
        "import pandas_datareader.data as web\n",
        "import numpy as np\n",
        "import pandas as pd\n",
        "from sklearn.preprocessing import MinMaxScaler\n",
        "from keras.models import Sequential\n",
        "from keras.layers import Dense, LSTM\n",
        "from keras.layers import Dropout\n",
        "import matplotlib.pyplot as plt\n",
        "from datetime import datetime\n",
        "from datetime import time\n",
        "plt.style.use('fivethirtyeight') "
      ],
      "execution_count": null,
      "outputs": [
        {
          "output_type": "stream",
          "text": [
            "/usr/local/lib/python3.6/dist-packages/pandas_datareader/compat/__init__.py:7: FutureWarning: pandas.util.testing is deprecated. Use the functions in the public API at pandas.testing instead.\n",
            "  from pandas.util.testing import assert_frame_equal\n"
          ],
          "name": "stderr"
        }
      ]
    },
    {
      "cell_type": "code",
      "metadata": {
        "id": "sW8Zj9Hyd6LZ",
        "colab_type": "code",
        "colab": {
          "base_uri": "https://localhost:8080/",
          "height": 592
        },
        "outputId": "1bb2d92a-e488-4f1c-aa06-b9a6ffa3fe9f"
      },
      "source": [
        "pip install alpha_vantage"
      ],
      "execution_count": null,
      "outputs": [
        {
          "output_type": "stream",
          "text": [
            "Collecting alpha_vantage\n",
            "  Downloading https://files.pythonhosted.org/packages/12/e3/72ec32d859a363c2eebaa42e0d4abb5ac7172a7a77a2307576ceb5fc1b42/alpha_vantage-2.2.0.tar.gz\n",
            "Collecting aiohttp\n",
            "\u001b[?25l  Downloading https://files.pythonhosted.org/packages/7c/39/7eb5f98d24904e0f6d3edb505d4aa60e3ef83c0a58d6fe18244a51757247/aiohttp-3.6.2-cp36-cp36m-manylinux1_x86_64.whl (1.2MB)\n",
            "\u001b[K     |████████████████████████████████| 1.2MB 7.8MB/s \n",
            "\u001b[?25hRequirement already satisfied: requests in /usr/local/lib/python3.6/dist-packages (from alpha_vantage) (2.23.0)\n",
            "Collecting yarl<2.0,>=1.0\n",
            "\u001b[?25l  Downloading https://files.pythonhosted.org/packages/a0/b4/2cbeaf2c3ea53865d9613b315fe24e78c66acedb1df7e4be4e064c87203b/yarl-1.5.1-cp36-cp36m-manylinux1_x86_64.whl (257kB)\n",
            "\u001b[K     |████████████████████████████████| 266kB 39.4MB/s \n",
            "\u001b[?25hRequirement already satisfied: typing-extensions>=3.6.5; python_version < \"3.7\" in /usr/local/lib/python3.6/dist-packages (from aiohttp->alpha_vantage) (3.7.4.3)\n",
            "Requirement already satisfied: attrs>=17.3.0 in /usr/local/lib/python3.6/dist-packages (from aiohttp->alpha_vantage) (20.1.0)\n",
            "Collecting async-timeout<4.0,>=3.0\n",
            "  Downloading https://files.pythonhosted.org/packages/e1/1e/5a4441be21b0726c4464f3f23c8b19628372f606755a9d2e46c187e65ec4/async_timeout-3.0.1-py3-none-any.whl\n",
            "Collecting idna-ssl>=1.0; python_version < \"3.7\"\n",
            "  Downloading https://files.pythonhosted.org/packages/46/03/07c4894aae38b0de52b52586b24bf189bb83e4ddabfe2e2c8f2419eec6f4/idna-ssl-1.1.0.tar.gz\n",
            "Requirement already satisfied: chardet<4.0,>=2.0 in /usr/local/lib/python3.6/dist-packages (from aiohttp->alpha_vantage) (3.0.4)\n",
            "Collecting multidict<5.0,>=4.5\n",
            "\u001b[?25l  Downloading https://files.pythonhosted.org/packages/1a/95/f50352b5366e7d579e8b99631680a9e32e1b22adfa1629a8f23b1d22d5e2/multidict-4.7.6-cp36-cp36m-manylinux1_x86_64.whl (148kB)\n",
            "\u001b[K     |████████████████████████████████| 153kB 20.7MB/s \n",
            "\u001b[?25hRequirement already satisfied: certifi>=2017.4.17 in /usr/local/lib/python3.6/dist-packages (from requests->alpha_vantage) (2020.6.20)\n",
            "Requirement already satisfied: idna<3,>=2.5 in /usr/local/lib/python3.6/dist-packages (from requests->alpha_vantage) (2.10)\n",
            "Requirement already satisfied: urllib3!=1.25.0,!=1.25.1,<1.26,>=1.21.1 in /usr/local/lib/python3.6/dist-packages (from requests->alpha_vantage) (1.24.3)\n",
            "Building wheels for collected packages: alpha-vantage, idna-ssl\n",
            "  Building wheel for alpha-vantage (setup.py) ... \u001b[?25l\u001b[?25hdone\n",
            "  Created wheel for alpha-vantage: filename=alpha_vantage-2.2.0-cp36-none-any.whl size=25706 sha256=6abee25f6054653d0b967741e642b2e75a40b9adb5afc26db502bcad5bbb7e6a\n",
            "  Stored in directory: /root/.cache/pip/wheels/3a/fa/05/80b0afcbd2a4de8bd2a0c5cd77084e3d3a9cc12c48be9b7f84\n",
            "  Building wheel for idna-ssl (setup.py) ... \u001b[?25l\u001b[?25hdone\n",
            "  Created wheel for idna-ssl: filename=idna_ssl-1.1.0-cp36-none-any.whl size=3161 sha256=8f2d77584f56475ff6b3fc3e00025a2a290e0cc0de3b9298d481c848c6e63a42\n",
            "  Stored in directory: /root/.cache/pip/wheels/d3/00/b3/32d613e19e08a739751dd6bf998cfed277728f8b2127ad4eb7\n",
            "Successfully built alpha-vantage idna-ssl\n",
            "Installing collected packages: multidict, yarl, async-timeout, idna-ssl, aiohttp, alpha-vantage\n",
            "Successfully installed aiohttp-3.6.2 alpha-vantage-2.2.0 async-timeout-3.0.1 idna-ssl-1.1.0 multidict-4.7.6 yarl-1.5.1\n"
          ],
          "name": "stdout"
        }
      ]
    },
    {
      "cell_type": "code",
      "metadata": {
        "id": "RlnTjHxTeCOY",
        "colab_type": "code",
        "colab": {}
      },
      "source": [
        "api_key = '5LLGMLRK81AS4OEH'"
      ],
      "execution_count": null,
      "outputs": []
    },
    {
      "cell_type": "code",
      "metadata": {
        "id": "mPAvnyLzeB7R",
        "colab_type": "code",
        "colab": {}
      },
      "source": [
        "import pandas as pd\n",
        "from alpha_vantage.timeseries import TimeSeries\n",
        "import time\n",
        "import matplotlib.pyplot as plt\n",
        "from alpha_vantage.foreignexchange import ForeignExchange"
      ],
      "execution_count": null,
      "outputs": []
    },
    {
      "cell_type": "code",
      "metadata": {
        "id": "0AlB7_uOfQs6",
        "colab_type": "code",
        "colab": {}
      },
      "source": [
        "# ts = TimeSeries(key=api_key,output_format='pandas')\n",
        "# df, meta_data = ts.get_daily(symbol='IBM', outputsize='compact')\n",
        "# print(df)"
      ],
      "execution_count": null,
      "outputs": []
    },
    {
      "cell_type": "code",
      "metadata": {
        "id": "yfKdxuL-eBvT",
        "colab_type": "code",
        "colab": {}
      },
      "source": [
        "# cc = ForeignExchange(key = api_key, output_format = 'pandas')\n",
        "# df, meta_data = cc.get_currency_exchange_intraday(from_symbol='GBP', to_symbol='JPY',interval='1min',outputsize='full')\n",
        "# print(df)"
      ],
      "execution_count": null,
      "outputs": []
    },
    {
      "cell_type": "code",
      "metadata": {
        "id": "zOMA72kPmqUa",
        "colab_type": "code",
        "colab": {}
      },
      "source": [
        "# Get the stock quote\n",
        "df = web.DataReader('TATAMOTORS.NS', data_source='yahoo',start = '2000-01-25', end = '2020-8-15')"
      ],
      "execution_count": null,
      "outputs": []
    },
    {
      "cell_type": "code",
      "metadata": {
        "id": "WLKYJsm6eBi2",
        "colab_type": "code",
        "colab": {
          "base_uri": "https://localhost:8080/",
          "height": 446
        },
        "outputId": "9ecea8a7-2f5a-463f-98d7-679d911e87c7"
      },
      "source": [
        "# df = df[::-1]\n",
        "df"
      ],
      "execution_count": null,
      "outputs": [
        {
          "output_type": "execute_result",
          "data": {
            "text/html": [
              "<div>\n",
              "<style scoped>\n",
              "    .dataframe tbody tr th:only-of-type {\n",
              "        vertical-align: middle;\n",
              "    }\n",
              "\n",
              "    .dataframe tbody tr th {\n",
              "        vertical-align: top;\n",
              "    }\n",
              "\n",
              "    .dataframe thead th {\n",
              "        text-align: right;\n",
              "    }\n",
              "</style>\n",
              "<table border=\"1\" class=\"dataframe\">\n",
              "  <thead>\n",
              "    <tr style=\"text-align: right;\">\n",
              "      <th></th>\n",
              "      <th>High</th>\n",
              "      <th>Low</th>\n",
              "      <th>Open</th>\n",
              "      <th>Close</th>\n",
              "      <th>Volume</th>\n",
              "      <th>Adj Close</th>\n",
              "    </tr>\n",
              "    <tr>\n",
              "      <th>Date</th>\n",
              "      <th></th>\n",
              "      <th></th>\n",
              "      <th></th>\n",
              "      <th></th>\n",
              "      <th></th>\n",
              "      <th></th>\n",
              "    </tr>\n",
              "  </thead>\n",
              "  <tbody>\n",
              "    <tr>\n",
              "      <th>2000-01-25</th>\n",
              "      <td>39.265099</td>\n",
              "      <td>37.674599</td>\n",
              "      <td>38.393200</td>\n",
              "      <td>37.674599</td>\n",
              "      <td>3684803.0</td>\n",
              "      <td>12.184047</td>\n",
              "    </tr>\n",
              "    <tr>\n",
              "      <th>2000-01-27</th>\n",
              "      <td>36.984699</td>\n",
              "      <td>34.666000</td>\n",
              "      <td>36.409801</td>\n",
              "      <td>34.666000</td>\n",
              "      <td>9020094.0</td>\n",
              "      <td>11.211061</td>\n",
              "    </tr>\n",
              "    <tr>\n",
              "      <th>2000-01-28</th>\n",
              "      <td>34.876801</td>\n",
              "      <td>32.261002</td>\n",
              "      <td>32.768799</td>\n",
              "      <td>33.573700</td>\n",
              "      <td>13942904.0</td>\n",
              "      <td>10.857810</td>\n",
              "    </tr>\n",
              "    <tr>\n",
              "      <th>2000-01-31</th>\n",
              "      <td>36.160702</td>\n",
              "      <td>32.586800</td>\n",
              "      <td>32.797600</td>\n",
              "      <td>34.436001</td>\n",
              "      <td>14875954.0</td>\n",
              "      <td>11.136679</td>\n",
              "    </tr>\n",
              "    <tr>\n",
              "      <th>2000-02-01</th>\n",
              "      <td>35.432499</td>\n",
              "      <td>32.979599</td>\n",
              "      <td>34.474300</td>\n",
              "      <td>33.592800</td>\n",
              "      <td>6294485.0</td>\n",
              "      <td>10.863985</td>\n",
              "    </tr>\n",
              "    <tr>\n",
              "      <th>...</th>\n",
              "      <td>...</td>\n",
              "      <td>...</td>\n",
              "      <td>...</td>\n",
              "      <td>...</td>\n",
              "      <td>...</td>\n",
              "      <td>...</td>\n",
              "    </tr>\n",
              "    <tr>\n",
              "      <th>2020-08-10</th>\n",
              "      <td>124.699997</td>\n",
              "      <td>119.699997</td>\n",
              "      <td>119.949997</td>\n",
              "      <td>123.849998</td>\n",
              "      <td>71093810.0</td>\n",
              "      <td>123.849998</td>\n",
              "    </tr>\n",
              "    <tr>\n",
              "      <th>2020-08-11</th>\n",
              "      <td>125.800003</td>\n",
              "      <td>121.400002</td>\n",
              "      <td>125.000000</td>\n",
              "      <td>122.300003</td>\n",
              "      <td>50224665.0</td>\n",
              "      <td>122.300003</td>\n",
              "    </tr>\n",
              "    <tr>\n",
              "      <th>2020-08-12</th>\n",
              "      <td>126.400002</td>\n",
              "      <td>120.599998</td>\n",
              "      <td>121.000000</td>\n",
              "      <td>125.349998</td>\n",
              "      <td>50713617.0</td>\n",
              "      <td>125.349998</td>\n",
              "    </tr>\n",
              "    <tr>\n",
              "      <th>2020-08-13</th>\n",
              "      <td>131.899994</td>\n",
              "      <td>124.400002</td>\n",
              "      <td>126.099998</td>\n",
              "      <td>131.149994</td>\n",
              "      <td>95489249.0</td>\n",
              "      <td>131.149994</td>\n",
              "    </tr>\n",
              "    <tr>\n",
              "      <th>2020-08-14</th>\n",
              "      <td>132.649994</td>\n",
              "      <td>123.699997</td>\n",
              "      <td>131.149994</td>\n",
              "      <td>124.599998</td>\n",
              "      <td>75032834.0</td>\n",
              "      <td>124.599998</td>\n",
              "    </tr>\n",
              "  </tbody>\n",
              "</table>\n",
              "<p>5080 rows × 6 columns</p>\n",
              "</div>"
            ],
            "text/plain": [
              "                  High         Low  ...      Volume   Adj Close\n",
              "Date                                ...                        \n",
              "2000-01-25   39.265099   37.674599  ...   3684803.0   12.184047\n",
              "2000-01-27   36.984699   34.666000  ...   9020094.0   11.211061\n",
              "2000-01-28   34.876801   32.261002  ...  13942904.0   10.857810\n",
              "2000-01-31   36.160702   32.586800  ...  14875954.0   11.136679\n",
              "2000-02-01   35.432499   32.979599  ...   6294485.0   10.863985\n",
              "...                ...         ...  ...         ...         ...\n",
              "2020-08-10  124.699997  119.699997  ...  71093810.0  123.849998\n",
              "2020-08-11  125.800003  121.400002  ...  50224665.0  122.300003\n",
              "2020-08-12  126.400002  120.599998  ...  50713617.0  125.349998\n",
              "2020-08-13  131.899994  124.400002  ...  95489249.0  131.149994\n",
              "2020-08-14  132.649994  123.699997  ...  75032834.0  124.599998\n",
              "\n",
              "[5080 rows x 6 columns]"
            ]
          },
          "metadata": {
            "tags": []
          },
          "execution_count": 8
        }
      ]
    },
    {
      "cell_type": "code",
      "metadata": {
        "id": "UdrFnTqS9qTt",
        "colab_type": "code",
        "colab": {
          "base_uri": "https://localhost:8080/",
          "height": 446
        },
        "outputId": "b3e7ed21-8c6e-4134-fcb0-5823ceca40ec"
      },
      "source": [
        "df"
      ],
      "execution_count": null,
      "outputs": [
        {
          "output_type": "execute_result",
          "data": {
            "text/html": [
              "<div>\n",
              "<style scoped>\n",
              "    .dataframe tbody tr th:only-of-type {\n",
              "        vertical-align: middle;\n",
              "    }\n",
              "\n",
              "    .dataframe tbody tr th {\n",
              "        vertical-align: top;\n",
              "    }\n",
              "\n",
              "    .dataframe thead th {\n",
              "        text-align: right;\n",
              "    }\n",
              "</style>\n",
              "<table border=\"1\" class=\"dataframe\">\n",
              "  <thead>\n",
              "    <tr style=\"text-align: right;\">\n",
              "      <th></th>\n",
              "      <th>High</th>\n",
              "      <th>Low</th>\n",
              "      <th>Open</th>\n",
              "      <th>Close</th>\n",
              "      <th>Volume</th>\n",
              "      <th>Adj Close</th>\n",
              "    </tr>\n",
              "    <tr>\n",
              "      <th>Date</th>\n",
              "      <th></th>\n",
              "      <th></th>\n",
              "      <th></th>\n",
              "      <th></th>\n",
              "      <th></th>\n",
              "      <th></th>\n",
              "    </tr>\n",
              "  </thead>\n",
              "  <tbody>\n",
              "    <tr>\n",
              "      <th>2000-01-25</th>\n",
              "      <td>39.265099</td>\n",
              "      <td>37.674599</td>\n",
              "      <td>38.393200</td>\n",
              "      <td>37.674599</td>\n",
              "      <td>3684803.0</td>\n",
              "      <td>12.184047</td>\n",
              "    </tr>\n",
              "    <tr>\n",
              "      <th>2000-01-27</th>\n",
              "      <td>36.984699</td>\n",
              "      <td>34.666000</td>\n",
              "      <td>36.409801</td>\n",
              "      <td>34.666000</td>\n",
              "      <td>9020094.0</td>\n",
              "      <td>11.211061</td>\n",
              "    </tr>\n",
              "    <tr>\n",
              "      <th>2000-01-28</th>\n",
              "      <td>34.876801</td>\n",
              "      <td>32.261002</td>\n",
              "      <td>32.768799</td>\n",
              "      <td>33.573700</td>\n",
              "      <td>13942904.0</td>\n",
              "      <td>10.857810</td>\n",
              "    </tr>\n",
              "    <tr>\n",
              "      <th>2000-01-31</th>\n",
              "      <td>36.160702</td>\n",
              "      <td>32.586800</td>\n",
              "      <td>32.797600</td>\n",
              "      <td>34.436001</td>\n",
              "      <td>14875954.0</td>\n",
              "      <td>11.136679</td>\n",
              "    </tr>\n",
              "    <tr>\n",
              "      <th>2000-02-01</th>\n",
              "      <td>35.432499</td>\n",
              "      <td>32.979599</td>\n",
              "      <td>34.474300</td>\n",
              "      <td>33.592800</td>\n",
              "      <td>6294485.0</td>\n",
              "      <td>10.863985</td>\n",
              "    </tr>\n",
              "    <tr>\n",
              "      <th>...</th>\n",
              "      <td>...</td>\n",
              "      <td>...</td>\n",
              "      <td>...</td>\n",
              "      <td>...</td>\n",
              "      <td>...</td>\n",
              "      <td>...</td>\n",
              "    </tr>\n",
              "    <tr>\n",
              "      <th>2020-08-10</th>\n",
              "      <td>124.699997</td>\n",
              "      <td>119.699997</td>\n",
              "      <td>119.949997</td>\n",
              "      <td>123.849998</td>\n",
              "      <td>71093810.0</td>\n",
              "      <td>123.849998</td>\n",
              "    </tr>\n",
              "    <tr>\n",
              "      <th>2020-08-11</th>\n",
              "      <td>125.800003</td>\n",
              "      <td>121.400002</td>\n",
              "      <td>125.000000</td>\n",
              "      <td>122.300003</td>\n",
              "      <td>50224665.0</td>\n",
              "      <td>122.300003</td>\n",
              "    </tr>\n",
              "    <tr>\n",
              "      <th>2020-08-12</th>\n",
              "      <td>126.400002</td>\n",
              "      <td>120.599998</td>\n",
              "      <td>121.000000</td>\n",
              "      <td>125.349998</td>\n",
              "      <td>50713617.0</td>\n",
              "      <td>125.349998</td>\n",
              "    </tr>\n",
              "    <tr>\n",
              "      <th>2020-08-13</th>\n",
              "      <td>131.899994</td>\n",
              "      <td>124.400002</td>\n",
              "      <td>126.099998</td>\n",
              "      <td>131.149994</td>\n",
              "      <td>95489249.0</td>\n",
              "      <td>131.149994</td>\n",
              "    </tr>\n",
              "    <tr>\n",
              "      <th>2020-08-14</th>\n",
              "      <td>132.649994</td>\n",
              "      <td>123.699997</td>\n",
              "      <td>131.149994</td>\n",
              "      <td>124.599998</td>\n",
              "      <td>75032834.0</td>\n",
              "      <td>124.599998</td>\n",
              "    </tr>\n",
              "  </tbody>\n",
              "</table>\n",
              "<p>5080 rows × 6 columns</p>\n",
              "</div>"
            ],
            "text/plain": [
              "                  High         Low  ...      Volume   Adj Close\n",
              "Date                                ...                        \n",
              "2000-01-25   39.265099   37.674599  ...   3684803.0   12.184047\n",
              "2000-01-27   36.984699   34.666000  ...   9020094.0   11.211061\n",
              "2000-01-28   34.876801   32.261002  ...  13942904.0   10.857810\n",
              "2000-01-31   36.160702   32.586800  ...  14875954.0   11.136679\n",
              "2000-02-01   35.432499   32.979599  ...   6294485.0   10.863985\n",
              "...                ...         ...  ...         ...         ...\n",
              "2020-08-10  124.699997  119.699997  ...  71093810.0  123.849998\n",
              "2020-08-11  125.800003  121.400002  ...  50224665.0  122.300003\n",
              "2020-08-12  126.400002  120.599998  ...  50713617.0  125.349998\n",
              "2020-08-13  131.899994  124.400002  ...  95489249.0  131.149994\n",
              "2020-08-14  132.649994  123.699997  ...  75032834.0  124.599998\n",
              "\n",
              "[5080 rows x 6 columns]"
            ]
          },
          "metadata": {
            "tags": []
          },
          "execution_count": 9
        }
      ]
    },
    {
      "cell_type": "code",
      "metadata": {
        "id": "CKzQZaqRnR3F",
        "colab_type": "code",
        "colab": {}
      },
      "source": [
        "#show the data\n",
        "df['Date'] = df.index"
      ],
      "execution_count": null,
      "outputs": []
    },
    {
      "cell_type": "code",
      "metadata": {
        "id": "UTWfkYTxdpOx",
        "colab_type": "code",
        "colab": {}
      },
      "source": [
        "# sum_column = (df[\"2. high\"] + df[\"3. low\"])/2\n",
        "# df[\"avg\"] = sum_column"
      ],
      "execution_count": null,
      "outputs": []
    },
    {
      "cell_type": "code",
      "metadata": {
        "id": "ALCXElU2uJ1X",
        "colab_type": "code",
        "colab": {
          "base_uri": "https://localhost:8080/",
          "height": 999
        },
        "outputId": "a5cd6711-1c7c-4fb6-b62e-6f90001d72f6"
      },
      "source": [
        "df.tail(30)"
      ],
      "execution_count": null,
      "outputs": [
        {
          "output_type": "execute_result",
          "data": {
            "text/html": [
              "<div>\n",
              "<style scoped>\n",
              "    .dataframe tbody tr th:only-of-type {\n",
              "        vertical-align: middle;\n",
              "    }\n",
              "\n",
              "    .dataframe tbody tr th {\n",
              "        vertical-align: top;\n",
              "    }\n",
              "\n",
              "    .dataframe thead th {\n",
              "        text-align: right;\n",
              "    }\n",
              "</style>\n",
              "<table border=\"1\" class=\"dataframe\">\n",
              "  <thead>\n",
              "    <tr style=\"text-align: right;\">\n",
              "      <th></th>\n",
              "      <th>High</th>\n",
              "      <th>Low</th>\n",
              "      <th>Open</th>\n",
              "      <th>Close</th>\n",
              "      <th>Volume</th>\n",
              "      <th>Adj Close</th>\n",
              "      <th>Date</th>\n",
              "    </tr>\n",
              "    <tr>\n",
              "      <th>Date</th>\n",
              "      <th></th>\n",
              "      <th></th>\n",
              "      <th></th>\n",
              "      <th></th>\n",
              "      <th></th>\n",
              "      <th></th>\n",
              "      <th></th>\n",
              "    </tr>\n",
              "  </thead>\n",
              "  <tbody>\n",
              "    <tr>\n",
              "      <th>2020-07-06</th>\n",
              "      <td>109.900002</td>\n",
              "      <td>104.500000</td>\n",
              "      <td>105.000000</td>\n",
              "      <td>109.000000</td>\n",
              "      <td>91970198.0</td>\n",
              "      <td>109.000000</td>\n",
              "      <td>2020-07-06</td>\n",
              "    </tr>\n",
              "    <tr>\n",
              "      <th>2020-07-07</th>\n",
              "      <td>112.599998</td>\n",
              "      <td>108.050003</td>\n",
              "      <td>109.800003</td>\n",
              "      <td>109.050003</td>\n",
              "      <td>85835716.0</td>\n",
              "      <td>109.050003</td>\n",
              "      <td>2020-07-07</td>\n",
              "    </tr>\n",
              "    <tr>\n",
              "      <th>2020-07-08</th>\n",
              "      <td>110.849998</td>\n",
              "      <td>104.199997</td>\n",
              "      <td>109.500000</td>\n",
              "      <td>105.349998</td>\n",
              "      <td>55887256.0</td>\n",
              "      <td>105.349998</td>\n",
              "      <td>2020-07-08</td>\n",
              "    </tr>\n",
              "    <tr>\n",
              "      <th>2020-07-09</th>\n",
              "      <td>108.949997</td>\n",
              "      <td>104.650002</td>\n",
              "      <td>106.300003</td>\n",
              "      <td>106.949997</td>\n",
              "      <td>54492650.0</td>\n",
              "      <td>106.949997</td>\n",
              "      <td>2020-07-09</td>\n",
              "    </tr>\n",
              "    <tr>\n",
              "      <th>2020-07-10</th>\n",
              "      <td>108.599998</td>\n",
              "      <td>105.400002</td>\n",
              "      <td>106.699997</td>\n",
              "      <td>107.599998</td>\n",
              "      <td>64694173.0</td>\n",
              "      <td>107.599998</td>\n",
              "      <td>2020-07-10</td>\n",
              "    </tr>\n",
              "    <tr>\n",
              "      <th>2020-07-13</th>\n",
              "      <td>112.099998</td>\n",
              "      <td>106.849998</td>\n",
              "      <td>108.849998</td>\n",
              "      <td>108.000000</td>\n",
              "      <td>81893001.0</td>\n",
              "      <td>108.000000</td>\n",
              "      <td>2020-07-13</td>\n",
              "    </tr>\n",
              "    <tr>\n",
              "      <th>2020-07-14</th>\n",
              "      <td>107.550003</td>\n",
              "      <td>104.099998</td>\n",
              "      <td>106.900002</td>\n",
              "      <td>105.150002</td>\n",
              "      <td>46924623.0</td>\n",
              "      <td>105.150002</td>\n",
              "      <td>2020-07-14</td>\n",
              "    </tr>\n",
              "    <tr>\n",
              "      <th>2020-07-15</th>\n",
              "      <td>106.800003</td>\n",
              "      <td>102.500000</td>\n",
              "      <td>106.800003</td>\n",
              "      <td>103.199997</td>\n",
              "      <td>49687046.0</td>\n",
              "      <td>103.199997</td>\n",
              "      <td>2020-07-15</td>\n",
              "    </tr>\n",
              "    <tr>\n",
              "      <th>2020-07-16</th>\n",
              "      <td>103.949997</td>\n",
              "      <td>100.599998</td>\n",
              "      <td>103.949997</td>\n",
              "      <td>102.949997</td>\n",
              "      <td>44333785.0</td>\n",
              "      <td>102.949997</td>\n",
              "      <td>2020-07-16</td>\n",
              "    </tr>\n",
              "    <tr>\n",
              "      <th>2020-07-17</th>\n",
              "      <td>106.949997</td>\n",
              "      <td>103.300003</td>\n",
              "      <td>103.650002</td>\n",
              "      <td>106.400002</td>\n",
              "      <td>42080157.0</td>\n",
              "      <td>106.400002</td>\n",
              "      <td>2020-07-17</td>\n",
              "    </tr>\n",
              "    <tr>\n",
              "      <th>2020-07-20</th>\n",
              "      <td>106.349998</td>\n",
              "      <td>103.849998</td>\n",
              "      <td>106.349998</td>\n",
              "      <td>105.050003</td>\n",
              "      <td>39786731.0</td>\n",
              "      <td>105.050003</td>\n",
              "      <td>2020-07-20</td>\n",
              "    </tr>\n",
              "    <tr>\n",
              "      <th>2020-07-21</th>\n",
              "      <td>109.699997</td>\n",
              "      <td>105.500000</td>\n",
              "      <td>106.000000</td>\n",
              "      <td>108.449997</td>\n",
              "      <td>66008143.0</td>\n",
              "      <td>108.449997</td>\n",
              "      <td>2020-07-21</td>\n",
              "    </tr>\n",
              "    <tr>\n",
              "      <th>2020-07-22</th>\n",
              "      <td>109.750000</td>\n",
              "      <td>104.250000</td>\n",
              "      <td>108.500000</td>\n",
              "      <td>105.150002</td>\n",
              "      <td>50735592.0</td>\n",
              "      <td>105.150002</td>\n",
              "      <td>2020-07-22</td>\n",
              "    </tr>\n",
              "    <tr>\n",
              "      <th>2020-07-23</th>\n",
              "      <td>106.449997</td>\n",
              "      <td>104.699997</td>\n",
              "      <td>105.449997</td>\n",
              "      <td>106.050003</td>\n",
              "      <td>30722413.0</td>\n",
              "      <td>106.050003</td>\n",
              "      <td>2020-07-23</td>\n",
              "    </tr>\n",
              "    <tr>\n",
              "      <th>2020-07-24</th>\n",
              "      <td>105.500000</td>\n",
              "      <td>102.699997</td>\n",
              "      <td>104.699997</td>\n",
              "      <td>103.750000</td>\n",
              "      <td>39363520.0</td>\n",
              "      <td>103.750000</td>\n",
              "      <td>2020-07-24</td>\n",
              "    </tr>\n",
              "    <tr>\n",
              "      <th>2020-07-27</th>\n",
              "      <td>104.500000</td>\n",
              "      <td>101.300003</td>\n",
              "      <td>104.000000</td>\n",
              "      <td>101.699997</td>\n",
              "      <td>29644533.0</td>\n",
              "      <td>101.699997</td>\n",
              "      <td>2020-07-27</td>\n",
              "    </tr>\n",
              "    <tr>\n",
              "      <th>2020-07-28</th>\n",
              "      <td>107.199997</td>\n",
              "      <td>102.000000</td>\n",
              "      <td>102.300003</td>\n",
              "      <td>106.449997</td>\n",
              "      <td>64271161.0</td>\n",
              "      <td>106.449997</td>\n",
              "      <td>2020-07-28</td>\n",
              "    </tr>\n",
              "    <tr>\n",
              "      <th>2020-07-29</th>\n",
              "      <td>108.750000</td>\n",
              "      <td>104.849998</td>\n",
              "      <td>108.099998</td>\n",
              "      <td>105.750000</td>\n",
              "      <td>44561639.0</td>\n",
              "      <td>105.750000</td>\n",
              "      <td>2020-07-29</td>\n",
              "    </tr>\n",
              "    <tr>\n",
              "      <th>2020-07-30</th>\n",
              "      <td>106.750000</td>\n",
              "      <td>102.849998</td>\n",
              "      <td>106.400002</td>\n",
              "      <td>103.650002</td>\n",
              "      <td>33378340.0</td>\n",
              "      <td>103.650002</td>\n",
              "      <td>2020-07-30</td>\n",
              "    </tr>\n",
              "    <tr>\n",
              "      <th>2020-07-31</th>\n",
              "      <td>105.400002</td>\n",
              "      <td>102.300003</td>\n",
              "      <td>104.000000</td>\n",
              "      <td>104.650002</td>\n",
              "      <td>33809018.0</td>\n",
              "      <td>104.650002</td>\n",
              "      <td>2020-07-31</td>\n",
              "    </tr>\n",
              "    <tr>\n",
              "      <th>2020-08-03</th>\n",
              "      <td>114.400002</td>\n",
              "      <td>102.900002</td>\n",
              "      <td>103.000000</td>\n",
              "      <td>113.050003</td>\n",
              "      <td>194765344.0</td>\n",
              "      <td>113.050003</td>\n",
              "      <td>2020-08-03</td>\n",
              "    </tr>\n",
              "    <tr>\n",
              "      <th>2020-08-04</th>\n",
              "      <td>115.099998</td>\n",
              "      <td>110.800003</td>\n",
              "      <td>112.949997</td>\n",
              "      <td>111.449997</td>\n",
              "      <td>95906477.0</td>\n",
              "      <td>111.449997</td>\n",
              "      <td>2020-08-04</td>\n",
              "    </tr>\n",
              "    <tr>\n",
              "      <th>2020-08-05</th>\n",
              "      <td>117.650002</td>\n",
              "      <td>112.000000</td>\n",
              "      <td>112.400002</td>\n",
              "      <td>115.400002</td>\n",
              "      <td>99371050.0</td>\n",
              "      <td>115.400002</td>\n",
              "      <td>2020-08-05</td>\n",
              "    </tr>\n",
              "    <tr>\n",
              "      <th>2020-08-06</th>\n",
              "      <td>117.699997</td>\n",
              "      <td>115.500000</td>\n",
              "      <td>116.199997</td>\n",
              "      <td>116.800003</td>\n",
              "      <td>60092530.0</td>\n",
              "      <td>116.800003</td>\n",
              "      <td>2020-08-06</td>\n",
              "    </tr>\n",
              "    <tr>\n",
              "      <th>2020-08-07</th>\n",
              "      <td>119.699997</td>\n",
              "      <td>116.000000</td>\n",
              "      <td>117.000000</td>\n",
              "      <td>119.099998</td>\n",
              "      <td>56489390.0</td>\n",
              "      <td>119.099998</td>\n",
              "      <td>2020-08-07</td>\n",
              "    </tr>\n",
              "    <tr>\n",
              "      <th>2020-08-10</th>\n",
              "      <td>124.699997</td>\n",
              "      <td>119.699997</td>\n",
              "      <td>119.949997</td>\n",
              "      <td>123.849998</td>\n",
              "      <td>71093810.0</td>\n",
              "      <td>123.849998</td>\n",
              "      <td>2020-08-10</td>\n",
              "    </tr>\n",
              "    <tr>\n",
              "      <th>2020-08-11</th>\n",
              "      <td>125.800003</td>\n",
              "      <td>121.400002</td>\n",
              "      <td>125.000000</td>\n",
              "      <td>122.300003</td>\n",
              "      <td>50224665.0</td>\n",
              "      <td>122.300003</td>\n",
              "      <td>2020-08-11</td>\n",
              "    </tr>\n",
              "    <tr>\n",
              "      <th>2020-08-12</th>\n",
              "      <td>126.400002</td>\n",
              "      <td>120.599998</td>\n",
              "      <td>121.000000</td>\n",
              "      <td>125.349998</td>\n",
              "      <td>50713617.0</td>\n",
              "      <td>125.349998</td>\n",
              "      <td>2020-08-12</td>\n",
              "    </tr>\n",
              "    <tr>\n",
              "      <th>2020-08-13</th>\n",
              "      <td>131.899994</td>\n",
              "      <td>124.400002</td>\n",
              "      <td>126.099998</td>\n",
              "      <td>131.149994</td>\n",
              "      <td>95489249.0</td>\n",
              "      <td>131.149994</td>\n",
              "      <td>2020-08-13</td>\n",
              "    </tr>\n",
              "    <tr>\n",
              "      <th>2020-08-14</th>\n",
              "      <td>132.649994</td>\n",
              "      <td>123.699997</td>\n",
              "      <td>131.149994</td>\n",
              "      <td>124.599998</td>\n",
              "      <td>75032834.0</td>\n",
              "      <td>124.599998</td>\n",
              "      <td>2020-08-14</td>\n",
              "    </tr>\n",
              "  </tbody>\n",
              "</table>\n",
              "</div>"
            ],
            "text/plain": [
              "                  High         Low  ...   Adj Close       Date\n",
              "Date                                ...                       \n",
              "2020-07-06  109.900002  104.500000  ...  109.000000 2020-07-06\n",
              "2020-07-07  112.599998  108.050003  ...  109.050003 2020-07-07\n",
              "2020-07-08  110.849998  104.199997  ...  105.349998 2020-07-08\n",
              "2020-07-09  108.949997  104.650002  ...  106.949997 2020-07-09\n",
              "2020-07-10  108.599998  105.400002  ...  107.599998 2020-07-10\n",
              "2020-07-13  112.099998  106.849998  ...  108.000000 2020-07-13\n",
              "2020-07-14  107.550003  104.099998  ...  105.150002 2020-07-14\n",
              "2020-07-15  106.800003  102.500000  ...  103.199997 2020-07-15\n",
              "2020-07-16  103.949997  100.599998  ...  102.949997 2020-07-16\n",
              "2020-07-17  106.949997  103.300003  ...  106.400002 2020-07-17\n",
              "2020-07-20  106.349998  103.849998  ...  105.050003 2020-07-20\n",
              "2020-07-21  109.699997  105.500000  ...  108.449997 2020-07-21\n",
              "2020-07-22  109.750000  104.250000  ...  105.150002 2020-07-22\n",
              "2020-07-23  106.449997  104.699997  ...  106.050003 2020-07-23\n",
              "2020-07-24  105.500000  102.699997  ...  103.750000 2020-07-24\n",
              "2020-07-27  104.500000  101.300003  ...  101.699997 2020-07-27\n",
              "2020-07-28  107.199997  102.000000  ...  106.449997 2020-07-28\n",
              "2020-07-29  108.750000  104.849998  ...  105.750000 2020-07-29\n",
              "2020-07-30  106.750000  102.849998  ...  103.650002 2020-07-30\n",
              "2020-07-31  105.400002  102.300003  ...  104.650002 2020-07-31\n",
              "2020-08-03  114.400002  102.900002  ...  113.050003 2020-08-03\n",
              "2020-08-04  115.099998  110.800003  ...  111.449997 2020-08-04\n",
              "2020-08-05  117.650002  112.000000  ...  115.400002 2020-08-05\n",
              "2020-08-06  117.699997  115.500000  ...  116.800003 2020-08-06\n",
              "2020-08-07  119.699997  116.000000  ...  119.099998 2020-08-07\n",
              "2020-08-10  124.699997  119.699997  ...  123.849998 2020-08-10\n",
              "2020-08-11  125.800003  121.400002  ...  122.300003 2020-08-11\n",
              "2020-08-12  126.400002  120.599998  ...  125.349998 2020-08-12\n",
              "2020-08-13  131.899994  124.400002  ...  131.149994 2020-08-13\n",
              "2020-08-14  132.649994  123.699997  ...  124.599998 2020-08-14\n",
              "\n",
              "[30 rows x 7 columns]"
            ]
          },
          "metadata": {
            "tags": []
          },
          "execution_count": 12
        }
      ]
    },
    {
      "cell_type": "code",
      "metadata": {
        "id": "Wf68KJAlnbDI",
        "colab_type": "code",
        "colab": {
          "base_uri": "https://localhost:8080/",
          "height": 35
        },
        "outputId": "39c610cf-12bb-4df3-ce17-97f92487e304"
      },
      "source": [
        "#Get number of rows and colomns in datasets\n",
        "df.shape"
      ],
      "execution_count": null,
      "outputs": [
        {
          "output_type": "execute_result",
          "data": {
            "text/plain": [
              "(5080, 7)"
            ]
          },
          "metadata": {
            "tags": []
          },
          "execution_count": 13
        }
      ]
    },
    {
      "cell_type": "code",
      "metadata": {
        "id": "qRU7fuU5pyzl",
        "colab_type": "code",
        "colab": {
          "base_uri": "https://localhost:8080/",
          "height": 301
        },
        "outputId": "c7e92b78-19f5-48fe-a2f2-f1c971e6a838"
      },
      "source": [
        "# Close price history\n",
        "plt.figure(figsize=(16,4))\n",
        "plt.title('Close Price History')\n",
        "plt.plot(df['Adj Close'],);\n",
        "plt.xlabel('Date', fontsize=18)\n",
        "plt.ylabel('Close price USD($)', fontsize = 18)\n",
        "plt.show()"
      ],
      "execution_count": null,
      "outputs": [
        {
          "output_type": "display_data",
          "data": {
            "image/png": "[encoded data removed]",
            "text/plain": [
              "<Figure size 1152x288 with 1 Axes>"
            ]
          },
          "metadata": {
            "tags": [],
            "needs_background": "light"
          }
        }
      ]
    },
    {
      "cell_type": "code",
      "metadata": {
        "id": "-rVlC095qXQx",
        "colab_type": "code",
        "colab": {
          "base_uri": "https://localhost:8080/",
          "height": 35
        },
        "outputId": "8d23a005-71b0-4894-88f7-6b1660dadd55"
      },
      "source": [
        "# Create new dataframe with only close coloumn\n",
        "data = df.filter(['Adj Close'])\n",
        "# Convert dataframe to numpy array\n",
        "dataset = data.values\n",
        "# Get the number of rows to train the model on\n",
        "training_data_len = math.ceil( len(dataset) * 0.999)\n",
        "\n",
        "training_data_len"
      ],
      "execution_count": null,
      "outputs": [
        {
          "output_type": "execute_result",
          "data": {
            "text/plain": [
              "5075"
            ]
          },
          "metadata": {
            "tags": []
          },
          "execution_count": 15
        }
      ]
    },
    {
      "cell_type": "code",
      "metadata": {
        "id": "054BIqTuvqM9",
        "colab_type": "code",
        "colab": {
          "base_uri": "https://localhost:8080/",
          "height": 139
        },
        "outputId": "ae2c1a7b-7c84-40df-c5d4-e76c123d965c"
      },
      "source": [
        "# Scale the data\n",
        "scaler = MinMaxScaler(feature_range=(0,1))\n",
        "scaled_data = scaler.fit_transform(dataset)\n",
        "\n",
        "scaled_data"
      ],
      "execution_count": null,
      "outputs": [
        {
          "output_type": "execute_result",
          "data": {
            "text/plain": [
              "array([[0.01373582],\n",
              "       [0.01209742],\n",
              "       [0.01150259],\n",
              "       ...,\n",
              "       [0.20429419],\n",
              "       [0.21406071],\n",
              "       [0.20303128]])"
            ]
          },
          "metadata": {
            "tags": []
          },
          "execution_count": 16
        }
      ]
    },
    {
      "cell_type": "code",
      "metadata": {
        "id": "TpFHvI_owSV5",
        "colab_type": "code",
        "colab": {
          "base_uri": "https://localhost:8080/",
          "height": 260
        },
        "outputId": "12d6241a-055f-4013-d697-6fd6daa108ce"
      },
      "source": [
        "# Create training datasets\n",
        "# Create the scaled training datasets\n",
        "train_data = scaled_data[0:training_data_len,:]\n",
        "# Slit x_train and y_train datasets\n",
        "x_train = []\n",
        "y_train = []\n",
        "for i in range(60,len(train_data)):\n",
        "  x_train.append(train_data[i-60:i,0])\n",
        "  y_train.append(train_data[i,0])\n",
        "  if i<=60:\n",
        "    print(x_train)\n",
        "    print(y_train)\n",
        "    print() "
      ],
      "execution_count": null,
      "outputs": [
        {
          "output_type": "stream",
          "text": [
            "[array([0.01373582, 0.01209742, 0.01150259, 0.01197217, 0.01151299,\n",
            "       0.01201394, 0.01172695, 0.01189392, 0.01177389, 0.01206612,\n",
            "       0.01238441, 0.01211828, 0.01093384, 0.00968677, 0.01052165,\n",
            "       0.01042248, 0.01057905, 0.00931107, 0.01059991, 0.01199303,\n",
            "       0.01075642, 0.01098601, 0.0123061 , 0.01211305, 0.01060513,\n",
            "       0.00966591, 0.00853886, 0.00731788, 0.00769881, 0.00700481,\n",
            "       0.00652476, 0.00758919, 0.00672305, 0.00577859, 0.00678567,\n",
            "       0.00732834, 0.00839276, 0.00882585, 0.00851278, 0.00743268,\n",
            "       0.00733351, 0.00734396, 0.00715092, 0.00729703, 0.00644651,\n",
            "       0.00744308, 0.00811099, 0.00692132, 0.00715614, 0.00665002,\n",
            "       0.00770398, 0.00779269, 0.00761527, 0.00733351, 0.00668133,\n",
            "       0.0069735 , 0.0059143 , 0.00621692, 0.00602387, 0.00633694])]\n",
            "[0.0065195395726124275]\n",
            "\n"
          ],
          "name": "stdout"
        }
      ]
    },
    {
      "cell_type": "code",
      "metadata": {
        "id": "i9wytjq9xqI8",
        "colab_type": "code",
        "colab": {}
      },
      "source": [
        "# convert x_train y_train to numpy arrays\n",
        "x_train, y_train = np.array(x_train), np.array(y_train)"
      ],
      "execution_count": null,
      "outputs": []
    },
    {
      "cell_type": "code",
      "metadata": {
        "id": "kPm9qFun1Yyh",
        "colab_type": "code",
        "colab": {}
      },
      "source": [
        "# Reshape the data\n",
        "x_train = np.reshape(x_train,(x_train.shape[0], x_train.shape[1],1))"
      ],
      "execution_count": null,
      "outputs": []
    },
    {
      "cell_type": "code",
      "metadata": {
        "id": "dGrZWEmC7QQa",
        "colab_type": "code",
        "colab": {
          "base_uri": "https://localhost:8080/",
          "height": 35
        },
        "outputId": "e4c2c9ed-3d7f-42ce-c39a-80a882b94603"
      },
      "source": [
        "x_train.shape"
      ],
      "execution_count": null,
      "outputs": [
        {
          "output_type": "execute_result",
          "data": {
            "text/plain": [
              "(5015, 60, 1)"
            ]
          },
          "metadata": {
            "tags": []
          },
          "execution_count": 20
        }
      ]
    },
    {
      "cell_type": "code",
      "metadata": {
        "id": "YphvzrAL1nXb",
        "colab_type": "code",
        "colab": {}
      },
      "source": [
        "# Build LSTM Model\n",
        "model = Sequential()\n",
        "\n",
        "model.add(LSTM(50,return_sequences=True, input_shape = (x_train.shape[1],1)))\n",
        "model.add(Dropout(0.2))\n",
        "model.add(LSTM(50, return_sequences=True))\n",
        "model.add(Dropout(0.2))\n",
        "model.add(LSTM(50, return_sequences=True))\n",
        "model.add(Dropout(0.2))\n",
        "model.add(LSTM(50, return_sequences=False))\n",
        "model.add(Dropout(0.2))\n",
        "model.add(Dense(1))"
      ],
      "execution_count": null,
      "outputs": []
    },
    {
      "cell_type": "code",
      "metadata": {
        "id": "vUy-netL42K4",
        "colab_type": "code",
        "colab": {}
      },
      "source": [
        "model.compile(optimizer='adam',loss='mse',)"
      ],
      "execution_count": null,
      "outputs": []
    },
    {
      "cell_type": "code",
      "metadata": {
        "id": "KJKvbL_r5kH-",
        "colab_type": "code",
        "colab": {
          "base_uri": "https://localhost:8080/",
          "height": 364
        },
        "outputId": "80d61a8b-055e-4dcf-88f4-0cbaec26df80"
      },
      "source": [
        "history = model.fit(x_train,y_train,batch_size=1, epochs = 10,)"
      ],
      "execution_count": null,
      "outputs": [
        {
          "output_type": "stream",
          "text": [
            "Epoch 1/10\n",
            "5015/5015 [==============================] - 222s 44ms/step - loss: 0.0041\n",
            "Epoch 2/10\n",
            "5015/5015 [==============================] - 211s 42ms/step - loss: 0.0024\n",
            "Epoch 3/10\n",
            "5015/5015 [==============================] - 211s 42ms/step - loss: 0.0019\n",
            "Epoch 4/10\n",
            "5015/5015 [==============================] - 212s 42ms/step - loss: 0.0018\n",
            "Epoch 5/10\n",
            "5015/5015 [==============================] - 210s 42ms/step - loss: 0.0017\n",
            "Epoch 6/10\n",
            "5015/5015 [==============================] - 211s 42ms/step - loss: 0.0015\n",
            "Epoch 7/10\n",
            "5015/5015 [==============================] - 213s 42ms/step - loss: 0.0014\n",
            "Epoch 8/10\n",
            "5015/5015 [==============================] - 211s 42ms/step - loss: 0.0013\n",
            "Epoch 9/10\n",
            "5015/5015 [==============================] - 212s 42ms/step - loss: 0.0013\n",
            "Epoch 10/10\n",
            "5015/5015 [==============================] - 217s 43ms/step - loss: 0.0012\n"
          ],
          "name": "stdout"
        }
      ]
    },
    {
      "cell_type": "code",
      "metadata": {
        "id": "lQrQdp_g5_VL",
        "colab_type": "code",
        "colab": {}
      },
      "source": [
        "# Crete testing datasets\n",
        "# Create a new array containing scaled value from index 1704 to 2130\n",
        "test_data = scaled_data[training_data_len-60: ,:]\n",
        "# Create dataset x_test, y_test \n",
        "x_test = []\n",
        "y_test = dataset[training_data_len: ,:]\n",
        "for i in range(60, len(test_data)):\n",
        "  x_test.append(test_data[i-60:i, 0])"
      ],
      "execution_count": null,
      "outputs": []
    },
    {
      "cell_type": "code",
      "metadata": {
        "id": "OybPdJJD5HuR",
        "colab_type": "code",
        "colab": {}
      },
      "source": [
        "x_test = x_test[:1]"
      ],
      "execution_count": null,
      "outputs": []
    },
    {
      "cell_type": "code",
      "metadata": {
        "id": "h2izAbbp5zCv",
        "colab_type": "code",
        "colab": {
          "base_uri": "https://localhost:8080/"
        },
        "outputId": "c80c1fc5-fa03-4f74-fe6c-ede6d2023679"
      },
      "source": [
        "x_test"
      ],
      "execution_count": null,
      "outputs": [
        {
          "output_type": "execute_result",
          "data": {
            "text/plain": [
              "[array([0.13525493, 0.12902457, 0.13096104, 0.13373944, 0.13483396,\n",
              "        0.13264492, 0.13315008, 0.13559172, 0.13971723, 0.13971723,\n",
              "        0.14401114, 0.15571413, 0.15950287, 0.1590819 , 0.17970948,\n",
              "        0.18762373, 0.1808882 , 0.18080401, 0.17196362, 0.17053232,\n",
              "        0.16244967, 0.15276733, 0.15386186, 0.15546155, 0.16581744,\n",
              "        0.16607002, 0.16901682, 0.16969038, 0.16800649, 0.16396517,\n",
              "        0.16068159, 0.15866093, 0.16287064, 0.16421775, 0.16741712,\n",
              "        0.17676269, 0.17684689, 0.17061651, 0.17331072, 0.17440525,\n",
              "        0.1750788 , 0.17027973, 0.16699615, 0.16657518, 0.17238459,\n",
              "        0.17011135, 0.17583654, 0.17027973, 0.17179523, 0.16792229,\n",
              "        0.16447033, 0.17246878, 0.17129006, 0.16775391, 0.16943779,\n",
              "        0.18358242, 0.1808882 , 0.18753955, 0.18989699, 0.19376992])]"
            ]
          },
          "metadata": {
            "tags": []
          },
          "execution_count": 26
        }
      ]
    },
    {
      "cell_type": "code",
      "metadata": {
        "id": "pCf7PuLD8ifs",
        "colab_type": "code",
        "colab": {}
      },
      "source": [
        "x_test = np.array(x_test)"
      ],
      "execution_count": null,
      "outputs": []
    },
    {
      "cell_type": "code",
      "metadata": {
        "id": "rZdJ5x5OndPe",
        "colab_type": "code",
        "colab": {
          "base_uri": "https://localhost:8080/"
        },
        "outputId": "587f9e26-3f7f-480a-b0e5-8c209676027b"
      },
      "source": [
        "x_test.shape"
      ],
      "execution_count": null,
      "outputs": [
        {
          "output_type": "execute_result",
          "data": {
            "text/plain": [
              "(1, 60)"
            ]
          },
          "metadata": {
            "tags": []
          },
          "execution_count": 28
        }
      ]
    },
    {
      "cell_type": "code",
      "metadata": {
        "id": "ChpGsyct73c7",
        "colab_type": "code",
        "colab": {}
      },
      "source": [
        "# Reshape the data\n",
        "x_test = np.reshape(x_test,(x_test.shape[0],x_test.shape[1],1))"
      ],
      "execution_count": null,
      "outputs": []
    },
    {
      "cell_type": "code",
      "metadata": {
        "id": "PmWJlh2q8SA9",
        "colab_type": "code",
        "colab": {
          "base_uri": "https://localhost:8080/"
        },
        "outputId": "c138a34a-c913-4eb6-b311-3caf073cdbae"
      },
      "source": [
        "x_test.shape"
      ],
      "execution_count": null,
      "outputs": [
        {
          "output_type": "execute_result",
          "data": {
            "text/plain": [
              "(1, 60, 1)"
            ]
          },
          "metadata": {
            "tags": []
          },
          "execution_count": 30
        }
      ]
    },
    {
      "cell_type": "code",
      "metadata": {
        "id": "REUYDN6V2VpO",
        "colab_type": "code",
        "colab": {}
      },
      "source": [
        "# x_test = range(10)\n",
        "# x_test = x_test.ravel()\n",
        "# print(x_test)\n",
        "# x_test = x_test[0][1:]\n",
        "# x_test\n",
        "# pred = 23\n",
        "# x_test = np.append(x_test[0][1:],25)\n",
        "# x_test\n",
        "# x_test = np.reshape(x_test,(-1,60))\n",
        "# x_test\n",
        "# x_test = np.reshape(x_test,(x_test.shape[0],x_test.shape[1],1))\n",
        "# x_test.shape"
      ],
      "execution_count": null,
      "outputs": []
    },
    {
      "cell_type": "code",
      "metadata": {
        "id": "fVi7E4aeQpcS",
        "colab_type": "code",
        "colab": {}
      },
      "source": [
        "predictions = []\n",
        "for i in range(60):\n",
        "  # x_test = np.reshape(x_test,(x_test.shape[0],x_test.shape[1],1))\n",
        "  # print(\"1\")\n",
        "  x_next = model.predict(x_test)\n",
        "  predictions.append(x_next[0])\n",
        "  # x_test = x_test.ravel()\n",
        "  x_test = np.append(x_test[0][1:],x_next)\n",
        "  x_test = np.reshape(x_test,(-1,60))\n",
        "  x_test = np.reshape(x_test,(x_test.shape[0],x_test.shape[1],1))"
      ],
      "execution_count": null,
      "outputs": []
    },
    {
      "cell_type": "code",
      "metadata": {
        "id": "7uazpXJYPUpT",
        "colab_type": "code",
        "colab": {}
      },
      "source": [
        "predictions = np.array(predictions)"
      ],
      "execution_count": null,
      "outputs": []
    },
    {
      "cell_type": "code",
      "metadata": {
        "id": "0cu0bGnW8VOj",
        "colab_type": "code",
        "colab": {}
      },
      "source": [
        "# Get model prediction price value\n",
        "# predictions = model.predict(x_test)\n",
        "predictions = scaler.inverse_transform(predictions)"
      ],
      "execution_count": null,
      "outputs": []
    },
    {
      "cell_type": "code",
      "metadata": {
        "id": "yoSnrFdv7_SN",
        "colab_type": "code",
        "colab": {
          "base_uri": "https://localhost:8080/"
        },
        "outputId": "c1e0d999-f685-4b32-b689-90522b7f003f"
      },
      "source": [
        "predictions"
      ],
      "execution_count": null,
      "outputs": [
        {
          "output_type": "execute_result",
          "data": {
            "text/plain": [
              "array([[118.87472],\n",
              "       [120.56397],\n",
              "       [122.17152],\n",
              "       [123.88943],\n",
              "       [125.71848],\n",
              "       [127.60041],\n",
              "       [129.49431],\n",
              "       [131.38501],\n",
              "       [133.27032],\n",
              "       [135.1508 ],\n",
              "       [137.02611],\n",
              "       [138.89464],\n",
              "       [140.75424],\n",
              "       [142.60254],\n",
              "       [144.43706],\n",
              "       [146.25523],\n",
              "       [148.0543 ],\n",
              "       [149.83145],\n",
              "       [151.58372],\n",
              "       [153.30817],\n",
              "       [155.00186],\n",
              "       [156.66191],\n",
              "       [158.28561],\n",
              "       [159.87036],\n",
              "       [161.41374],\n",
              "       [162.91359],\n",
              "       [164.36794],\n",
              "       [165.77505],\n",
              "       [167.13348],\n",
              "       [168.44203],\n",
              "       [169.6997 ],\n",
              "       [170.90585],\n",
              "       [172.06001],\n",
              "       [173.162  ],\n",
              "       [174.21191],\n",
              "       [175.21004],\n",
              "       [176.15689],\n",
              "       [177.05318],\n",
              "       [177.89978],\n",
              "       [178.69781],\n",
              "       [179.44847],\n",
              "       [180.15306],\n",
              "       [180.81311],\n",
              "       [181.43013],\n",
              "       [182.00578],\n",
              "       [182.54176],\n",
              "       [183.03983],\n",
              "       [183.50174],\n",
              "       [183.92929],\n",
              "       [184.32431],\n",
              "       [184.68855],\n",
              "       [185.02377],\n",
              "       [185.33174],\n",
              "       [185.61415],\n",
              "       [185.87262],\n",
              "       [186.10875],\n",
              "       [186.32413],\n",
              "       [186.5202 ],\n",
              "       [186.69841],\n",
              "       [186.86009]], dtype=float32)"
            ]
          },
          "metadata": {
            "tags": []
          },
          "execution_count": 35
        }
      ]
    },
    {
      "cell_type": "code",
      "metadata": {
        "id": "GHP_cbvtTbxO",
        "colab_type": "code",
        "colab": {
          "base_uri": "https://localhost:8080/"
        },
        "outputId": "27627c91-f5bf-4e5e-de91-cadf205476e3"
      },
      "source": [
        "valid = data[training_data_len:] \n",
        "valid = valid[-60:]\n",
        "plt.figure(figsize=(12,4))\n",
        "plt.title(\"Model\")\n",
        "plt.xlabel('Date', fontsize = 18)\n",
        "plt.plot(predictions)"
      ],
      "execution_count": null,
      "outputs": [
        {
          "output_type": "execute_result",
          "data": {
            "text/plain": [
              "[<matplotlib.lines.Line2D at 0x7f8bdb51acf8>]"
            ]
          },
          "metadata": {
            "tags": []
          },
          "execution_count": 36
        },
        {
          "output_type": "display_data",
          "data": {
            "image/png": "[encoded data removed]",
            "text/plain": [
              "<Figure size 864x288 with 1 Axes>"
            ]
          },
          "metadata": {
            "tags": [],
            "needs_background": "light"
          }
        }
      ]
    },
    {
      "cell_type": "code",
      "metadata": {
        "id": "cQ1NT69s9EoW",
        "colab_type": "code",
        "colab": {}
      },
      "source": [
        "# rmse = np.sqrt( np.mean(predictions - y_test)**2)\n",
        "# rmse"
      ],
      "execution_count": null,
      "outputs": []
    },
    {
      "cell_type": "code",
      "metadata": {
        "id": "hmAgyqvW9VMf",
        "colab_type": "code",
        "colab": {}
      },
      "source": [
        "# # PLot the data\n",
        "# train = data[:training_data_len]\n",
        "# valid = data[training_data_len:]\n",
        "# valid['Predictions'] = predictions\n",
        "# # Visualize the data\n",
        "# plt.figure(figsize=(12,4))\n",
        "# plt.title(\"Model\")\n",
        "# plt.xlabel('Date', fontsize = 18)\n",
        "# plt.ylabel('Close Price USD($) ', fontsize=18)\n",
        "# # plt.plot(train['4.close'])\n",
        "# plt.plot(valid[['Adj Close', 'Predictions']])\n",
        "# plt.legend(['Close','Val','Predictions'],loc = 'lower right')\n",
        "# plt.tight_layout()\n",
        "# plt.show()"
      ],
      "execution_count": null,
      "outputs": []
    },
    {
      "cell_type": "code",
      "metadata": {
        "id": "AsNPgoq04c6X",
        "colab_type": "code",
        "colab": {}
      },
      "source": [
        "# valid.sum(axis=0)"
      ],
      "execution_count": null,
      "outputs": []
    },
    {
      "cell_type": "code",
      "metadata": {
        "id": "nbqQ7crH-FvX",
        "colab_type": "code",
        "colab": {
          "base_uri": "https://localhost:8080/",
          "height": 233
        },
        "outputId": "664cc2dc-0650-4fe3-e772-148088c676b1"
      },
      "source": [
        "valid"
      ],
      "execution_count": null,
      "outputs": [
        {
          "output_type": "execute_result",
          "data": {
            "text/html": [
              "<div>\n",
              "<style scoped>\n",
              "    .dataframe tbody tr th:only-of-type {\n",
              "        vertical-align: middle;\n",
              "    }\n",
              "\n",
              "    .dataframe tbody tr th {\n",
              "        vertical-align: top;\n",
              "    }\n",
              "\n",
              "    .dataframe thead th {\n",
              "        text-align: right;\n",
              "    }\n",
              "</style>\n",
              "<table border=\"1\" class=\"dataframe\">\n",
              "  <thead>\n",
              "    <tr style=\"text-align: right;\">\n",
              "      <th></th>\n",
              "      <th>Adj Close</th>\n",
              "    </tr>\n",
              "    <tr>\n",
              "      <th>Date</th>\n",
              "      <th></th>\n",
              "    </tr>\n",
              "  </thead>\n",
              "  <tbody>\n",
              "    <tr>\n",
              "      <th>2020-08-10</th>\n",
              "      <td>123.849998</td>\n",
              "    </tr>\n",
              "    <tr>\n",
              "      <th>2020-08-11</th>\n",
              "      <td>122.300003</td>\n",
              "    </tr>\n",
              "    <tr>\n",
              "      <th>2020-08-12</th>\n",
              "      <td>125.349998</td>\n",
              "    </tr>\n",
              "    <tr>\n",
              "      <th>2020-08-13</th>\n",
              "      <td>131.149994</td>\n",
              "    </tr>\n",
              "    <tr>\n",
              "      <th>2020-08-14</th>\n",
              "      <td>124.599998</td>\n",
              "    </tr>\n",
              "  </tbody>\n",
              "</table>\n",
              "</div>"
            ],
            "text/plain": [
              "             Adj Close\n",
              "Date                  \n",
              "2020-08-10  123.849998\n",
              "2020-08-11  122.300003\n",
              "2020-08-12  125.349998\n",
              "2020-08-13  131.149994\n",
              "2020-08-14  124.599998"
            ]
          },
          "metadata": {
            "tags": []
          },
          "execution_count": 40
        }
      ]
    },
    {
      "cell_type": "code",
      "metadata": {
        "id": "70AKqhoPCGOS",
        "colab_type": "code",
        "colab": {}
      },
      "source": [
        "# # Get the quote\n",
        "# # apple_quote = web.DataReader('TATAMOTORS.NS',data_source='yahoo',start='2012-01-01',end='2020-06-22')\n",
        "# apple_quote, meta_data = cc.get_currency_exchange_intraday(from_symbol='GBP', to_symbol='JPY',interval='1min',outputsize='full')\n",
        "# apple_quote = apple_quote[::-1]\n",
        "# sum_column = (apple_quote[\"2. high\"] + apple_quote[\"3. low\"])/2\n",
        "# apple_quote[\"average\"] = sum_column\n",
        "# # Create new dataframe\n",
        "# new_df = apple_quote.filter(items=['average'])\n",
        "# # Get the last 60 days closing price and convert to numpy array\n",
        "# last_60_days = new_df[-60:].values\n",
        "# # Scale the data to be values between 0 and 1\n",
        "# last_60_days_scaled = scaler.transform(last_60_days)\n",
        "# # Create an empty list\n",
        "# X_test = []\n",
        "# # Append the past 60 days\n",
        "# X_test.append(last_60_days_scaled)\n",
        "\n",
        "# # Convert the X_test dataset to numpy array\n",
        "# X_test = np.array(X_test)\n",
        "# # Reshape the data\n",
        "# X_test = np.reshape(X_test,(X_test.shape[0],X_test.shape[1],1))\n",
        "# # Get Predicted scaled price\n",
        "# pred_price = model.predict(X_test)\n",
        "# # undo the scaling\n",
        "# pred_price = scaler.inverse_transform(pred_price)\n",
        "# comp = (new_df['average'][-1])\n",
        "# # comp = float(\"{:.5f}\".format(comp))\n",
        "# # pred_price = float(pred_price)\n",
        "# # pred_price = float(\"{:.4f}\".format(pred_price))\n",
        "# print(pred_price)\n",
        "# print(comp)\n",
        "# if pred_price > comp:\n",
        "#   print(\"green\")\n",
        "# elif pred_price < comp:\n",
        "#   print(\"red\")\n",
        "# else:\n",
        "#   print (\"Dont buy or sell\")"
      ],
      "execution_count": null,
      "outputs": []
    },
    {
      "cell_type": "code",
      "metadata": {
        "id": "KDNxPwwKlgoQ",
        "colab_type": "code",
        "colab": {}
      },
      "source": [
        "# new, meta_data = cc.get_currency_exchange_intraday(from_symbol='AUD', to_symbol='JPY',interval='5min',outputsize='full')\n",
        "# new = new[::-1]\n",
        "# print(new.tail(10))"
      ],
      "execution_count": null,
      "outputs": []
    },
    {
      "cell_type": "code",
      "metadata": {
        "id": "_SlVRj83-vA8",
        "colab_type": "code",
        "colab": {}
      },
      "source": [
        "# pred_price = np.reshape(pred_price,1)\n",
        "# lst_2 = np.reshape(lst_2,60)\n",
        "# lst_2 = np.append(lst_2,pred_price)\n",
        "# lst_2 = lst_2[1:]\n",
        "# lst_2=np.reshape(lst_2,(1,60,1))\n",
        "# pred_price = model.predict(lst_2)\n",
        "# pred_price = scaler.inverse_transform(pred_price)\n",
        "# print(pred_price)\n",
        "# pred_price = scaler.transform(pred_price)"
      ],
      "execution_count": null,
      "outputs": []
    },
    {
      "cell_type": "code",
      "metadata": {
        "id": "oWCoEGtnjIzo",
        "colab_type": "code",
        "colab": {}
      },
      "source": [
        ""
      ],
      "execution_count": null,
      "outputs": []
    }
  ]
}