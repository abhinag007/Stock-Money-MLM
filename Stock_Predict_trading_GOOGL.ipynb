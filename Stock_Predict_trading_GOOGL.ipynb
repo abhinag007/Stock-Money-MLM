{
  "nbformat": 4,
  "nbformat_minor": 0,
  "metadata": {
    "colab": {
      "name": "Stock_Predict_trading_GOOGL.ipynb",
      "provenance": [],
      "collapsed_sections": [],
      "include_colab_link": true
    },
    "kernelspec": {
      "name": "python3",
      "display_name": "Python 3"
    }
  },
  "cells": [
    {
      "cell_type": "markdown",
      "metadata": {
        "id": "view-in-github",
        "colab_type": "text"
      },
      "source": [
        "<a href=\"https://colab.research.google.com/github/abhinag007/Stock-Money-MLM/blob/master/Stock_Predict_trading_GOOGL.ipynb\" target=\"_parent\"><img src=\"https://colab.research.google.com/assets/colab-badge.svg\" alt=\"Open In Colab\"/></a>"
      ]
    },
    {
      "cell_type": "code",
      "metadata": {
        "id": "apJmPMcGlpwI",
        "colab_type": "code",
        "colab": {
          "base_uri": "https://localhost:8080/",
          "height": 72
        },
        "outputId": "386cd714-9f0e-4b39-e8f9-ca549f8747ac"
      },
      "source": [
        "import math\n",
        "import pandas_datareader.data as web\n",
        "import numpy as np\n",
        "from keras.layers.convolutional import Conv1D\n",
        "from keras.models import Sequential\n",
        "from keras.layers import MaxPooling1D\n",
        "from keras.layers import Flatten\n",
        "import pandas as pd\n",
        "from sklearn.preprocessing import MinMaxScaler\n",
        "from keras.models import Sequential\n",
        "from keras.layers import Dense, LSTM\n",
        "import matplotlib.pyplot as plt\n",
        "from datetime import date\n",
        "from datetime import time\n",
        "plt.style.use('fivethirtyeight') "
      ],
      "execution_count": null,
      "outputs": [
        {
          "output_type": "stream",
          "text": [
            "/usr/local/lib/python3.6/dist-packages/pandas_datareader/compat/__init__.py:7: FutureWarning: pandas.util.testing is deprecated. Use the functions in the public API at pandas.testing instead.\n",
            "  from pandas.util.testing import assert_frame_equal\n"
          ],
          "name": "stderr"
        }
      ]
    },
    {
      "cell_type": "code",
      "metadata": {
        "id": "sW8Zj9Hyd6LZ",
        "colab_type": "code",
        "colab": {}
      },
      "source": [
        "# pip install alpha_vantage"
      ],
      "execution_count": null,
      "outputs": []
    },
    {
      "cell_type": "code",
      "metadata": {
        "id": "RlnTjHxTeCOY",
        "colab_type": "code",
        "colab": {}
      },
      "source": [
        "# api_key = '5LLGMLRK81AS4OEH'"
      ],
      "execution_count": null,
      "outputs": []
    },
    {
      "cell_type": "code",
      "metadata": {
        "id": "mPAvnyLzeB7R",
        "colab_type": "code",
        "colab": {}
      },
      "source": [
        "# import pandas as pd\n",
        "# from alpha_vantage.timeseries import TimeSeries\n",
        "# import time\n",
        "# import matplotlib.pyplot as plt\n",
        "# from alpha_vantage.foreignexchange import ForeignExchange"
      ],
      "execution_count": null,
      "outputs": []
    },
    {
      "cell_type": "code",
      "metadata": {
        "id": "0AlB7_uOfQs6",
        "colab_type": "code",
        "colab": {}
      },
      "source": [
        "# ts = TimeSeries(key=api_key,output_format='pandas')\n",
        "# df, meta_data = ts.get_daily(symbol='IBM', outputsize='full')\n",
        "# print(df)"
      ],
      "execution_count": null,
      "outputs": []
    },
    {
      "cell_type": "code",
      "metadata": {
        "id": "yfKdxuL-eBvT",
        "colab_type": "code",
        "colab": {}
      },
      "source": [
        "# cc = ForeignExchange(key = api_key, output_format = 'pandas')\n",
        "# df, meta_data = cc.get_currency_exchange_intraday(from_symbol='GBP', to_symbol='JPY',interval='1min',outputsize='full')\n",
        "# print(df)"
      ],
      "execution_count": null,
      "outputs": []
    },
    {
      "cell_type": "code",
      "metadata": {
        "id": "WLKYJsm6eBi2",
        "colab_type": "code",
        "colab": {}
      },
      "source": [
        "# df = df[::-1]\n",
        "# df.tail(10)"
      ],
      "execution_count": null,
      "outputs": []
    },
    {
      "cell_type": "code",
      "metadata": {
        "id": "zOMA72kPmqUa",
        "colab_type": "code",
        "colab": {}
      },
      "source": [
        "# Get the stock quote\n",
        "df = web.DataReader('GOOGL', data_source='yahoo',start = '2000-01-25', end = date.today())"
      ],
      "execution_count": null,
      "outputs": []
    },
    {
      "cell_type": "code",
      "metadata": {
        "id": "UdrFnTqS9qTt",
        "colab_type": "code",
        "colab": {
          "base_uri": "https://localhost:8080/",
          "height": 446
        },
        "outputId": "a235b560-1040-48ee-8478-fad272f355a3"
      },
      "source": [
        "df"
      ],
      "execution_count": null,
      "outputs": [
        {
          "output_type": "execute_result",
          "data": {
            "text/html": [
              "<div>\n",
              "<style scoped>\n",
              "    .dataframe tbody tr th:only-of-type {\n",
              "        vertical-align: middle;\n",
              "    }\n",
              "\n",
              "    .dataframe tbody tr th {\n",
              "        vertical-align: top;\n",
              "    }\n",
              "\n",
              "    .dataframe thead th {\n",
              "        text-align: right;\n",
              "    }\n",
              "</style>\n",
              "<table border=\"1\" class=\"dataframe\">\n",
              "  <thead>\n",
              "    <tr style=\"text-align: right;\">\n",
              "      <th></th>\n",
              "      <th>High</th>\n",
              "      <th>Low</th>\n",
              "      <th>Open</th>\n",
              "      <th>Close</th>\n",
              "      <th>Volume</th>\n",
              "      <th>Adj Close</th>\n",
              "    </tr>\n",
              "    <tr>\n",
              "      <th>Date</th>\n",
              "      <th></th>\n",
              "      <th></th>\n",
              "      <th></th>\n",
              "      <th></th>\n",
              "      <th></th>\n",
              "      <th></th>\n",
              "    </tr>\n",
              "  </thead>\n",
              "  <tbody>\n",
              "    <tr>\n",
              "      <th>2004-08-19</th>\n",
              "      <td>52.082081</td>\n",
              "      <td>48.028027</td>\n",
              "      <td>50.050049</td>\n",
              "      <td>50.220219</td>\n",
              "      <td>44659000.0</td>\n",
              "      <td>50.220219</td>\n",
              "    </tr>\n",
              "    <tr>\n",
              "      <th>2004-08-20</th>\n",
              "      <td>54.594593</td>\n",
              "      <td>50.300301</td>\n",
              "      <td>50.555557</td>\n",
              "      <td>54.209209</td>\n",
              "      <td>22834300.0</td>\n",
              "      <td>54.209209</td>\n",
              "    </tr>\n",
              "    <tr>\n",
              "      <th>2004-08-23</th>\n",
              "      <td>56.796795</td>\n",
              "      <td>54.579578</td>\n",
              "      <td>55.430431</td>\n",
              "      <td>54.754753</td>\n",
              "      <td>18256100.0</td>\n",
              "      <td>54.754753</td>\n",
              "    </tr>\n",
              "    <tr>\n",
              "      <th>2004-08-24</th>\n",
              "      <td>55.855854</td>\n",
              "      <td>51.836838</td>\n",
              "      <td>55.675674</td>\n",
              "      <td>52.487488</td>\n",
              "      <td>15247300.0</td>\n",
              "      <td>52.487488</td>\n",
              "    </tr>\n",
              "    <tr>\n",
              "      <th>2004-08-25</th>\n",
              "      <td>54.054054</td>\n",
              "      <td>51.991993</td>\n",
              "      <td>52.532532</td>\n",
              "      <td>53.053055</td>\n",
              "      <td>9188600.0</td>\n",
              "      <td>53.053055</td>\n",
              "    </tr>\n",
              "    <tr>\n",
              "      <th>...</th>\n",
              "      <td>...</td>\n",
              "      <td>...</td>\n",
              "      <td>...</td>\n",
              "      <td>...</td>\n",
              "      <td>...</td>\n",
              "      <td>...</td>\n",
              "    </tr>\n",
              "    <tr>\n",
              "      <th>2020-08-10</th>\n",
              "      <td>1507.150024</td>\n",
              "      <td>1477.489990</td>\n",
              "      <td>1490.800049</td>\n",
              "      <td>1496.819946</td>\n",
              "      <td>1027300.0</td>\n",
              "      <td>1496.819946</td>\n",
              "    </tr>\n",
              "    <tr>\n",
              "      <th>2020-08-11</th>\n",
              "      <td>1510.439941</td>\n",
              "      <td>1478.189941</td>\n",
              "      <td>1494.000000</td>\n",
              "      <td>1480.540039</td>\n",
              "      <td>1554900.0</td>\n",
              "      <td>1480.540039</td>\n",
              "    </tr>\n",
              "    <tr>\n",
              "      <th>2020-08-12</th>\n",
              "      <td>1511.670044</td>\n",
              "      <td>1485.000000</td>\n",
              "      <td>1487.119995</td>\n",
              "      <td>1507.239990</td>\n",
              "      <td>1126600.0</td>\n",
              "      <td>1507.239990</td>\n",
              "    </tr>\n",
              "    <tr>\n",
              "      <th>2020-08-13</th>\n",
              "      <td>1536.969971</td>\n",
              "      <td>1508.209961</td>\n",
              "      <td>1508.209961</td>\n",
              "      <td>1516.650024</td>\n",
              "      <td>1119400.0</td>\n",
              "      <td>1516.650024</td>\n",
              "    </tr>\n",
              "    <tr>\n",
              "      <th>2020-08-14</th>\n",
              "      <td>1519.790039</td>\n",
              "      <td>1499.000000</td>\n",
              "      <td>1513.609985</td>\n",
              "      <td>1504.630005</td>\n",
              "      <td>1096500.0</td>\n",
              "      <td>1504.630005</td>\n",
              "    </tr>\n",
              "  </tbody>\n",
              "</table>\n",
              "<p>4026 rows × 6 columns</p>\n",
              "</div>"
            ],
            "text/plain": [
              "                   High          Low  ...      Volume    Adj Close\n",
              "Date                                  ...                         \n",
              "2004-08-19    52.082081    48.028027  ...  44659000.0    50.220219\n",
              "2004-08-20    54.594593    50.300301  ...  22834300.0    54.209209\n",
              "2004-08-23    56.796795    54.579578  ...  18256100.0    54.754753\n",
              "2004-08-24    55.855854    51.836838  ...  15247300.0    52.487488\n",
              "2004-08-25    54.054054    51.991993  ...   9188600.0    53.053055\n",
              "...                 ...          ...  ...         ...          ...\n",
              "2020-08-10  1507.150024  1477.489990  ...   1027300.0  1496.819946\n",
              "2020-08-11  1510.439941  1478.189941  ...   1554900.0  1480.540039\n",
              "2020-08-12  1511.670044  1485.000000  ...   1126600.0  1507.239990\n",
              "2020-08-13  1536.969971  1508.209961  ...   1119400.0  1516.650024\n",
              "2020-08-14  1519.790039  1499.000000  ...   1096500.0  1504.630005\n",
              "\n",
              "[4026 rows x 6 columns]"
            ]
          },
          "metadata": {
            "tags": []
          },
          "execution_count": 49
        }
      ]
    },
    {
      "cell_type": "code",
      "metadata": {
        "id": "CKzQZaqRnR3F",
        "colab_type": "code",
        "colab": {}
      },
      "source": [
        "#show the data\n",
        "df['Date'] = df.index"
      ],
      "execution_count": null,
      "outputs": []
    },
    {
      "cell_type": "code",
      "metadata": {
        "id": "ALCXElU2uJ1X",
        "colab_type": "code",
        "colab": {
          "base_uri": "https://localhost:8080/",
          "height": 446
        },
        "outputId": "cdaf9d1e-b5af-48b6-952f-ec7aad50445c"
      },
      "source": [
        "df"
      ],
      "execution_count": null,
      "outputs": [
        {
          "output_type": "execute_result",
          "data": {
            "text/html": [
              "<div>\n",
              "<style scoped>\n",
              "    .dataframe tbody tr th:only-of-type {\n",
              "        vertical-align: middle;\n",
              "    }\n",
              "\n",
              "    .dataframe tbody tr th {\n",
              "        vertical-align: top;\n",
              "    }\n",
              "\n",
              "    .dataframe thead th {\n",
              "        text-align: right;\n",
              "    }\n",
              "</style>\n",
              "<table border=\"1\" class=\"dataframe\">\n",
              "  <thead>\n",
              "    <tr style=\"text-align: right;\">\n",
              "      <th></th>\n",
              "      <th>High</th>\n",
              "      <th>Low</th>\n",
              "      <th>Open</th>\n",
              "      <th>Close</th>\n",
              "      <th>Volume</th>\n",
              "      <th>Adj Close</th>\n",
              "      <th>Date</th>\n",
              "    </tr>\n",
              "    <tr>\n",
              "      <th>Date</th>\n",
              "      <th></th>\n",
              "      <th></th>\n",
              "      <th></th>\n",
              "      <th></th>\n",
              "      <th></th>\n",
              "      <th></th>\n",
              "      <th></th>\n",
              "    </tr>\n",
              "  </thead>\n",
              "  <tbody>\n",
              "    <tr>\n",
              "      <th>2004-08-19</th>\n",
              "      <td>52.082081</td>\n",
              "      <td>48.028027</td>\n",
              "      <td>50.050049</td>\n",
              "      <td>50.220219</td>\n",
              "      <td>44659000.0</td>\n",
              "      <td>50.220219</td>\n",
              "      <td>2004-08-19</td>\n",
              "    </tr>\n",
              "    <tr>\n",
              "      <th>2004-08-20</th>\n",
              "      <td>54.594593</td>\n",
              "      <td>50.300301</td>\n",
              "      <td>50.555557</td>\n",
              "      <td>54.209209</td>\n",
              "      <td>22834300.0</td>\n",
              "      <td>54.209209</td>\n",
              "      <td>2004-08-20</td>\n",
              "    </tr>\n",
              "    <tr>\n",
              "      <th>2004-08-23</th>\n",
              "      <td>56.796795</td>\n",
              "      <td>54.579578</td>\n",
              "      <td>55.430431</td>\n",
              "      <td>54.754753</td>\n",
              "      <td>18256100.0</td>\n",
              "      <td>54.754753</td>\n",
              "      <td>2004-08-23</td>\n",
              "    </tr>\n",
              "    <tr>\n",
              "      <th>2004-08-24</th>\n",
              "      <td>55.855854</td>\n",
              "      <td>51.836838</td>\n",
              "      <td>55.675674</td>\n",
              "      <td>52.487488</td>\n",
              "      <td>15247300.0</td>\n",
              "      <td>52.487488</td>\n",
              "      <td>2004-08-24</td>\n",
              "    </tr>\n",
              "    <tr>\n",
              "      <th>2004-08-25</th>\n",
              "      <td>54.054054</td>\n",
              "      <td>51.991993</td>\n",
              "      <td>52.532532</td>\n",
              "      <td>53.053055</td>\n",
              "      <td>9188600.0</td>\n",
              "      <td>53.053055</td>\n",
              "      <td>2004-08-25</td>\n",
              "    </tr>\n",
              "    <tr>\n",
              "      <th>...</th>\n",
              "      <td>...</td>\n",
              "      <td>...</td>\n",
              "      <td>...</td>\n",
              "      <td>...</td>\n",
              "      <td>...</td>\n",
              "      <td>...</td>\n",
              "      <td>...</td>\n",
              "    </tr>\n",
              "    <tr>\n",
              "      <th>2020-08-10</th>\n",
              "      <td>1507.150024</td>\n",
              "      <td>1477.489990</td>\n",
              "      <td>1490.800049</td>\n",
              "      <td>1496.819946</td>\n",
              "      <td>1027300.0</td>\n",
              "      <td>1496.819946</td>\n",
              "      <td>2020-08-10</td>\n",
              "    </tr>\n",
              "    <tr>\n",
              "      <th>2020-08-11</th>\n",
              "      <td>1510.439941</td>\n",
              "      <td>1478.189941</td>\n",
              "      <td>1494.000000</td>\n",
              "      <td>1480.540039</td>\n",
              "      <td>1554900.0</td>\n",
              "      <td>1480.540039</td>\n",
              "      <td>2020-08-11</td>\n",
              "    </tr>\n",
              "    <tr>\n",
              "      <th>2020-08-12</th>\n",
              "      <td>1511.670044</td>\n",
              "      <td>1485.000000</td>\n",
              "      <td>1487.119995</td>\n",
              "      <td>1507.239990</td>\n",
              "      <td>1126600.0</td>\n",
              "      <td>1507.239990</td>\n",
              "      <td>2020-08-12</td>\n",
              "    </tr>\n",
              "    <tr>\n",
              "      <th>2020-08-13</th>\n",
              "      <td>1536.969971</td>\n",
              "      <td>1508.209961</td>\n",
              "      <td>1508.209961</td>\n",
              "      <td>1516.650024</td>\n",
              "      <td>1119400.0</td>\n",
              "      <td>1516.650024</td>\n",
              "      <td>2020-08-13</td>\n",
              "    </tr>\n",
              "    <tr>\n",
              "      <th>2020-08-14</th>\n",
              "      <td>1519.790039</td>\n",
              "      <td>1499.000000</td>\n",
              "      <td>1513.609985</td>\n",
              "      <td>1504.630005</td>\n",
              "      <td>1096500.0</td>\n",
              "      <td>1504.630005</td>\n",
              "      <td>2020-08-14</td>\n",
              "    </tr>\n",
              "  </tbody>\n",
              "</table>\n",
              "<p>4026 rows × 7 columns</p>\n",
              "</div>"
            ],
            "text/plain": [
              "                   High          Low  ...    Adj Close       Date\n",
              "Date                                  ...                        \n",
              "2004-08-19    52.082081    48.028027  ...    50.220219 2004-08-19\n",
              "2004-08-20    54.594593    50.300301  ...    54.209209 2004-08-20\n",
              "2004-08-23    56.796795    54.579578  ...    54.754753 2004-08-23\n",
              "2004-08-24    55.855854    51.836838  ...    52.487488 2004-08-24\n",
              "2004-08-25    54.054054    51.991993  ...    53.053055 2004-08-25\n",
              "...                 ...          ...  ...          ...        ...\n",
              "2020-08-10  1507.150024  1477.489990  ...  1496.819946 2020-08-10\n",
              "2020-08-11  1510.439941  1478.189941  ...  1480.540039 2020-08-11\n",
              "2020-08-12  1511.670044  1485.000000  ...  1507.239990 2020-08-12\n",
              "2020-08-13  1536.969971  1508.209961  ...  1516.650024 2020-08-13\n",
              "2020-08-14  1519.790039  1499.000000  ...  1504.630005 2020-08-14\n",
              "\n",
              "[4026 rows x 7 columns]"
            ]
          },
          "metadata": {
            "tags": []
          },
          "execution_count": 51
        }
      ]
    },
    {
      "cell_type": "code",
      "metadata": {
        "id": "Wf68KJAlnbDI",
        "colab_type": "code",
        "colab": {
          "base_uri": "https://localhost:8080/",
          "height": 35
        },
        "outputId": "72ffc658-0606-4733-f7ed-7efa06a449cc"
      },
      "source": [
        "#Get number of rows and colomns in datasets\n",
        "df.shape"
      ],
      "execution_count": null,
      "outputs": [
        {
          "output_type": "execute_result",
          "data": {
            "text/plain": [
              "(4026, 7)"
            ]
          },
          "metadata": {
            "tags": []
          },
          "execution_count": 52
        }
      ]
    },
    {
      "cell_type": "code",
      "metadata": {
        "id": "qRU7fuU5pyzl",
        "colab_type": "code",
        "colab": {
          "base_uri": "https://localhost:8080/",
          "height": 301
        },
        "outputId": "b605e7b0-d79c-4e47-c6c5-cffb20bb9a08"
      },
      "source": [
        "# Close price history\n",
        "plt.figure(figsize=(16,4))\n",
        "plt.title('Close Price History')\n",
        "plt.plot(df['Adj Close'],);\n",
        "plt.xlabel('Date', fontsize=18)\n",
        "plt.ylabel('Close price USD($)', fontsize = 18)\n",
        "plt.show()"
      ],
      "execution_count": null,
      "outputs": [
        {
          "output_type": "display_data",
          "data": {
            "image/png": "[encoded data removed]",
            "text/plain": [
              "<Figure size 1152x288 with 1 Axes>"
            ]
          },
          "metadata": {
            "tags": [],
            "needs_background": "light"
          }
        }
      ]
    },
    {
      "cell_type": "code",
      "metadata": {
        "id": "-rVlC095qXQx",
        "colab_type": "code",
        "colab": {
          "base_uri": "https://localhost:8080/",
          "height": 35
        },
        "outputId": "df705ae4-2e15-43c3-8e1d-014ba1e268a4"
      },
      "source": [
        "# Create new dataframe with only close coloumn\n",
        "data = df.filter(['Adj Close'])\n",
        "# Convert dataframe to numpy array\n",
        "dataset = data.values\n",
        "# Get the number of rows to train the model on\n",
        "training_data_len = math.ceil( len(dataset) * 0.9)\n",
        "\n",
        "training_data_len"
      ],
      "execution_count": null,
      "outputs": [
        {
          "output_type": "execute_result",
          "data": {
            "text/plain": [
              "3624"
            ]
          },
          "metadata": {
            "tags": []
          },
          "execution_count": 54
        }
      ]
    },
    {
      "cell_type": "code",
      "metadata": {
        "id": "054BIqTuvqM9",
        "colab_type": "code",
        "colab": {
          "base_uri": "https://localhost:8080/",
          "height": 139
        },
        "outputId": "1aabdd8a-1df3-4fcc-8ff0-eca094ae4ad4"
      },
      "source": [
        "# Scale the data\n",
        "scaler = MinMaxScaler(feature_range=(0,1))\n",
        "scaled_data = scaler.fit_transform(dataset)\n",
        "\n",
        "scaled_data"
      ],
      "execution_count": null,
      "outputs": [
        {
          "output_type": "execute_result",
          "data": {
            "text/plain": [
              "array([[1.09034527e-04],\n",
              "       [2.74238821e-03],\n",
              "       [3.10253179e-03],\n",
              "       ...,\n",
              "       [9.61968459e-01],\n",
              "       [9.68180543e-01],\n",
              "       [9.60245463e-01]])"
            ]
          },
          "metadata": {
            "tags": []
          },
          "execution_count": 55
        }
      ]
    },
    {
      "cell_type": "code",
      "metadata": {
        "id": "TpFHvI_owSV5",
        "colab_type": "code",
        "colab": {
          "base_uri": "https://localhost:8080/",
          "height": 139
        },
        "outputId": "d94d43e4-4b26-465e-9f41-424caaac2c13"
      },
      "source": [
        "# Create training datasets\n",
        "# Create the scaled training datasets\n",
        "train_data = scaled_data[0:training_data_len,:]\n",
        "# Slit x_train and y_train datasets\n",
        "x_train = []\n",
        "y_train = []\n",
        "for i in range(20,len(train_data)):\n",
        "  x_train.append(train_data[i-20:i,0])\n",
        "  y_train.append(train_data[i,0])\n",
        "  if i<=20:\n",
        "    print(x_train)\n",
        "    print(y_train)\n",
        "    print() "
      ],
      "execution_count": null,
      "outputs": [
        {
          "output_type": "stream",
          "text": [
            "[array([1.09034527e-04, 2.74238821e-03, 3.10253179e-03, 1.60578442e-03,\n",
            "       1.97914652e-03, 2.61022568e-03, 2.02870652e-03, 6.60817680e-04,\n",
            "       7.79764207e-04, 7.92985245e-05, 4.95612630e-04, 0.00000000e+00,\n",
            "       5.18740632e-04, 7.56636205e-04, 7.59940206e-04, 1.75777095e-03,\n",
            "       2.47475663e-03, 3.79308547e-03, 3.96159452e-03, 4.61249768e-03])]\n",
            "[0.005775533475163588]\n",
            "\n"
          ],
          "name": "stdout"
        }
      ]
    },
    {
      "cell_type": "code",
      "metadata": {
        "id": "i9wytjq9xqI8",
        "colab_type": "code",
        "colab": {}
      },
      "source": [
        "# convert x_train y_train to numpy arrays\n",
        "x_train, y_train = np.array(x_train), np.array(y_train)"
      ],
      "execution_count": null,
      "outputs": []
    },
    {
      "cell_type": "code",
      "metadata": {
        "id": "kPm9qFun1Yyh",
        "colab_type": "code",
        "colab": {
          "base_uri": "https://localhost:8080/",
          "height": 35
        },
        "outputId": "d6b31d93-753e-4cb6-b560-ee18178feef6"
      },
      "source": [
        "# Reshape the data\n",
        "x_train = np.reshape(x_train,(x_train.shape[0], x_train.shape[1],1))\n",
        "x_train.shape"
      ],
      "execution_count": null,
      "outputs": [
        {
          "output_type": "execute_result",
          "data": {
            "text/plain": [
              "(3604, 20, 1)"
            ]
          },
          "metadata": {
            "tags": []
          },
          "execution_count": 58
        }
      ]
    },
    {
      "cell_type": "code",
      "metadata": {
        "id": "YphvzrAL1nXb",
        "colab_type": "code",
        "colab": {}
      },
      "source": [
        "# Build CNN Model\n",
        "model = Sequential()\n",
        "model.add(Conv1D(filters = 16, kernel_size=3, activation = 'relu',input_shape = (x_train.shape[1],1)))\n",
        "model.add(MaxPooling1D(pool_size = 2))\n",
        "model.add(Conv1D(filters = 32, kernel_size=3, activation = 'relu',input_shape = (x_train.shape[1],1)))\n",
        "model.add(MaxPooling1D(pool_size = 4))\n",
        "model.add(Flatten())\n",
        "model.add(Dense(500,activation='relu'))\n",
        "model.add(Dense(250, activation='relu'))\n",
        "model.add(Dense(1, activation='sigmoid'))"
      ],
      "execution_count": null,
      "outputs": []
    },
    {
      "cell_type": "code",
      "metadata": {
        "id": "vUy-netL42K4",
        "colab_type": "code",
        "colab": {}
      },
      "source": [
        "model.compile(optimizer='adam',loss='mse')"
      ],
      "execution_count": null,
      "outputs": []
    },
    {
      "cell_type": "code",
      "metadata": {
        "id": "KJKvbL_r5kH-",
        "colab_type": "code",
        "colab": {
          "base_uri": "https://localhost:8080/",
          "height": 1000
        },
        "outputId": "870897c5-2cb7-4e3c-bca6-0f33b0a5854b"
      },
      "source": [
        "model.fit(x_train,y_train,batch_size=16, epochs = 70)"
      ],
      "execution_count": null,
      "outputs": [
        {
          "output_type": "stream",
          "text": [
            "Epoch 1/70\n",
            "226/226 [==============================] - 1s 4ms/step - loss: 0.0091\n",
            "Epoch 2/70\n",
            "226/226 [==============================] - 1s 4ms/step - loss: 4.1535e-04\n",
            "Epoch 3/70\n",
            "226/226 [==============================] - 1s 4ms/step - loss: 3.6825e-04\n",
            "Epoch 4/70\n",
            "226/226 [==============================] - 1s 4ms/step - loss: 4.2940e-04\n",
            "Epoch 5/70\n",
            "226/226 [==============================] - 1s 4ms/step - loss: 3.5858e-04\n",
            "Epoch 6/70\n",
            "226/226 [==============================] - 1s 4ms/step - loss: 3.3855e-04\n",
            "Epoch 7/70\n",
            "226/226 [==============================] - 1s 4ms/step - loss: 3.5096e-04\n",
            "Epoch 8/70\n",
            "226/226 [==============================] - 1s 4ms/step - loss: 4.1542e-04\n",
            "Epoch 9/70\n",
            "226/226 [==============================] - 1s 4ms/step - loss: 3.3806e-04\n",
            "Epoch 10/70\n",
            "226/226 [==============================] - 1s 4ms/step - loss: 3.9065e-04\n",
            "Epoch 11/70\n",
            "226/226 [==============================] - 1s 4ms/step - loss: 3.5541e-04\n",
            "Epoch 12/70\n",
            "226/226 [==============================] - 1s 4ms/step - loss: 3.3473e-04\n",
            "Epoch 13/70\n",
            "226/226 [==============================] - 1s 4ms/step - loss: 3.4680e-04\n",
            "Epoch 14/70\n",
            "226/226 [==============================] - 1s 4ms/step - loss: 3.2679e-04\n",
            "Epoch 15/70\n",
            "226/226 [==============================] - 1s 4ms/step - loss: 3.0602e-04\n",
            "Epoch 16/70\n",
            "226/226 [==============================] - 1s 4ms/step - loss: 3.6510e-04\n",
            "Epoch 17/70\n",
            "226/226 [==============================] - 1s 4ms/step - loss: 3.5933e-04\n",
            "Epoch 18/70\n",
            "226/226 [==============================] - 1s 4ms/step - loss: 3.4646e-04\n",
            "Epoch 19/70\n",
            "226/226 [==============================] - 1s 4ms/step - loss: 3.3404e-04\n",
            "Epoch 20/70\n",
            "226/226 [==============================] - 1s 4ms/step - loss: 3.1523e-04\n",
            "Epoch 21/70\n",
            "226/226 [==============================] - 1s 4ms/step - loss: 3.4703e-04\n",
            "Epoch 22/70\n",
            "226/226 [==============================] - 1s 4ms/step - loss: 3.2776e-04\n",
            "Epoch 23/70\n",
            "226/226 [==============================] - 1s 4ms/step - loss: 3.4994e-04\n",
            "Epoch 24/70\n",
            "226/226 [==============================] - 1s 4ms/step - loss: 3.4010e-04\n",
            "Epoch 25/70\n",
            "226/226 [==============================] - 1s 4ms/step - loss: 3.2161e-04\n",
            "Epoch 26/70\n",
            "226/226 [==============================] - 1s 4ms/step - loss: 3.1894e-04\n",
            "Epoch 27/70\n",
            "226/226 [==============================] - 1s 4ms/step - loss: 3.2270e-04\n",
            "Epoch 28/70\n",
            "226/226 [==============================] - 1s 4ms/step - loss: 3.3514e-04\n",
            "Epoch 29/70\n",
            "226/226 [==============================] - 1s 4ms/step - loss: 3.1364e-04\n",
            "Epoch 30/70\n",
            "226/226 [==============================] - 1s 4ms/step - loss: 2.9700e-04\n",
            "Epoch 31/70\n",
            "226/226 [==============================] - 1s 4ms/step - loss: 2.9827e-04\n",
            "Epoch 32/70\n",
            "226/226 [==============================] - 1s 4ms/step - loss: 2.9807e-04\n",
            "Epoch 33/70\n",
            "226/226 [==============================] - 1s 4ms/step - loss: 3.2061e-04\n",
            "Epoch 34/70\n",
            "226/226 [==============================] - 1s 4ms/step - loss: 3.2214e-04\n",
            "Epoch 35/70\n",
            "226/226 [==============================] - 1s 4ms/step - loss: 3.2488e-04\n",
            "Epoch 36/70\n",
            "226/226 [==============================] - 1s 4ms/step - loss: 2.9391e-04\n",
            "Epoch 37/70\n",
            "226/226 [==============================] - 1s 4ms/step - loss: 3.1684e-04\n",
            "Epoch 38/70\n",
            "226/226 [==============================] - 1s 4ms/step - loss: 3.0163e-04\n",
            "Epoch 39/70\n",
            "226/226 [==============================] - 1s 4ms/step - loss: 2.9666e-04\n",
            "Epoch 40/70\n",
            "226/226 [==============================] - 1s 4ms/step - loss: 3.0389e-04\n",
            "Epoch 41/70\n",
            "226/226 [==============================] - 1s 4ms/step - loss: 3.0448e-04\n",
            "Epoch 42/70\n",
            "226/226 [==============================] - 1s 4ms/step - loss: 3.0833e-04\n",
            "Epoch 43/70\n",
            "226/226 [==============================] - 1s 4ms/step - loss: 3.0891e-04\n",
            "Epoch 44/70\n",
            "226/226 [==============================] - 1s 4ms/step - loss: 2.8961e-04\n",
            "Epoch 45/70\n",
            "226/226 [==============================] - 1s 4ms/step - loss: 2.9944e-04\n",
            "Epoch 46/70\n",
            "226/226 [==============================] - 1s 4ms/step - loss: 3.2608e-04\n",
            "Epoch 47/70\n",
            "226/226 [==============================] - 1s 4ms/step - loss: 2.9846e-04\n",
            "Epoch 48/70\n",
            "226/226 [==============================] - 1s 4ms/step - loss: 3.4291e-04\n",
            "Epoch 49/70\n",
            "226/226 [==============================] - 1s 4ms/step - loss: 3.4116e-04\n",
            "Epoch 50/70\n",
            "226/226 [==============================] - 1s 4ms/step - loss: 2.8298e-04\n",
            "Epoch 51/70\n",
            "226/226 [==============================] - 1s 4ms/step - loss: 2.9052e-04\n",
            "Epoch 52/70\n",
            "226/226 [==============================] - 1s 4ms/step - loss: 3.1974e-04\n",
            "Epoch 53/70\n",
            "226/226 [==============================] - 1s 4ms/step - loss: 2.8521e-04\n",
            "Epoch 54/70\n",
            "226/226 [==============================] - 1s 4ms/step - loss: 3.0999e-04\n",
            "Epoch 55/70\n",
            "226/226 [==============================] - 1s 4ms/step - loss: 2.9611e-04\n",
            "Epoch 56/70\n",
            "226/226 [==============================] - 1s 4ms/step - loss: 2.9126e-04\n",
            "Epoch 57/70\n",
            "226/226 [==============================] - 1s 4ms/step - loss: 2.9127e-04\n",
            "Epoch 58/70\n",
            "226/226 [==============================] - 1s 4ms/step - loss: 2.9064e-04\n",
            "Epoch 59/70\n",
            "226/226 [==============================] - 1s 4ms/step - loss: 3.0946e-04\n",
            "Epoch 60/70\n",
            "226/226 [==============================] - 1s 4ms/step - loss: 2.9415e-04\n",
            "Epoch 61/70\n",
            "226/226 [==============================] - 1s 4ms/step - loss: 2.9125e-04\n",
            "Epoch 62/70\n",
            "226/226 [==============================] - 1s 5ms/step - loss: 2.8155e-04\n",
            "Epoch 63/70\n",
            "226/226 [==============================] - 1s 4ms/step - loss: 2.7264e-04\n",
            "Epoch 64/70\n",
            "226/226 [==============================] - 1s 4ms/step - loss: 2.9768e-04\n",
            "Epoch 65/70\n",
            "226/226 [==============================] - 1s 4ms/step - loss: 3.2929e-04\n",
            "Epoch 66/70\n",
            "226/226 [==============================] - 1s 4ms/step - loss: 2.8730e-04\n",
            "Epoch 67/70\n",
            "226/226 [==============================] - 1s 4ms/step - loss: 2.9319e-04\n",
            "Epoch 68/70\n",
            "226/226 [==============================] - 1s 4ms/step - loss: 3.0064e-04\n",
            "Epoch 69/70\n",
            "226/226 [==============================] - 1s 4ms/step - loss: 2.8581e-04\n",
            "Epoch 70/70\n",
            "226/226 [==============================] - 1s 4ms/step - loss: 2.9630e-04\n"
          ],
          "name": "stdout"
        },
        {
          "output_type": "execute_result",
          "data": {
            "text/plain": [
              "<tensorflow.python.keras.callbacks.History at 0x7f533265def0>"
            ]
          },
          "metadata": {
            "tags": []
          },
          "execution_count": 128
        }
      ]
    },
    {
      "cell_type": "code",
      "metadata": {
        "id": "lQrQdp_g5_VL",
        "colab_type": "code",
        "colab": {}
      },
      "source": [
        "# Crete testing datasets\n",
        "# Create a new array containing scaled value from index 1704 to 2130\n",
        "test_data = scaled_data[training_data_len-20: ,:]\n",
        "# Create dataset x_test, y_test \n",
        "x_test = []\n",
        "y_test = dataset[training_data_len: ,:]\n",
        "for i in range(20, len(test_data)):\n",
        "  x_test.append(test_data[i-20:i, 0])"
      ],
      "execution_count": null,
      "outputs": []
    },
    {
      "cell_type": "code",
      "metadata": {
        "id": "pCf7PuLD8ifs",
        "colab_type": "code",
        "colab": {}
      },
      "source": [
        "x_test = np.array(x_test)"
      ],
      "execution_count": null,
      "outputs": []
    },
    {
      "cell_type": "code",
      "metadata": {
        "id": "ChpGsyct73c7",
        "colab_type": "code",
        "colab": {}
      },
      "source": [
        "# Reshape the data\n",
        "x_test = np.reshape(x_test,(x_test.shape[0],x_test.shape[1],1))"
      ],
      "execution_count": null,
      "outputs": []
    },
    {
      "cell_type": "code",
      "metadata": {
        "id": "REUYDN6V2VpO",
        "colab_type": "code",
        "colab": {}
      },
      "source": [
        "# x_test = range(10)"
      ],
      "execution_count": null,
      "outputs": []
    },
    {
      "cell_type": "code",
      "metadata": {
        "id": "0cu0bGnW8VOj",
        "colab_type": "code",
        "colab": {}
      },
      "source": [
        "# Get model prediction price value\n",
        "predictions = model.predict(x_test)\n",
        "predictions = scaler.inverse_transform(predictions)"
      ],
      "execution_count": null,
      "outputs": []
    },
    {
      "cell_type": "code",
      "metadata": {
        "id": "cQ1NT69s9EoW",
        "colab_type": "code",
        "colab": {
          "base_uri": "https://localhost:8080/",
          "height": 35
        },
        "outputId": "bcf6ff0a-53d9-4ffc-b959-afa6862a7094"
      },
      "source": [
        "rmse = np.sqrt( np.mean(predictions - y_test)**2)\n",
        "rmse"
      ],
      "execution_count": null,
      "outputs": [
        {
          "output_type": "execute_result",
          "data": {
            "text/plain": [
              "49.63531706700871"
            ]
          },
          "metadata": {
            "tags": []
          },
          "execution_count": 134
        }
      ]
    },
    {
      "cell_type": "code",
      "metadata": {
        "id": "hmAgyqvW9VMf",
        "colab_type": "code",
        "colab": {
          "base_uri": "https://localhost:8080/",
          "height": 401
        },
        "outputId": "6d85dd8b-7374-414d-e275-29164148e28a"
      },
      "source": [
        "# PLot the data\n",
        "train = data[:training_data_len]\n",
        "valid = data[training_data_len:]\n",
        "valid['Predictions'] = predictions\n",
        "# Visualize the data\n",
        "plt.figure(figsize=(12,4))\n",
        "plt.title(\"Model\")\n",
        "plt.xlabel('Date', fontsize = 18)\n",
        "plt.ylabel('Close Price USD($) ', fontsize=18)\n",
        "# plt.plot(train['Adj Close'])\n",
        "plt.plot(valid[['Adj Close', 'Predictions']])\n",
        "plt.legend(['Close','Val','Predictions'],loc = 'lower right')\n",
        "plt.tight_layout()\n",
        "plt.show()"
      ],
      "execution_count": null,
      "outputs": [
        {
          "output_type": "stream",
          "text": [
            "/usr/local/lib/python3.6/dist-packages/ipykernel_launcher.py:4: SettingWithCopyWarning: \n",
            "A value is trying to be set on a copy of a slice from a DataFrame.\n",
            "Try using .loc[row_indexer,col_indexer] = value instead\n",
            "\n",
            "See the caveats in the documentation: https://pandas.pydata.org/pandas-docs/stable/user_guide/indexing.html#returning-a-view-versus-a-copy\n",
            "  after removing the cwd from sys.path.\n"
          ],
          "name": "stderr"
        },
        {
          "output_type": "display_data",
          "data": {
            "image/png": "[encoded data removed]",
            "text/plain": [
              "<Figure size 864x288 with 1 Axes>"
            ]
          },
          "metadata": {
            "tags": [],
            "needs_background": "light"
          }
        }
      ]
    },
    {
      "cell_type": "code",
      "metadata": {
        "id": "4WJaZ2df44LB",
        "colab_type": "code",
        "colab": {}
      },
      "source": [
        "# valid.sum(axis=0)"
      ],
      "execution_count": null,
      "outputs": []
    },
    {
      "cell_type": "code",
      "metadata": {
        "id": "nbqQ7crH-FvX",
        "colab_type": "code",
        "colab": {
          "base_uri": "https://localhost:8080/",
          "height": 999
        },
        "outputId": "b5fe5291-34f4-46d8-e309-81e433a31a72"
      },
      "source": [
        "valid.tail(30)"
      ],
      "execution_count": null,
      "outputs": [
        {
          "output_type": "execute_result",
          "data": {
            "text/html": [
              "<div>\n",
              "<style scoped>\n",
              "    .dataframe tbody tr th:only-of-type {\n",
              "        vertical-align: middle;\n",
              "    }\n",
              "\n",
              "    .dataframe tbody tr th {\n",
              "        vertical-align: top;\n",
              "    }\n",
              "\n",
              "    .dataframe thead th {\n",
              "        text-align: right;\n",
              "    }\n",
              "</style>\n",
              "<table border=\"1\" class=\"dataframe\">\n",
              "  <thead>\n",
              "    <tr style=\"text-align: right;\">\n",
              "      <th></th>\n",
              "      <th>Adj Close</th>\n",
              "      <th>Predictions</th>\n",
              "    </tr>\n",
              "    <tr>\n",
              "      <th>Date</th>\n",
              "      <th></th>\n",
              "      <th></th>\n",
              "    </tr>\n",
              "  </thead>\n",
              "  <tbody>\n",
              "    <tr>\n",
              "      <th>2020-07-06</th>\n",
              "      <td>1499.650024</td>\n",
              "      <td>1301.682861</td>\n",
              "    </tr>\n",
              "    <tr>\n",
              "      <th>2020-07-07</th>\n",
              "      <td>1489.920044</td>\n",
              "      <td>1301.426880</td>\n",
              "    </tr>\n",
              "    <tr>\n",
              "      <th>2020-07-08</th>\n",
              "      <td>1503.599976</td>\n",
              "      <td>1301.682861</td>\n",
              "    </tr>\n",
              "    <tr>\n",
              "      <th>2020-07-09</th>\n",
              "      <td>1518.660034</td>\n",
              "      <td>1301.301636</td>\n",
              "    </tr>\n",
              "    <tr>\n",
              "      <th>2020-07-10</th>\n",
              "      <td>1539.010010</td>\n",
              "      <td>1301.682861</td>\n",
              "    </tr>\n",
              "    <tr>\n",
              "      <th>2020-07-13</th>\n",
              "      <td>1512.229980</td>\n",
              "      <td>1301.260620</td>\n",
              "    </tr>\n",
              "    <tr>\n",
              "      <th>2020-07-14</th>\n",
              "      <td>1520.859985</td>\n",
              "      <td>1301.630859</td>\n",
              "    </tr>\n",
              "    <tr>\n",
              "      <th>2020-07-15</th>\n",
              "      <td>1516.880005</td>\n",
              "      <td>1305.856689</td>\n",
              "    </tr>\n",
              "    <tr>\n",
              "      <th>2020-07-16</th>\n",
              "      <td>1514.920044</td>\n",
              "      <td>1311.701904</td>\n",
              "    </tr>\n",
              "    <tr>\n",
              "      <th>2020-07-17</th>\n",
              "      <td>1516.849976</td>\n",
              "      <td>1315.416626</td>\n",
              "    </tr>\n",
              "    <tr>\n",
              "      <th>2020-07-20</th>\n",
              "      <td>1563.839966</td>\n",
              "      <td>1320.701904</td>\n",
              "    </tr>\n",
              "    <tr>\n",
              "      <th>2020-07-21</th>\n",
              "      <td>1555.920044</td>\n",
              "      <td>1326.702759</td>\n",
              "    </tr>\n",
              "    <tr>\n",
              "      <th>2020-07-22</th>\n",
              "      <td>1564.849976</td>\n",
              "      <td>1328.303589</td>\n",
              "    </tr>\n",
              "    <tr>\n",
              "      <th>2020-07-23</th>\n",
              "      <td>1516.750000</td>\n",
              "      <td>1327.762695</td>\n",
              "    </tr>\n",
              "    <tr>\n",
              "      <th>2020-07-24</th>\n",
              "      <td>1508.209961</td>\n",
              "      <td>1329.023193</td>\n",
              "    </tr>\n",
              "    <tr>\n",
              "      <th>2020-07-27</th>\n",
              "      <td>1529.430054</td>\n",
              "      <td>1328.878540</td>\n",
              "    </tr>\n",
              "    <tr>\n",
              "      <th>2020-07-28</th>\n",
              "      <td>1503.650024</td>\n",
              "      <td>1329.435181</td>\n",
              "    </tr>\n",
              "    <tr>\n",
              "      <th>2020-07-29</th>\n",
              "      <td>1523.510010</td>\n",
              "      <td>1332.328247</td>\n",
              "    </tr>\n",
              "    <tr>\n",
              "      <th>2020-07-30</th>\n",
              "      <td>1538.369995</td>\n",
              "      <td>1336.240479</td>\n",
              "    </tr>\n",
              "    <tr>\n",
              "      <th>2020-07-31</th>\n",
              "      <td>1487.949951</td>\n",
              "      <td>1339.490234</td>\n",
              "    </tr>\n",
              "    <tr>\n",
              "      <th>2020-08-03</th>\n",
              "      <td>1482.760010</td>\n",
              "      <td>1340.152710</td>\n",
              "    </tr>\n",
              "    <tr>\n",
              "      <th>2020-08-04</th>\n",
              "      <td>1473.300049</td>\n",
              "      <td>1339.595337</td>\n",
              "    </tr>\n",
              "    <tr>\n",
              "      <th>2020-08-05</th>\n",
              "      <td>1479.089966</td>\n",
              "      <td>1340.152710</td>\n",
              "    </tr>\n",
              "    <tr>\n",
              "      <th>2020-08-06</th>\n",
              "      <td>1504.949951</td>\n",
              "      <td>1339.669312</td>\n",
              "    </tr>\n",
              "    <tr>\n",
              "      <th>2020-08-07</th>\n",
              "      <td>1498.369995</td>\n",
              "      <td>1340.152710</td>\n",
              "    </tr>\n",
              "    <tr>\n",
              "      <th>2020-08-10</th>\n",
              "      <td>1496.819946</td>\n",
              "      <td>1339.669312</td>\n",
              "    </tr>\n",
              "    <tr>\n",
              "      <th>2020-08-11</th>\n",
              "      <td>1480.540039</td>\n",
              "      <td>1340.014893</td>\n",
              "    </tr>\n",
              "    <tr>\n",
              "      <th>2020-08-12</th>\n",
              "      <td>1507.239990</td>\n",
              "      <td>1335.594238</td>\n",
              "    </tr>\n",
              "    <tr>\n",
              "      <th>2020-08-13</th>\n",
              "      <td>1516.650024</td>\n",
              "      <td>1332.439819</td>\n",
              "    </tr>\n",
              "    <tr>\n",
              "      <th>2020-08-14</th>\n",
              "      <td>1504.630005</td>\n",
              "      <td>1330.690430</td>\n",
              "    </tr>\n",
              "  </tbody>\n",
              "</table>\n",
              "</div>"
            ],
            "text/plain": [
              "              Adj Close  Predictions\n",
              "Date                                \n",
              "2020-07-06  1499.650024  1301.682861\n",
              "2020-07-07  1489.920044  1301.426880\n",
              "2020-07-08  1503.599976  1301.682861\n",
              "2020-07-09  1518.660034  1301.301636\n",
              "2020-07-10  1539.010010  1301.682861\n",
              "2020-07-13  1512.229980  1301.260620\n",
              "2020-07-14  1520.859985  1301.630859\n",
              "2020-07-15  1516.880005  1305.856689\n",
              "2020-07-16  1514.920044  1311.701904\n",
              "2020-07-17  1516.849976  1315.416626\n",
              "2020-07-20  1563.839966  1320.701904\n",
              "2020-07-21  1555.920044  1326.702759\n",
              "2020-07-22  1564.849976  1328.303589\n",
              "2020-07-23  1516.750000  1327.762695\n",
              "2020-07-24  1508.209961  1329.023193\n",
              "2020-07-27  1529.430054  1328.878540\n",
              "2020-07-28  1503.650024  1329.435181\n",
              "2020-07-29  1523.510010  1332.328247\n",
              "2020-07-30  1538.369995  1336.240479\n",
              "2020-07-31  1487.949951  1339.490234\n",
              "2020-08-03  1482.760010  1340.152710\n",
              "2020-08-04  1473.300049  1339.595337\n",
              "2020-08-05  1479.089966  1340.152710\n",
              "2020-08-06  1504.949951  1339.669312\n",
              "2020-08-07  1498.369995  1340.152710\n",
              "2020-08-10  1496.819946  1339.669312\n",
              "2020-08-11  1480.540039  1340.014893\n",
              "2020-08-12  1507.239990  1335.594238\n",
              "2020-08-13  1516.650024  1332.439819\n",
              "2020-08-14  1504.630005  1330.690430"
            ]
          },
          "metadata": {
            "tags": []
          },
          "execution_count": 139
        }
      ]
    },
    {
      "cell_type": "code",
      "metadata": {
        "id": "70AKqhoPCGOS",
        "colab_type": "code",
        "colab": {}
      },
      "source": [
        "# # Get the quote\n",
        "# # apple_quote = web.DataReader('TATAMOTORS.NS',data_source='yahoo',start='2012-01-01',end='2020-06-22')\n",
        "# apple_quote, meta_data = cc.get_currency_exchange_intraday(from_symbol='GBP', to_symbol='JPY',interval='1min',outputsize='full')\n",
        "# apple_quote = apple_quote[::-1]\n",
        "# # Create new dataframe\n",
        "# new_df = apple_quote.filter(items=['Open'])\n",
        "# # Get the last 20 days closing price and convert to numpy array\n",
        "# last_20_days = new_df[-20:].values\n",
        "# # Scale the data to be values between 0 and 1\n",
        "# last_20_days_scaled = scaler.transform(last_20_days)\n",
        "# # Create an empty list\n",
        "# X_test = []\n",
        "# # Append the past 20 days\n",
        "# X_test.append(last_20_days_scaled)\n",
        "\n",
        "# # Convert the X_test dataset to numpy array\n",
        "# X_test = np.array(X_test)\n",
        "# # Reshape the data\n",
        "# X_test = np.reshape(X_test,(X_test.shape[0],X_test.shape[1],1))\n",
        "# # Get Predicted scaled price\n",
        "# pred_price = model.predict(X_test)\n",
        "# # undo the scaling\n",
        "# pred_price = scaler.inverse_transform(pred_price)\n",
        "# comp = (new_df['Open'][-1])\n",
        "# # comp = float(\"{:.5f}\".format(comp))\n",
        "# # pred_price = float(pred_price)\n",
        "# # pred_price = float(\"{:.4f}\".format(pred_price))\n",
        "# print(pred_price)\n",
        "# print(comp)\n",
        "# if pred_price > comp:\n",
        "#   print(\"green\")\n",
        "# elif pred_price < comp:\n",
        "#   print(\"red\")\n",
        "# else:\n",
        "#   print (\"Dont buy or sell\")"
      ],
      "execution_count": null,
      "outputs": []
    },
    {
      "cell_type": "code",
      "metadata": {
        "id": "KDNxPwwKlgoQ",
        "colab_type": "code",
        "colab": {}
      },
      "source": [
        "# new, meta_data = cc.get_currency_exchange_intraday(from_symbol='GBP', to_symbol='JPY',interval='1min',outputsize='full')\n",
        "# new = new[::-1]\n",
        "# print(new.tail(10))"
      ],
      "execution_count": null,
      "outputs": []
    },
    {
      "cell_type": "code",
      "metadata": {
        "id": "_SlVRj83-vA8",
        "colab_type": "code",
        "colab": {}
      },
      "source": [
        "# pred_price = np.reshape(pred_price,1)\n",
        "# lst_2 = np.reshape(lst_2,20)\n",
        "# lst_2 = np.append(lst_2,pred_price)\n",
        "# lst_2 = lst_2[1:]\n",
        "# lst_2=np.reshape(lst_2,(1,20,1))\n",
        "# pred_price = model.predict(lst_2)\n",
        "# pred_price = scaler.inverse_transform(pred_price)\n",
        "# print(pred_price)\n",
        "# pred_price = scaler.transform(pred_price)"
      ],
      "execution_count": null,
      "outputs": []
    },
    {
      "cell_type": "code",
      "metadata": {
        "id": "oWCoEGtnjIzo",
        "colab_type": "code",
        "colab": {}
      },
      "source": [
        ""
      ],
      "execution_count": null,
      "outputs": []
    }
  ]
}