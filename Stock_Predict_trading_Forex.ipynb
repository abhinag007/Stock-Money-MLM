{
  "nbformat": 4,
  "nbformat_minor": 0,
  "metadata": {
    "colab": {
      "name": "Stock_Predict_trading_Forex.ipynb",
      "provenance": [],
      "collapsed_sections": [],
      "include_colab_link": true
    },
    "kernelspec": {
      "name": "python3",
      "display_name": "Python 3"
    }
  },
  "cells": [
    {
      "cell_type": "markdown",
      "metadata": {
        "id": "view-in-github",
        "colab_type": "text"
      },
      "source": [
        "<a href=\"https://colab.research.google.com/github/abhinag007/Stock-Money-MLM/blob/master/Stock_Predict_trading_Forex.ipynb\" target=\"_parent\"><img src=\"https://colab.research.google.com/assets/colab-badge.svg\" alt=\"Open In Colab\"/></a>"
      ]
    },
    {
      "cell_type": "code",
      "metadata": {
        "id": "apJmPMcGlpwI",
        "colab_type": "code",
        "colab": {
          "base_uri": "https://localhost:8080/",
          "height": 72
        },
        "outputId": "b2e663e9-3ebd-4103-c304-5fd3bc63efcd"
      },
      "source": [
        "import math\n",
        "import pandas_datareader.data as web\n",
        "import numpy as np\n",
        "import pandas as pd\n",
        "from sklearn.preprocessing import MinMaxScaler\n",
        "from keras.models import Sequential\n",
        "from keras.layers import Dense, LSTM\n",
        "import matplotlib.pyplot as plt\n",
        "from datetime import datetime\n",
        "from datetime import time\n",
        "plt.style.use('fivethirtyeight') "
      ],
      "execution_count": 1,
      "outputs": [
        {
          "output_type": "stream",
          "text": [
            "/usr/local/lib/python3.6/dist-packages/pandas_datareader/compat/__init__.py:7: FutureWarning: pandas.util.testing is deprecated. Use the functions in the public API at pandas.testing instead.\n",
            "  from pandas.util.testing import assert_frame_equal\n"
          ],
          "name": "stderr"
        }
      ]
    },
    {
      "cell_type": "code",
      "metadata": {
        "id": "sW8Zj9Hyd6LZ",
        "colab_type": "code",
        "colab": {
          "base_uri": "https://localhost:8080/",
          "height": 592
        },
        "outputId": "78c41c7e-1175-4a82-9b29-236057e78220"
      },
      "source": [
        "pip install alpha_vantage"
      ],
      "execution_count": null,
      "outputs": [
        {
          "output_type": "stream",
          "text": [
            "Collecting alpha_vantage\n",
            "  Downloading https://files.pythonhosted.org/packages/12/e3/72ec32d859a363c2eebaa42e0d4abb5ac7172a7a77a2307576ceb5fc1b42/alpha_vantage-2.2.0.tar.gz\n",
            "Collecting aiohttp\n",
            "\u001b[?25l  Downloading https://files.pythonhosted.org/packages/7c/39/7eb5f98d24904e0f6d3edb505d4aa60e3ef83c0a58d6fe18244a51757247/aiohttp-3.6.2-cp36-cp36m-manylinux1_x86_64.whl (1.2MB)\n",
            "\u001b[K     |████████████████████████████████| 1.2MB 4.1MB/s \n",
            "\u001b[?25hRequirement already satisfied: requests in /usr/local/lib/python3.6/dist-packages (from alpha_vantage) (2.23.0)\n",
            "Collecting yarl<2.0,>=1.0\n",
            "\u001b[?25l  Downloading https://files.pythonhosted.org/packages/a0/b4/2cbeaf2c3ea53865d9613b315fe24e78c66acedb1df7e4be4e064c87203b/yarl-1.5.1-cp36-cp36m-manylinux1_x86_64.whl (257kB)\n",
            "\u001b[K     |████████████████████████████████| 266kB 17.9MB/s \n",
            "\u001b[?25hRequirement already satisfied: attrs>=17.3.0 in /usr/local/lib/python3.6/dist-packages (from aiohttp->alpha_vantage) (20.1.0)\n",
            "Collecting multidict<5.0,>=4.5\n",
            "\u001b[?25l  Downloading https://files.pythonhosted.org/packages/1a/95/f50352b5366e7d579e8b99631680a9e32e1b22adfa1629a8f23b1d22d5e2/multidict-4.7.6-cp36-cp36m-manylinux1_x86_64.whl (148kB)\n",
            "\u001b[K     |████████████████████████████████| 153kB 18.6MB/s \n",
            "\u001b[?25hRequirement already satisfied: typing-extensions>=3.6.5; python_version < \"3.7\" in /usr/local/lib/python3.6/dist-packages (from aiohttp->alpha_vantage) (3.7.4.3)\n",
            "Collecting async-timeout<4.0,>=3.0\n",
            "  Downloading https://files.pythonhosted.org/packages/e1/1e/5a4441be21b0726c4464f3f23c8b19628372f606755a9d2e46c187e65ec4/async_timeout-3.0.1-py3-none-any.whl\n",
            "Collecting idna-ssl>=1.0; python_version < \"3.7\"\n",
            "  Downloading https://files.pythonhosted.org/packages/46/03/07c4894aae38b0de52b52586b24bf189bb83e4ddabfe2e2c8f2419eec6f4/idna-ssl-1.1.0.tar.gz\n",
            "Requirement already satisfied: chardet<4.0,>=2.0 in /usr/local/lib/python3.6/dist-packages (from aiohttp->alpha_vantage) (3.0.4)\n",
            "Requirement already satisfied: idna<3,>=2.5 in /usr/local/lib/python3.6/dist-packages (from requests->alpha_vantage) (2.10)\n",
            "Requirement already satisfied: certifi>=2017.4.17 in /usr/local/lib/python3.6/dist-packages (from requests->alpha_vantage) (2020.6.20)\n",
            "Requirement already satisfied: urllib3!=1.25.0,!=1.25.1,<1.26,>=1.21.1 in /usr/local/lib/python3.6/dist-packages (from requests->alpha_vantage) (1.24.3)\n",
            "Building wheels for collected packages: alpha-vantage, idna-ssl\n",
            "  Building wheel for alpha-vantage (setup.py) ... \u001b[?25l\u001b[?25hdone\n",
            "  Created wheel for alpha-vantage: filename=alpha_vantage-2.2.0-cp36-none-any.whl size=25706 sha256=6baced859c7dbbf16cda731f1536cf606cc3336bb3b50f8eee68c0543661eaec\n",
            "  Stored in directory: /root/.cache/pip/wheels/3a/fa/05/80b0afcbd2a4de8bd2a0c5cd77084e3d3a9cc12c48be9b7f84\n",
            "  Building wheel for idna-ssl (setup.py) ... \u001b[?25l\u001b[?25hdone\n",
            "  Created wheel for idna-ssl: filename=idna_ssl-1.1.0-cp36-none-any.whl size=3161 sha256=c3e4d5ebe8e286100f8fc413217f611a8ce972135dac230dab1dc58899d97568\n",
            "  Stored in directory: /root/.cache/pip/wheels/d3/00/b3/32d613e19e08a739751dd6bf998cfed277728f8b2127ad4eb7\n",
            "Successfully built alpha-vantage idna-ssl\n",
            "Installing collected packages: multidict, yarl, async-timeout, idna-ssl, aiohttp, alpha-vantage\n",
            "Successfully installed aiohttp-3.6.2 alpha-vantage-2.2.0 async-timeout-3.0.1 idna-ssl-1.1.0 multidict-4.7.6 yarl-1.5.1\n"
          ],
          "name": "stdout"
        }
      ]
    },
    {
      "cell_type": "code",
      "metadata": {
        "id": "RlnTjHxTeCOY",
        "colab_type": "code",
        "colab": {}
      },
      "source": [
        "api_key = 'TH6MZ4PJ9YRP8HNX'"
      ],
      "execution_count": null,
      "outputs": []
    },
    {
      "cell_type": "code",
      "metadata": {
        "id": "mPAvnyLzeB7R",
        "colab_type": "code",
        "colab": {}
      },
      "source": [
        "import pandas as pd\n",
        "from alpha_vantage.timeseries import TimeSeries\n",
        "import time\n",
        "import matplotlib.pyplot as plt\n",
        "from alpha_vantage.foreignexchange import ForeignExchange\n",
        "from alpha_vantage.cryptocurrencies import CryptoCurrencies"
      ],
      "execution_count": null,
      "outputs": []
    },
    {
      "cell_type": "code",
      "metadata": {
        "id": "Rg2VVjy_AJjA",
        "colab_type": "code",
        "colab": {}
      },
      "source": [
        "# cc = CryptoCurrencies(key = api_key, output_format = 'pandas')\n",
        "# df, meta_data = cc.CryptoCurrencies(from_currency='USD',to_currency=\"BTC\")\n",
        "# print(df)"
      ],
      "execution_count": null,
      "outputs": []
    },
    {
      "cell_type": "code",
      "metadata": {
        "id": "yfKdxuL-eBvT",
        "colab_type": "code",
        "colab": {
          "base_uri": "https://localhost:8080/",
          "height": 277
        },
        "outputId": "a2d3ee3a-9e63-4688-b341-2f9e6fa48ae5"
      },
      "source": [
        "cc = ForeignExchange(key = api_key, output_format = 'pandas')\n",
        "df, meta_data = cc.get_currency_exchange_intraday(from_symbol='EUR', to_symbol='USD',interval='1min',outputsize='full')\n",
        "print(df)"
      ],
      "execution_count": null,
      "outputs": [
        {
          "output_type": "stream",
          "text": [
            "                     1. open  2. high  3. low  4. close\n",
            "date                                                   \n",
            "2020-09-07 14:33:00   1.1825   1.1825  1.1824    1.1824\n",
            "2020-09-07 14:32:00   1.1825   1.1826  1.1823    1.1825\n",
            "2020-09-07 14:31:00   1.1825   1.1825  1.1823    1.1824\n",
            "2020-09-07 14:30:00   1.1825   1.1826  1.1822    1.1824\n",
            "2020-09-07 14:29:00   1.1825   1.1826  1.1823    1.1825\n",
            "...                      ...      ...     ...       ...\n",
            "2020-09-06 19:44:00   1.1839   1.1839  1.1839    1.1839\n",
            "2020-09-06 19:43:00   1.1839   1.1839  1.1839    1.1839\n",
            "2020-09-06 19:42:00   1.1839   1.1839  1.1839    1.1839\n",
            "2020-09-06 19:41:00   1.1839   1.1839  1.1839    1.1839\n",
            "2020-09-06 19:40:00   1.1839   1.1839  1.1839    1.1839\n",
            "\n",
            "[1134 rows x 4 columns]\n"
          ],
          "name": "stdout"
        }
      ]
    },
    {
      "cell_type": "code",
      "metadata": {
        "id": "WLKYJsm6eBi2",
        "colab_type": "code",
        "colab": {
          "base_uri": "https://localhost:8080/",
          "height": 446
        },
        "outputId": "de6e0909-92a2-441d-a7dd-7fd23303b070"
      },
      "source": [
        "df = df[::-1]\n",
        "df"
      ],
      "execution_count": null,
      "outputs": [
        {
          "output_type": "execute_result",
          "data": {
            "text/html": [
              "<div>\n",
              "<style scoped>\n",
              "    .dataframe tbody tr th:only-of-type {\n",
              "        vertical-align: middle;\n",
              "    }\n",
              "\n",
              "    .dataframe tbody tr th {\n",
              "        vertical-align: top;\n",
              "    }\n",
              "\n",
              "    .dataframe thead th {\n",
              "        text-align: right;\n",
              "    }\n",
              "</style>\n",
              "<table border=\"1\" class=\"dataframe\">\n",
              "  <thead>\n",
              "    <tr style=\"text-align: right;\">\n",
              "      <th></th>\n",
              "      <th>1. open</th>\n",
              "      <th>2. high</th>\n",
              "      <th>3. low</th>\n",
              "      <th>4. close</th>\n",
              "    </tr>\n",
              "    <tr>\n",
              "      <th>date</th>\n",
              "      <th></th>\n",
              "      <th></th>\n",
              "      <th></th>\n",
              "      <th></th>\n",
              "    </tr>\n",
              "  </thead>\n",
              "  <tbody>\n",
              "    <tr>\n",
              "      <th>2020-09-06 19:40:00</th>\n",
              "      <td>1.1839</td>\n",
              "      <td>1.1839</td>\n",
              "      <td>1.1839</td>\n",
              "      <td>1.1839</td>\n",
              "    </tr>\n",
              "    <tr>\n",
              "      <th>2020-09-06 19:41:00</th>\n",
              "      <td>1.1839</td>\n",
              "      <td>1.1839</td>\n",
              "      <td>1.1839</td>\n",
              "      <td>1.1839</td>\n",
              "    </tr>\n",
              "    <tr>\n",
              "      <th>2020-09-06 19:42:00</th>\n",
              "      <td>1.1839</td>\n",
              "      <td>1.1839</td>\n",
              "      <td>1.1839</td>\n",
              "      <td>1.1839</td>\n",
              "    </tr>\n",
              "    <tr>\n",
              "      <th>2020-09-06 19:43:00</th>\n",
              "      <td>1.1839</td>\n",
              "      <td>1.1839</td>\n",
              "      <td>1.1839</td>\n",
              "      <td>1.1839</td>\n",
              "    </tr>\n",
              "    <tr>\n",
              "      <th>2020-09-06 19:44:00</th>\n",
              "      <td>1.1839</td>\n",
              "      <td>1.1839</td>\n",
              "      <td>1.1839</td>\n",
              "      <td>1.1839</td>\n",
              "    </tr>\n",
              "    <tr>\n",
              "      <th>...</th>\n",
              "      <td>...</td>\n",
              "      <td>...</td>\n",
              "      <td>...</td>\n",
              "      <td>...</td>\n",
              "    </tr>\n",
              "    <tr>\n",
              "      <th>2020-09-07 14:29:00</th>\n",
              "      <td>1.1825</td>\n",
              "      <td>1.1826</td>\n",
              "      <td>1.1823</td>\n",
              "      <td>1.1825</td>\n",
              "    </tr>\n",
              "    <tr>\n",
              "      <th>2020-09-07 14:30:00</th>\n",
              "      <td>1.1825</td>\n",
              "      <td>1.1826</td>\n",
              "      <td>1.1822</td>\n",
              "      <td>1.1824</td>\n",
              "    </tr>\n",
              "    <tr>\n",
              "      <th>2020-09-07 14:31:00</th>\n",
              "      <td>1.1825</td>\n",
              "      <td>1.1825</td>\n",
              "      <td>1.1823</td>\n",
              "      <td>1.1824</td>\n",
              "    </tr>\n",
              "    <tr>\n",
              "      <th>2020-09-07 14:32:00</th>\n",
              "      <td>1.1825</td>\n",
              "      <td>1.1826</td>\n",
              "      <td>1.1823</td>\n",
              "      <td>1.1825</td>\n",
              "    </tr>\n",
              "    <tr>\n",
              "      <th>2020-09-07 14:33:00</th>\n",
              "      <td>1.1825</td>\n",
              "      <td>1.1825</td>\n",
              "      <td>1.1824</td>\n",
              "      <td>1.1824</td>\n",
              "    </tr>\n",
              "  </tbody>\n",
              "</table>\n",
              "<p>1134 rows × 4 columns</p>\n",
              "</div>"
            ],
            "text/plain": [
              "                     1. open  2. high  3. low  4. close\n",
              "date                                                   \n",
              "2020-09-06 19:40:00   1.1839   1.1839  1.1839    1.1839\n",
              "2020-09-06 19:41:00   1.1839   1.1839  1.1839    1.1839\n",
              "2020-09-06 19:42:00   1.1839   1.1839  1.1839    1.1839\n",
              "2020-09-06 19:43:00   1.1839   1.1839  1.1839    1.1839\n",
              "2020-09-06 19:44:00   1.1839   1.1839  1.1839    1.1839\n",
              "...                      ...      ...     ...       ...\n",
              "2020-09-07 14:29:00   1.1825   1.1826  1.1823    1.1825\n",
              "2020-09-07 14:30:00   1.1825   1.1826  1.1822    1.1824\n",
              "2020-09-07 14:31:00   1.1825   1.1825  1.1823    1.1824\n",
              "2020-09-07 14:32:00   1.1825   1.1826  1.1823    1.1825\n",
              "2020-09-07 14:33:00   1.1825   1.1825  1.1824    1.1824\n",
              "\n",
              "[1134 rows x 4 columns]"
            ]
          },
          "metadata": {
            "tags": []
          },
          "execution_count": 7
        }
      ]
    },
    {
      "cell_type": "code",
      "metadata": {
        "id": "zOMA72kPmqUa",
        "colab_type": "code",
        "colab": {}
      },
      "source": [
        "#Get the stock quote\n",
        "# df = web.DataReader('TATAMOTORS.NS', data_source='yahoo',start = '2020-01-25', end = date.today())"
      ],
      "execution_count": null,
      "outputs": []
    },
    {
      "cell_type": "code",
      "metadata": {
        "id": "UdrFnTqS9qTt",
        "colab_type": "code",
        "colab": {
          "base_uri": "https://localhost:8080/",
          "height": 446
        },
        "outputId": "80595790-6971-4408-b67f-0b0974727b2c"
      },
      "source": [
        "df"
      ],
      "execution_count": null,
      "outputs": [
        {
          "output_type": "execute_result",
          "data": {
            "text/html": [
              "<div>\n",
              "<style scoped>\n",
              "    .dataframe tbody tr th:only-of-type {\n",
              "        vertical-align: middle;\n",
              "    }\n",
              "\n",
              "    .dataframe tbody tr th {\n",
              "        vertical-align: top;\n",
              "    }\n",
              "\n",
              "    .dataframe thead th {\n",
              "        text-align: right;\n",
              "    }\n",
              "</style>\n",
              "<table border=\"1\" class=\"dataframe\">\n",
              "  <thead>\n",
              "    <tr style=\"text-align: right;\">\n",
              "      <th></th>\n",
              "      <th>1. open</th>\n",
              "      <th>2. high</th>\n",
              "      <th>3. low</th>\n",
              "      <th>4. close</th>\n",
              "    </tr>\n",
              "    <tr>\n",
              "      <th>date</th>\n",
              "      <th></th>\n",
              "      <th></th>\n",
              "      <th></th>\n",
              "      <th></th>\n",
              "    </tr>\n",
              "  </thead>\n",
              "  <tbody>\n",
              "    <tr>\n",
              "      <th>2020-09-06 19:40:00</th>\n",
              "      <td>1.1839</td>\n",
              "      <td>1.1839</td>\n",
              "      <td>1.1839</td>\n",
              "      <td>1.1839</td>\n",
              "    </tr>\n",
              "    <tr>\n",
              "      <th>2020-09-06 19:41:00</th>\n",
              "      <td>1.1839</td>\n",
              "      <td>1.1839</td>\n",
              "      <td>1.1839</td>\n",
              "      <td>1.1839</td>\n",
              "    </tr>\n",
              "    <tr>\n",
              "      <th>2020-09-06 19:42:00</th>\n",
              "      <td>1.1839</td>\n",
              "      <td>1.1839</td>\n",
              "      <td>1.1839</td>\n",
              "      <td>1.1839</td>\n",
              "    </tr>\n",
              "    <tr>\n",
              "      <th>2020-09-06 19:43:00</th>\n",
              "      <td>1.1839</td>\n",
              "      <td>1.1839</td>\n",
              "      <td>1.1839</td>\n",
              "      <td>1.1839</td>\n",
              "    </tr>\n",
              "    <tr>\n",
              "      <th>2020-09-06 19:44:00</th>\n",
              "      <td>1.1839</td>\n",
              "      <td>1.1839</td>\n",
              "      <td>1.1839</td>\n",
              "      <td>1.1839</td>\n",
              "    </tr>\n",
              "    <tr>\n",
              "      <th>...</th>\n",
              "      <td>...</td>\n",
              "      <td>...</td>\n",
              "      <td>...</td>\n",
              "      <td>...</td>\n",
              "    </tr>\n",
              "    <tr>\n",
              "      <th>2020-09-07 14:29:00</th>\n",
              "      <td>1.1825</td>\n",
              "      <td>1.1826</td>\n",
              "      <td>1.1823</td>\n",
              "      <td>1.1825</td>\n",
              "    </tr>\n",
              "    <tr>\n",
              "      <th>2020-09-07 14:30:00</th>\n",
              "      <td>1.1825</td>\n",
              "      <td>1.1826</td>\n",
              "      <td>1.1822</td>\n",
              "      <td>1.1824</td>\n",
              "    </tr>\n",
              "    <tr>\n",
              "      <th>2020-09-07 14:31:00</th>\n",
              "      <td>1.1825</td>\n",
              "      <td>1.1825</td>\n",
              "      <td>1.1823</td>\n",
              "      <td>1.1824</td>\n",
              "    </tr>\n",
              "    <tr>\n",
              "      <th>2020-09-07 14:32:00</th>\n",
              "      <td>1.1825</td>\n",
              "      <td>1.1826</td>\n",
              "      <td>1.1823</td>\n",
              "      <td>1.1825</td>\n",
              "    </tr>\n",
              "    <tr>\n",
              "      <th>2020-09-07 14:33:00</th>\n",
              "      <td>1.1825</td>\n",
              "      <td>1.1825</td>\n",
              "      <td>1.1824</td>\n",
              "      <td>1.1824</td>\n",
              "    </tr>\n",
              "  </tbody>\n",
              "</table>\n",
              "<p>1134 rows × 4 columns</p>\n",
              "</div>"
            ],
            "text/plain": [
              "                     1. open  2. high  3. low  4. close\n",
              "date                                                   \n",
              "2020-09-06 19:40:00   1.1839   1.1839  1.1839    1.1839\n",
              "2020-09-06 19:41:00   1.1839   1.1839  1.1839    1.1839\n",
              "2020-09-06 19:42:00   1.1839   1.1839  1.1839    1.1839\n",
              "2020-09-06 19:43:00   1.1839   1.1839  1.1839    1.1839\n",
              "2020-09-06 19:44:00   1.1839   1.1839  1.1839    1.1839\n",
              "...                      ...      ...     ...       ...\n",
              "2020-09-07 14:29:00   1.1825   1.1826  1.1823    1.1825\n",
              "2020-09-07 14:30:00   1.1825   1.1826  1.1822    1.1824\n",
              "2020-09-07 14:31:00   1.1825   1.1825  1.1823    1.1824\n",
              "2020-09-07 14:32:00   1.1825   1.1826  1.1823    1.1825\n",
              "2020-09-07 14:33:00   1.1825   1.1825  1.1824    1.1824\n",
              "\n",
              "[1134 rows x 4 columns]"
            ]
          },
          "metadata": {
            "tags": []
          },
          "execution_count": 9
        }
      ]
    },
    {
      "cell_type": "code",
      "metadata": {
        "id": "CKzQZaqRnR3F",
        "colab_type": "code",
        "colab": {}
      },
      "source": [
        "#show the data\n",
        "df['Date'] = df.index"
      ],
      "execution_count": null,
      "outputs": []
    },
    {
      "cell_type": "code",
      "metadata": {
        "id": "ALCXElU2uJ1X",
        "colab_type": "code",
        "colab": {
          "base_uri": "https://localhost:8080/",
          "height": 446
        },
        "outputId": "686bf092-354a-42b8-fdee-f5af3390d726"
      },
      "source": [
        "df"
      ],
      "execution_count": null,
      "outputs": [
        {
          "output_type": "execute_result",
          "data": {
            "text/html": [
              "<div>\n",
              "<style scoped>\n",
              "    .dataframe tbody tr th:only-of-type {\n",
              "        vertical-align: middle;\n",
              "    }\n",
              "\n",
              "    .dataframe tbody tr th {\n",
              "        vertical-align: top;\n",
              "    }\n",
              "\n",
              "    .dataframe thead th {\n",
              "        text-align: right;\n",
              "    }\n",
              "</style>\n",
              "<table border=\"1\" class=\"dataframe\">\n",
              "  <thead>\n",
              "    <tr style=\"text-align: right;\">\n",
              "      <th></th>\n",
              "      <th>1. open</th>\n",
              "      <th>2. high</th>\n",
              "      <th>3. low</th>\n",
              "      <th>4. close</th>\n",
              "      <th>Date</th>\n",
              "    </tr>\n",
              "    <tr>\n",
              "      <th>date</th>\n",
              "      <th></th>\n",
              "      <th></th>\n",
              "      <th></th>\n",
              "      <th></th>\n",
              "      <th></th>\n",
              "    </tr>\n",
              "  </thead>\n",
              "  <tbody>\n",
              "    <tr>\n",
              "      <th>2020-09-06 19:40:00</th>\n",
              "      <td>1.1839</td>\n",
              "      <td>1.1839</td>\n",
              "      <td>1.1839</td>\n",
              "      <td>1.1839</td>\n",
              "      <td>2020-09-06 19:40:00</td>\n",
              "    </tr>\n",
              "    <tr>\n",
              "      <th>2020-09-06 19:41:00</th>\n",
              "      <td>1.1839</td>\n",
              "      <td>1.1839</td>\n",
              "      <td>1.1839</td>\n",
              "      <td>1.1839</td>\n",
              "      <td>2020-09-06 19:41:00</td>\n",
              "    </tr>\n",
              "    <tr>\n",
              "      <th>2020-09-06 19:42:00</th>\n",
              "      <td>1.1839</td>\n",
              "      <td>1.1839</td>\n",
              "      <td>1.1839</td>\n",
              "      <td>1.1839</td>\n",
              "      <td>2020-09-06 19:42:00</td>\n",
              "    </tr>\n",
              "    <tr>\n",
              "      <th>2020-09-06 19:43:00</th>\n",
              "      <td>1.1839</td>\n",
              "      <td>1.1839</td>\n",
              "      <td>1.1839</td>\n",
              "      <td>1.1839</td>\n",
              "      <td>2020-09-06 19:43:00</td>\n",
              "    </tr>\n",
              "    <tr>\n",
              "      <th>2020-09-06 19:44:00</th>\n",
              "      <td>1.1839</td>\n",
              "      <td>1.1839</td>\n",
              "      <td>1.1839</td>\n",
              "      <td>1.1839</td>\n",
              "      <td>2020-09-06 19:44:00</td>\n",
              "    </tr>\n",
              "    <tr>\n",
              "      <th>...</th>\n",
              "      <td>...</td>\n",
              "      <td>...</td>\n",
              "      <td>...</td>\n",
              "      <td>...</td>\n",
              "      <td>...</td>\n",
              "    </tr>\n",
              "    <tr>\n",
              "      <th>2020-09-07 14:29:00</th>\n",
              "      <td>1.1825</td>\n",
              "      <td>1.1826</td>\n",
              "      <td>1.1823</td>\n",
              "      <td>1.1825</td>\n",
              "      <td>2020-09-07 14:29:00</td>\n",
              "    </tr>\n",
              "    <tr>\n",
              "      <th>2020-09-07 14:30:00</th>\n",
              "      <td>1.1825</td>\n",
              "      <td>1.1826</td>\n",
              "      <td>1.1822</td>\n",
              "      <td>1.1824</td>\n",
              "      <td>2020-09-07 14:30:00</td>\n",
              "    </tr>\n",
              "    <tr>\n",
              "      <th>2020-09-07 14:31:00</th>\n",
              "      <td>1.1825</td>\n",
              "      <td>1.1825</td>\n",
              "      <td>1.1823</td>\n",
              "      <td>1.1824</td>\n",
              "      <td>2020-09-07 14:31:00</td>\n",
              "    </tr>\n",
              "    <tr>\n",
              "      <th>2020-09-07 14:32:00</th>\n",
              "      <td>1.1825</td>\n",
              "      <td>1.1826</td>\n",
              "      <td>1.1823</td>\n",
              "      <td>1.1825</td>\n",
              "      <td>2020-09-07 14:32:00</td>\n",
              "    </tr>\n",
              "    <tr>\n",
              "      <th>2020-09-07 14:33:00</th>\n",
              "      <td>1.1825</td>\n",
              "      <td>1.1825</td>\n",
              "      <td>1.1824</td>\n",
              "      <td>1.1824</td>\n",
              "      <td>2020-09-07 14:33:00</td>\n",
              "    </tr>\n",
              "  </tbody>\n",
              "</table>\n",
              "<p>1134 rows × 5 columns</p>\n",
              "</div>"
            ],
            "text/plain": [
              "                     1. open  2. high  3. low  4. close                Date\n",
              "date                                                                       \n",
              "2020-09-06 19:40:00   1.1839   1.1839  1.1839    1.1839 2020-09-06 19:40:00\n",
              "2020-09-06 19:41:00   1.1839   1.1839  1.1839    1.1839 2020-09-06 19:41:00\n",
              "2020-09-06 19:42:00   1.1839   1.1839  1.1839    1.1839 2020-09-06 19:42:00\n",
              "2020-09-06 19:43:00   1.1839   1.1839  1.1839    1.1839 2020-09-06 19:43:00\n",
              "2020-09-06 19:44:00   1.1839   1.1839  1.1839    1.1839 2020-09-06 19:44:00\n",
              "...                      ...      ...     ...       ...                 ...\n",
              "2020-09-07 14:29:00   1.1825   1.1826  1.1823    1.1825 2020-09-07 14:29:00\n",
              "2020-09-07 14:30:00   1.1825   1.1826  1.1822    1.1824 2020-09-07 14:30:00\n",
              "2020-09-07 14:31:00   1.1825   1.1825  1.1823    1.1824 2020-09-07 14:31:00\n",
              "2020-09-07 14:32:00   1.1825   1.1826  1.1823    1.1825 2020-09-07 14:32:00\n",
              "2020-09-07 14:33:00   1.1825   1.1825  1.1824    1.1824 2020-09-07 14:33:00\n",
              "\n",
              "[1134 rows x 5 columns]"
            ]
          },
          "metadata": {
            "tags": []
          },
          "execution_count": 11
        }
      ]
    },
    {
      "cell_type": "code",
      "metadata": {
        "id": "Wf68KJAlnbDI",
        "colab_type": "code",
        "colab": {
          "base_uri": "https://localhost:8080/",
          "height": 35
        },
        "outputId": "087a5c71-d06c-454e-f1da-88ea7ca03bc2"
      },
      "source": [
        "#Get number of rows and colomns in datasets\n",
        "df.shape"
      ],
      "execution_count": null,
      "outputs": [
        {
          "output_type": "execute_result",
          "data": {
            "text/plain": [
              "(1134, 5)"
            ]
          },
          "metadata": {
            "tags": []
          },
          "execution_count": 12
        }
      ]
    },
    {
      "cell_type": "code",
      "metadata": {
        "id": "qRU7fuU5pyzl",
        "colab_type": "code",
        "colab": {
          "base_uri": "https://localhost:8080/",
          "height": 301
        },
        "outputId": "73b24852-a467-42f0-eddf-e7a22432e982"
      },
      "source": [
        "# Close price history\n",
        "plt.figure(figsize=(16,4))\n",
        "plt.title('Close Price History')\n",
        "plt.plot(df['4. close'],);\n",
        "plt.xlabel('Date', fontsize=18)\n",
        "plt.ylabel('Close price USD($)', fontsize = 18)\n",
        "plt.show()"
      ],
      "execution_count": null,
      "outputs": [
        {
          "output_type": "display_data",
          "data": {
            "image/png": "[encoded data removed]",
            "text/plain": [
              "<Figure size 1152x288 with 1 Axes>"
            ]
          },
          "metadata": {
            "tags": [],
            "needs_background": "light"
          }
        }
      ]
    },
    {
      "cell_type": "code",
      "metadata": {
        "id": "-rVlC095qXQx",
        "colab_type": "code",
        "colab": {
          "base_uri": "https://localhost:8080/",
          "height": 35
        },
        "outputId": "151cb1c0-66a6-4ad3-8ba1-31a75fb45770"
      },
      "source": [
        "# Create new dataframe with only close coloumn\n",
        "data = df.filter(['4. close'])\n",
        "# Convert dataframe to numpy array\n",
        "dataset = data.values\n",
        "# Get the number of rows to train the model on\n",
        "training_data_len = math.ceil( len(dataset) * 0.90)\n",
        "\n",
        "training_data_len"
      ],
      "execution_count": null,
      "outputs": [
        {
          "output_type": "execute_result",
          "data": {
            "text/plain": [
              "1021"
            ]
          },
          "metadata": {
            "tags": []
          },
          "execution_count": 14
        }
      ]
    },
    {
      "cell_type": "code",
      "metadata": {
        "id": "054BIqTuvqM9",
        "colab_type": "code",
        "colab": {
          "base_uri": "https://localhost:8080/",
          "height": 139
        },
        "outputId": "3c838541-8da3-4670-f85d-28e7c596f5ef"
      },
      "source": [
        "# Scale the data\n",
        "scaler = MinMaxScaler(feature_range=(0,1))\n",
        "scaled_data = scaler.fit_transform(dataset)\n",
        "\n",
        "scaled_data"
      ],
      "execution_count": null,
      "outputs": [
        {
          "output_type": "execute_result",
          "data": {
            "text/plain": [
              "array([[0.74285714],\n",
              "       [0.74285714],\n",
              "       [0.74285714],\n",
              "       ...,\n",
              "       [0.31428571],\n",
              "       [0.34285714],\n",
              "       [0.31428571]])"
            ]
          },
          "metadata": {
            "tags": []
          },
          "execution_count": 15
        }
      ]
    },
    {
      "cell_type": "code",
      "metadata": {
        "id": "TpFHvI_owSV5",
        "colab_type": "code",
        "colab": {
          "base_uri": "https://localhost:8080/",
          "height": 260
        },
        "outputId": "c457cf6e-9ab0-4969-ad34-69279b78e86d"
      },
      "source": [
        "# Create training datasets\n",
        "# Create the scaled training datasets\n",
        "train_data = scaled_data[0:training_data_len,:]\n",
        "# Slit x_train and y_train datasets\n",
        "x_train = []\n",
        "y_train = []\n",
        "for i in range(60,len(train_data)):\n",
        "  x_train.append(train_data[i-60:i,0])\n",
        "  y_train.append(train_data[i,0])\n",
        "  if i<=60:\n",
        "    print(x_train)\n",
        "    print(y_train)\n",
        "    print() "
      ],
      "execution_count": null,
      "outputs": [
        {
          "output_type": "stream",
          "text": [
            "[array([0.74285714, 0.74285714, 0.74285714, 0.74285714, 0.74285714,\n",
            "       0.74285714, 0.74285714, 0.77142857, 0.77142857, 0.77142857,\n",
            "       0.77142857, 0.77142857, 0.77142857, 0.77142857, 0.77142857,\n",
            "       0.88571429, 0.88571429, 0.91428571, 0.91428571, 0.91428571,\n",
            "       0.91428571, 0.91428571, 0.91428571, 0.91428571, 0.91428571,\n",
            "       0.91428571, 0.91428571, 0.91428571, 0.91428571, 0.91428571,\n",
            "       0.74285714, 0.74285714, 0.8       , 0.8       , 0.8       ,\n",
            "       0.8       , 0.71428571, 0.71428571, 0.71428571, 0.71428571,\n",
            "       0.71428571, 0.71428571, 0.71428571, 0.71428571, 0.71428571,\n",
            "       0.71428571, 0.71428571, 0.71428571, 0.71428571, 0.71428571,\n",
            "       0.71428571, 0.77142857, 0.77142857, 0.77142857, 0.91428571,\n",
            "       0.91428571, 1.        , 1.        , 1.        , 1.        ])]\n",
            "[1.0]\n",
            "\n"
          ],
          "name": "stdout"
        }
      ]
    },
    {
      "cell_type": "code",
      "metadata": {
        "id": "i9wytjq9xqI8",
        "colab_type": "code",
        "colab": {}
      },
      "source": [
        "# convert x_train y_train to numpy arrays\n",
        "x_train, y_train = np.array(x_train), np.array(y_train)"
      ],
      "execution_count": null,
      "outputs": []
    },
    {
      "cell_type": "code",
      "metadata": {
        "id": "kPm9qFun1Yyh",
        "colab_type": "code",
        "colab": {
          "base_uri": "https://localhost:8080/",
          "height": 35
        },
        "outputId": "32bb6781-81a1-43fb-a72e-275cba2764b0"
      },
      "source": [
        "# Reshape the data\n",
        "x_train = np.reshape(x_train,(x_train.shape[0], x_train.shape[1],1))\n",
        "x_train.shape"
      ],
      "execution_count": null,
      "outputs": [
        {
          "output_type": "execute_result",
          "data": {
            "text/plain": [
              "(961, 60, 1)"
            ]
          },
          "metadata": {
            "tags": []
          },
          "execution_count": 18
        }
      ]
    },
    {
      "cell_type": "code",
      "metadata": {
        "id": "YphvzrAL1nXb",
        "colab_type": "code",
        "colab": {}
      },
      "source": [
        "# Build LSTM Model\n",
        "model = Sequential()\n",
        "model.add(LSTM(50,return_sequences=True, input_shape = (x_train.shape[1],1)))\n",
        "model.add(LSTM(50, return_sequences=False))\n",
        "model.add(Dense(25))\n",
        "model.add(Dense(1))\n"
      ],
      "execution_count": null,
      "outputs": []
    },
    {
      "cell_type": "code",
      "metadata": {
        "id": "vUy-netL42K4",
        "colab_type": "code",
        "colab": {}
      },
      "source": [
        "model.compile(optimizer='adam',loss='mse')"
      ],
      "execution_count": null,
      "outputs": []
    },
    {
      "cell_type": "code",
      "metadata": {
        "id": "KJKvbL_r5kH-",
        "colab_type": "code",
        "colab": {
          "base_uri": "https://localhost:8080/",
          "height": 52
        },
        "outputId": "b2a22470-0143-49b8-e95d-69187c28b6d1"
      },
      "source": [
        "model.fit(x_train,y_train,batch_size=1, epochs = 1)"
      ],
      "execution_count": null,
      "outputs": [
        {
          "output_type": "stream",
          "text": [
            "961/961 [==============================] - 20s 21ms/step - loss: 0.0058\n"
          ],
          "name": "stdout"
        },
        {
          "output_type": "execute_result",
          "data": {
            "text/plain": [
              "<tensorflow.python.keras.callbacks.History at 0x7fb13657cf98>"
            ]
          },
          "metadata": {
            "tags": []
          },
          "execution_count": 21
        }
      ]
    },
    {
      "cell_type": "code",
      "metadata": {
        "id": "lQrQdp_g5_VL",
        "colab_type": "code",
        "colab": {}
      },
      "source": [
        "# Crete testing datasets\n",
        "# Create a new array containing scaled value from index 1704 to 2130\n",
        "test_data = scaled_data[training_data_len-60: ,:]\n",
        "# Create dataset x_test, y_test \n",
        "x_test = []\n",
        "y_test = dataset[training_data_len: ,:]\n",
        "for i in range(60, len(test_data)):\n",
        "  x_test.append(test_data[i-60:i, 0])"
      ],
      "execution_count": null,
      "outputs": []
    },
    {
      "cell_type": "code",
      "metadata": {
        "id": "pCf7PuLD8ifs",
        "colab_type": "code",
        "colab": {}
      },
      "source": [
        "x_test = np.array(x_test)"
      ],
      "execution_count": null,
      "outputs": []
    },
    {
      "cell_type": "code",
      "metadata": {
        "id": "ChpGsyct73c7",
        "colab_type": "code",
        "colab": {}
      },
      "source": [
        "# Reshape the data\n",
        "x_test = np.reshape(x_test,(x_test.shape[0],x_test.shape[1],1))"
      ],
      "execution_count": null,
      "outputs": []
    },
    {
      "cell_type": "code",
      "metadata": {
        "id": "REUYDN6V2VpO",
        "colab_type": "code",
        "colab": {}
      },
      "source": [
        "# x_test = range(10)"
      ],
      "execution_count": null,
      "outputs": []
    },
    {
      "cell_type": "code",
      "metadata": {
        "id": "0cu0bGnW8VOj",
        "colab_type": "code",
        "colab": {}
      },
      "source": [
        "# Get model prediction price value\n",
        "predictions = model.predict(x_test)\n",
        "predictions = scaler.inverse_transform(predictions)"
      ],
      "execution_count": null,
      "outputs": []
    },
    {
      "cell_type": "code",
      "metadata": {
        "id": "cQ1NT69s9EoW",
        "colab_type": "code",
        "colab": {
          "base_uri": "https://localhost:8080/",
          "height": 35
        },
        "outputId": "ed0d4c5c-0764-409d-db0e-24a92d5dd8c7"
      },
      "source": [
        "rmse = np.sqrt( np.mean(predictions - y_test)**2)\n",
        "rmse"
      ],
      "execution_count": null,
      "outputs": [
        {
          "output_type": "execute_result",
          "data": {
            "text/plain": [
              "5.4634944949593805e-05"
            ]
          },
          "metadata": {
            "tags": []
          },
          "execution_count": 27
        }
      ]
    },
    {
      "cell_type": "code",
      "metadata": {
        "id": "hmAgyqvW9VMf",
        "colab_type": "code",
        "colab": {
          "base_uri": "https://localhost:8080/",
          "height": 401
        },
        "outputId": "7a2e8adc-988a-48d4-c482-b24c2ee84f8f"
      },
      "source": [
        "# PLot the data\n",
        "train = data[:training_data_len]\n",
        "valid = data[training_data_len:]\n",
        "valid['Predictions'] = predictions\n",
        "# Visualize the data\n",
        "plt.figure(figsize=(12,4))\n",
        "plt.title(\"Model\")\n",
        "plt.xlabel('Date', fontsize = 18)\n",
        "plt.ylabel('Close Price USD($) ', fontsize=18)\n",
        "# plt.plot(train['4. close'])\n",
        "plt.plot(valid[['4. close', 'Predictions']])\n",
        "plt.legend(['Close','Val','Predictions'],loc = 'lower right')\n",
        "plt.tight_layout()\n",
        "plt.show()"
      ],
      "execution_count": null,
      "outputs": [
        {
          "output_type": "stream",
          "text": [
            "/usr/local/lib/python3.6/dist-packages/ipykernel_launcher.py:4: SettingWithCopyWarning: \n",
            "A value is trying to be set on a copy of a slice from a DataFrame.\n",
            "Try using .loc[row_indexer,col_indexer] = value instead\n",
            "\n",
            "See the caveats in the documentation: https://pandas.pydata.org/pandas-docs/stable/user_guide/indexing.html#returning-a-view-versus-a-copy\n",
            "  after removing the cwd from sys.path.\n"
          ],
          "name": "stderr"
        },
        {
          "output_type": "display_data",
          "data": {
            "image/png": "[encoded data removed]",
            "text/plain": [
              "<Figure size 864x288 with 1 Axes>"
            ]
          },
          "metadata": {
            "tags": [],
            "needs_background": "light"
          }
        }
      ]
    },
    {
      "cell_type": "code",
      "metadata": {
        "id": "nbqQ7crH-FvX",
        "colab_type": "code",
        "colab": {
          "base_uri": "https://localhost:8080/",
          "height": 1000
        },
        "outputId": "d2ce0135-2efa-4c2d-ed6a-4d650b890234"
      },
      "source": [
        "valid.tail(60)"
      ],
      "execution_count": null,
      "outputs": [
        {
          "output_type": "execute_result",
          "data": {
            "text/html": [
              "<div>\n",
              "<style scoped>\n",
              "    .dataframe tbody tr th:only-of-type {\n",
              "        vertical-align: middle;\n",
              "    }\n",
              "\n",
              "    .dataframe tbody tr th {\n",
              "        vertical-align: top;\n",
              "    }\n",
              "\n",
              "    .dataframe thead th {\n",
              "        text-align: right;\n",
              "    }\n",
              "</style>\n",
              "<table border=\"1\" class=\"dataframe\">\n",
              "  <thead>\n",
              "    <tr style=\"text-align: right;\">\n",
              "      <th></th>\n",
              "      <th>4. close</th>\n",
              "      <th>Predictions</th>\n",
              "    </tr>\n",
              "    <tr>\n",
              "      <th>date</th>\n",
              "      <th></th>\n",
              "      <th></th>\n",
              "    </tr>\n",
              "  </thead>\n",
              "  <tbody>\n",
              "    <tr>\n",
              "      <th>2020-09-07 13:34:00</th>\n",
              "      <td>1.1821</td>\n",
              "      <td>1.181969</td>\n",
              "    </tr>\n",
              "    <tr>\n",
              "      <th>2020-09-07 13:35:00</th>\n",
              "      <td>1.1820</td>\n",
              "      <td>1.181993</td>\n",
              "    </tr>\n",
              "    <tr>\n",
              "      <th>2020-09-07 13:36:00</th>\n",
              "      <td>1.1821</td>\n",
              "      <td>1.182015</td>\n",
              "    </tr>\n",
              "    <tr>\n",
              "      <th>2020-09-07 13:37:00</th>\n",
              "      <td>1.1821</td>\n",
              "      <td>1.182046</td>\n",
              "    </tr>\n",
              "    <tr>\n",
              "      <th>2020-09-07 13:38:00</th>\n",
              "      <td>1.1821</td>\n",
              "      <td>1.182077</td>\n",
              "    </tr>\n",
              "    <tr>\n",
              "      <th>2020-09-07 13:39:00</th>\n",
              "      <td>1.1820</td>\n",
              "      <td>1.182105</td>\n",
              "    </tr>\n",
              "    <tr>\n",
              "      <th>2020-09-07 13:40:00</th>\n",
              "      <td>1.1820</td>\n",
              "      <td>1.182115</td>\n",
              "    </tr>\n",
              "    <tr>\n",
              "      <th>2020-09-07 13:41:00</th>\n",
              "      <td>1.1821</td>\n",
              "      <td>1.182115</td>\n",
              "    </tr>\n",
              "    <tr>\n",
              "      <th>2020-09-07 13:42:00</th>\n",
              "      <td>1.1820</td>\n",
              "      <td>1.182122</td>\n",
              "    </tr>\n",
              "    <tr>\n",
              "      <th>2020-09-07 13:43:00</th>\n",
              "      <td>1.1821</td>\n",
              "      <td>1.182119</td>\n",
              "    </tr>\n",
              "    <tr>\n",
              "      <th>2020-09-07 13:44:00</th>\n",
              "      <td>1.1821</td>\n",
              "      <td>1.182124</td>\n",
              "    </tr>\n",
              "    <tr>\n",
              "      <th>2020-09-07 13:45:00</th>\n",
              "      <td>1.1822</td>\n",
              "      <td>1.182132</td>\n",
              "    </tr>\n",
              "    <tr>\n",
              "      <th>2020-09-07 13:46:00</th>\n",
              "      <td>1.1825</td>\n",
              "      <td>1.182153</td>\n",
              "    </tr>\n",
              "    <tr>\n",
              "      <th>2020-09-07 13:47:00</th>\n",
              "      <td>1.1823</td>\n",
              "      <td>1.182216</td>\n",
              "    </tr>\n",
              "    <tr>\n",
              "      <th>2020-09-07 13:48:00</th>\n",
              "      <td>1.1822</td>\n",
              "      <td>1.182266</td>\n",
              "    </tr>\n",
              "    <tr>\n",
              "      <th>2020-09-07 13:49:00</th>\n",
              "      <td>1.1823</td>\n",
              "      <td>1.182291</td>\n",
              "    </tr>\n",
              "    <tr>\n",
              "      <th>2020-09-07 13:50:00</th>\n",
              "      <td>1.1822</td>\n",
              "      <td>1.182313</td>\n",
              "    </tr>\n",
              "    <tr>\n",
              "      <th>2020-09-07 13:51:00</th>\n",
              "      <td>1.1821</td>\n",
              "      <td>1.182318</td>\n",
              "    </tr>\n",
              "    <tr>\n",
              "      <th>2020-09-07 13:52:00</th>\n",
              "      <td>1.1821</td>\n",
              "      <td>1.182300</td>\n",
              "    </tr>\n",
              "    <tr>\n",
              "      <th>2020-09-07 13:53:00</th>\n",
              "      <td>1.1822</td>\n",
              "      <td>1.182274</td>\n",
              "    </tr>\n",
              "    <tr>\n",
              "      <th>2020-09-07 13:54:00</th>\n",
              "      <td>1.1822</td>\n",
              "      <td>1.182260</td>\n",
              "    </tr>\n",
              "    <tr>\n",
              "      <th>2020-09-07 13:55:00</th>\n",
              "      <td>1.1820</td>\n",
              "      <td>1.182252</td>\n",
              "    </tr>\n",
              "    <tr>\n",
              "      <th>2020-09-07 13:56:00</th>\n",
              "      <td>1.1822</td>\n",
              "      <td>1.182224</td>\n",
              "    </tr>\n",
              "    <tr>\n",
              "      <th>2020-09-07 13:57:00</th>\n",
              "      <td>1.1822</td>\n",
              "      <td>1.182215</td>\n",
              "    </tr>\n",
              "    <tr>\n",
              "      <th>2020-09-07 13:58:00</th>\n",
              "      <td>1.1821</td>\n",
              "      <td>1.182217</td>\n",
              "    </tr>\n",
              "    <tr>\n",
              "      <th>2020-09-07 13:59:00</th>\n",
              "      <td>1.1820</td>\n",
              "      <td>1.182210</td>\n",
              "    </tr>\n",
              "    <tr>\n",
              "      <th>2020-09-07 14:00:00</th>\n",
              "      <td>1.1817</td>\n",
              "      <td>1.182189</td>\n",
              "    </tr>\n",
              "    <tr>\n",
              "      <th>2020-09-07 14:01:00</th>\n",
              "      <td>1.1820</td>\n",
              "      <td>1.182126</td>\n",
              "    </tr>\n",
              "    <tr>\n",
              "      <th>2020-09-07 14:02:00</th>\n",
              "      <td>1.1818</td>\n",
              "      <td>1.182087</td>\n",
              "    </tr>\n",
              "    <tr>\n",
              "      <th>2020-09-07 14:03:00</th>\n",
              "      <td>1.1820</td>\n",
              "      <td>1.182040</td>\n",
              "    </tr>\n",
              "    <tr>\n",
              "      <th>2020-09-07 14:04:00</th>\n",
              "      <td>1.1820</td>\n",
              "      <td>1.182021</td>\n",
              "    </tr>\n",
              "    <tr>\n",
              "      <th>2020-09-07 14:05:00</th>\n",
              "      <td>1.1818</td>\n",
              "      <td>1.182017</td>\n",
              "    </tr>\n",
              "    <tr>\n",
              "      <th>2020-09-07 14:06:00</th>\n",
              "      <td>1.1817</td>\n",
              "      <td>1.181997</td>\n",
              "    </tr>\n",
              "    <tr>\n",
              "      <th>2020-09-07 14:07:00</th>\n",
              "      <td>1.1822</td>\n",
              "      <td>1.181960</td>\n",
              "    </tr>\n",
              "    <tr>\n",
              "      <th>2020-09-07 14:08:00</th>\n",
              "      <td>1.1821</td>\n",
              "      <td>1.181981</td>\n",
              "    </tr>\n",
              "    <tr>\n",
              "      <th>2020-09-07 14:09:00</th>\n",
              "      <td>1.1822</td>\n",
              "      <td>1.182014</td>\n",
              "    </tr>\n",
              "    <tr>\n",
              "      <th>2020-09-07 14:10:00</th>\n",
              "      <td>1.1821</td>\n",
              "      <td>1.182064</td>\n",
              "    </tr>\n",
              "    <tr>\n",
              "      <th>2020-09-07 14:11:00</th>\n",
              "      <td>1.1822</td>\n",
              "      <td>1.182102</td>\n",
              "    </tr>\n",
              "    <tr>\n",
              "      <th>2020-09-07 14:12:00</th>\n",
              "      <td>1.1823</td>\n",
              "      <td>1.182143</td>\n",
              "    </tr>\n",
              "    <tr>\n",
              "      <th>2020-09-07 14:13:00</th>\n",
              "      <td>1.1822</td>\n",
              "      <td>1.182193</td>\n",
              "    </tr>\n",
              "    <tr>\n",
              "      <th>2020-09-07 14:14:00</th>\n",
              "      <td>1.1822</td>\n",
              "      <td>1.182227</td>\n",
              "    </tr>\n",
              "    <tr>\n",
              "      <th>2020-09-07 14:15:00</th>\n",
              "      <td>1.1822</td>\n",
              "      <td>1.182250</td>\n",
              "    </tr>\n",
              "    <tr>\n",
              "      <th>2020-09-07 14:16:00</th>\n",
              "      <td>1.1821</td>\n",
              "      <td>1.182263</td>\n",
              "    </tr>\n",
              "    <tr>\n",
              "      <th>2020-09-07 14:17:00</th>\n",
              "      <td>1.1822</td>\n",
              "      <td>1.182258</td>\n",
              "    </tr>\n",
              "    <tr>\n",
              "      <th>2020-09-07 14:18:00</th>\n",
              "      <td>1.1821</td>\n",
              "      <td>1.182256</td>\n",
              "    </tr>\n",
              "    <tr>\n",
              "      <th>2020-09-07 14:19:00</th>\n",
              "      <td>1.1820</td>\n",
              "      <td>1.182243</td>\n",
              "    </tr>\n",
              "    <tr>\n",
              "      <th>2020-09-07 14:20:00</th>\n",
              "      <td>1.1820</td>\n",
              "      <td>1.182214</td>\n",
              "    </tr>\n",
              "    <tr>\n",
              "      <th>2020-09-07 14:21:00</th>\n",
              "      <td>1.1820</td>\n",
              "      <td>1.182181</td>\n",
              "    </tr>\n",
              "    <tr>\n",
              "      <th>2020-09-07 14:22:00</th>\n",
              "      <td>1.1820</td>\n",
              "      <td>1.182150</td>\n",
              "    </tr>\n",
              "    <tr>\n",
              "      <th>2020-09-07 14:23:00</th>\n",
              "      <td>1.1820</td>\n",
              "      <td>1.182124</td>\n",
              "    </tr>\n",
              "    <tr>\n",
              "      <th>2020-09-07 14:24:00</th>\n",
              "      <td>1.1820</td>\n",
              "      <td>1.182103</td>\n",
              "    </tr>\n",
              "    <tr>\n",
              "      <th>2020-09-07 14:25:00</th>\n",
              "      <td>1.1821</td>\n",
              "      <td>1.182089</td>\n",
              "    </tr>\n",
              "    <tr>\n",
              "      <th>2020-09-07 14:26:00</th>\n",
              "      <td>1.1821</td>\n",
              "      <td>1.182091</td>\n",
              "    </tr>\n",
              "    <tr>\n",
              "      <th>2020-09-07 14:27:00</th>\n",
              "      <td>1.1823</td>\n",
              "      <td>1.182102</td>\n",
              "    </tr>\n",
              "    <tr>\n",
              "      <th>2020-09-07 14:28:00</th>\n",
              "      <td>1.1825</td>\n",
              "      <td>1.182141</td>\n",
              "    </tr>\n",
              "    <tr>\n",
              "      <th>2020-09-07 14:29:00</th>\n",
              "      <td>1.1825</td>\n",
              "      <td>1.182214</td>\n",
              "    </tr>\n",
              "    <tr>\n",
              "      <th>2020-09-07 14:30:00</th>\n",
              "      <td>1.1824</td>\n",
              "      <td>1.182295</td>\n",
              "    </tr>\n",
              "    <tr>\n",
              "      <th>2020-09-07 14:31:00</th>\n",
              "      <td>1.1824</td>\n",
              "      <td>1.182358</td>\n",
              "    </tr>\n",
              "    <tr>\n",
              "      <th>2020-09-07 14:32:00</th>\n",
              "      <td>1.1825</td>\n",
              "      <td>1.182403</td>\n",
              "    </tr>\n",
              "    <tr>\n",
              "      <th>2020-09-07 14:33:00</th>\n",
              "      <td>1.1824</td>\n",
              "      <td>1.182446</td>\n",
              "    </tr>\n",
              "  </tbody>\n",
              "</table>\n",
              "</div>"
            ],
            "text/plain": [
              "                     4. close  Predictions\n",
              "date                                      \n",
              "2020-09-07 13:34:00    1.1821     1.181969\n",
              "2020-09-07 13:35:00    1.1820     1.181993\n",
              "2020-09-07 13:36:00    1.1821     1.182015\n",
              "2020-09-07 13:37:00    1.1821     1.182046\n",
              "2020-09-07 13:38:00    1.1821     1.182077\n",
              "2020-09-07 13:39:00    1.1820     1.182105\n",
              "2020-09-07 13:40:00    1.1820     1.182115\n",
              "2020-09-07 13:41:00    1.1821     1.182115\n",
              "2020-09-07 13:42:00    1.1820     1.182122\n",
              "2020-09-07 13:43:00    1.1821     1.182119\n",
              "2020-09-07 13:44:00    1.1821     1.182124\n",
              "2020-09-07 13:45:00    1.1822     1.182132\n",
              "2020-09-07 13:46:00    1.1825     1.182153\n",
              "2020-09-07 13:47:00    1.1823     1.182216\n",
              "2020-09-07 13:48:00    1.1822     1.182266\n",
              "2020-09-07 13:49:00    1.1823     1.182291\n",
              "2020-09-07 13:50:00    1.1822     1.182313\n",
              "2020-09-07 13:51:00    1.1821     1.182318\n",
              "2020-09-07 13:52:00    1.1821     1.182300\n",
              "2020-09-07 13:53:00    1.1822     1.182274\n",
              "2020-09-07 13:54:00    1.1822     1.182260\n",
              "2020-09-07 13:55:00    1.1820     1.182252\n",
              "2020-09-07 13:56:00    1.1822     1.182224\n",
              "2020-09-07 13:57:00    1.1822     1.182215\n",
              "2020-09-07 13:58:00    1.1821     1.182217\n",
              "2020-09-07 13:59:00    1.1820     1.182210\n",
              "2020-09-07 14:00:00    1.1817     1.182189\n",
              "2020-09-07 14:01:00    1.1820     1.182126\n",
              "2020-09-07 14:02:00    1.1818     1.182087\n",
              "2020-09-07 14:03:00    1.1820     1.182040\n",
              "2020-09-07 14:04:00    1.1820     1.182021\n",
              "2020-09-07 14:05:00    1.1818     1.182017\n",
              "2020-09-07 14:06:00    1.1817     1.181997\n",
              "2020-09-07 14:07:00    1.1822     1.181960\n",
              "2020-09-07 14:08:00    1.1821     1.181981\n",
              "2020-09-07 14:09:00    1.1822     1.182014\n",
              "2020-09-07 14:10:00    1.1821     1.182064\n",
              "2020-09-07 14:11:00    1.1822     1.182102\n",
              "2020-09-07 14:12:00    1.1823     1.182143\n",
              "2020-09-07 14:13:00    1.1822     1.182193\n",
              "2020-09-07 14:14:00    1.1822     1.182227\n",
              "2020-09-07 14:15:00    1.1822     1.182250\n",
              "2020-09-07 14:16:00    1.1821     1.182263\n",
              "2020-09-07 14:17:00    1.1822     1.182258\n",
              "2020-09-07 14:18:00    1.1821     1.182256\n",
              "2020-09-07 14:19:00    1.1820     1.182243\n",
              "2020-09-07 14:20:00    1.1820     1.182214\n",
              "2020-09-07 14:21:00    1.1820     1.182181\n",
              "2020-09-07 14:22:00    1.1820     1.182150\n",
              "2020-09-07 14:23:00    1.1820     1.182124\n",
              "2020-09-07 14:24:00    1.1820     1.182103\n",
              "2020-09-07 14:25:00    1.1821     1.182089\n",
              "2020-09-07 14:26:00    1.1821     1.182091\n",
              "2020-09-07 14:27:00    1.1823     1.182102\n",
              "2020-09-07 14:28:00    1.1825     1.182141\n",
              "2020-09-07 14:29:00    1.1825     1.182214\n",
              "2020-09-07 14:30:00    1.1824     1.182295\n",
              "2020-09-07 14:31:00    1.1824     1.182358\n",
              "2020-09-07 14:32:00    1.1825     1.182403\n",
              "2020-09-07 14:33:00    1.1824     1.182446"
            ]
          },
          "metadata": {
            "tags": []
          },
          "execution_count": 29
        }
      ]
    },
    {
      "cell_type": "code",
      "metadata": {
        "id": "70AKqhoPCGOS",
        "colab_type": "code",
        "colab": {
          "base_uri": "https://localhost:8080/",
          "height": 69
        },
        "outputId": "256a58fd-4e01-4033-ec48-24cff5ba461d"
      },
      "source": [
        "# Get the quote\n",
        "# apple_quote = web.DataReader('TATAMOTORS.NS',data_source='yahoo',start='2012-01-01',end='2020-06-22')\n",
        "apple_quote, meta_data = cc.get_currency_exchange_intraday(from_symbol='EUR', to_symbol='USD',interval='5min',outputsize='full')\n",
        "apple_quote = apple_quote[::-1]\n",
        "# Create new dataframe\n",
        "new_df = apple_quote.filter(items=['4. close'])\n",
        "# Get the last 60 days closing price and convert to numpy array\n",
        "last_60_days = new_df[-60:].values\n",
        "# Scale the data to be values between 0 and 1\n",
        "last_60_days_scaled = scaler.transform(last_60_days)\n",
        "# Create an empty list\n",
        "X_test = []\n",
        "# Append the past 60 days\n",
        "X_test.append(last_60_days_scaled)\n",
        "\n",
        "# Convert the X_test dataset to numpy array\n",
        "X_test = np.array(X_test)\n",
        "# Reshape the data\n",
        "X_test = np.reshape(X_test,(X_test.shape[0],X_test.shape[1],1))\n",
        "# Get Predicted scaled price\n",
        "pred_price = model.predict(X_test)\n",
        "# undo the scaling\n",
        "pred_price = scaler.inverse_transform(pred_price)\n",
        "print(pred_price)\n",
        "print(new_df['4. close'][-1])\n",
        "if pred_price > new_df['4. close'][-1]:\n",
        "  print(\"BUY\")\n",
        "elif pred_price < new_df['4. close'][-1]:\n",
        "  print(\"Sell\")\n",
        "else:\n",
        "  print (\"Dont buy or sell\")"
      ],
      "execution_count": null,
      "outputs": [
        {
          "output_type": "stream",
          "text": [
            "[[1.1822715]]\n",
            "1.1825\n",
            "Sell\n"
          ],
          "name": "stdout"
        }
      ]
    },
    {
      "cell_type": "code",
      "metadata": {
        "id": "KDNxPwwKlgoQ",
        "colab_type": "code",
        "colab": {
          "base_uri": "https://localhost:8080/",
          "height": 225
        },
        "outputId": "fbac95a9-e776-4f7e-e664-e8d0735e749d"
      },
      "source": [
        "new, meta_data = cc.get_currency_exchange_intraday(from_symbol='EUR', to_symbol='USD',interval='5min',outputsize='full')\n",
        "new = new[::-1]\n",
        "print(new['4. close'].tail(10))"
      ],
      "execution_count": null,
      "outputs": [
        {
          "output_type": "stream",
          "text": [
            "date\n",
            "2020-09-07 13:45:00    1.1823\n",
            "2020-09-07 13:50:00    1.1822\n",
            "2020-09-07 13:55:00    1.1820\n",
            "2020-09-07 14:00:00    1.1820\n",
            "2020-09-07 14:05:00    1.1822\n",
            "2020-09-07 14:10:00    1.1822\n",
            "2020-09-07 14:15:00    1.1820\n",
            "2020-09-07 14:20:00    1.1820\n",
            "2020-09-07 14:25:00    1.1825\n",
            "2020-09-07 14:30:00    1.1825\n",
            "Name: 4. close, dtype: float64\n"
          ],
          "name": "stdout"
        }
      ]
    },
    {
      "cell_type": "code",
      "metadata": {
        "id": "_SlVRj83-vA8",
        "colab_type": "code",
        "colab": {}
      },
      "source": [
        "# pred_price = np.reshape(pred_price,1)\n",
        "# lst_2 = np.reshape(lst_2,60)\n",
        "# lst_2 = np.append(lst_2,pred_price)\n",
        "# lst_2 = lst_2[1:]\n",
        "# lst_2=np.reshape(lst_2,(1,60,1))\n",
        "# pred_price = model.predict(lst_2)\n",
        "# pred_price = scaler.inverse_transform(pred_price)\n",
        "# print(pred_price)\n",
        "# pred_price = scaler.transform(pred_price)"
      ],
      "execution_count": null,
      "outputs": []
    },
    {
      "cell_type": "code",
      "metadata": {
        "id": "F6bpAcZDAVWh",
        "colab_type": "code",
        "colab": {}
      },
      "source": [
        ""
      ],
      "execution_count": null,
      "outputs": []
    }
  ]
}