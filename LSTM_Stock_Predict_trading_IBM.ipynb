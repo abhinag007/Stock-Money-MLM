{
  "nbformat": 4,
  "nbformat_minor": 0,
  "metadata": {
    "colab": {
      "name": "LSTM_Stock_Predict_trading_IBM.ipynb",
      "provenance": [],
      "collapsed_sections": [],
      "include_colab_link": true
    },
    "kernelspec": {
      "name": "python3",
      "display_name": "Python 3"
    },
    "accelerator": "GPU"
  },
  "cells": [
    {
      "cell_type": "markdown",
      "metadata": {
        "id": "view-in-github",
        "colab_type": "text"
      },
      "source": [
        "<a href=\"https://colab.research.google.com/github/abhinag007/Stock-Money-MLM/blob/master/LSTM_Stock_Predict_trading_IBM.ipynb\" target=\"_parent\"><img src=\"https://colab.research.google.com/assets/colab-badge.svg\" alt=\"Open In Colab\"/></a>"
      ]
    },
    {
      "cell_type": "code",
      "metadata": {
        "id": "UYjZ7beDQiQR",
        "colab_type": "code",
        "colab": {}
      },
      "source": [
        "import tensorflow as tf"
      ],
      "execution_count": null,
      "outputs": []
    },
    {
      "cell_type": "code",
      "metadata": {
        "id": "apJmPMcGlpwI",
        "colab_type": "code",
        "colab": {
          "base_uri": "https://localhost:8080/",
          "height": 72
        },
        "outputId": "a24b49f0-f6d7-472f-fcae-d722dc6f09e6"
      },
      "source": [
        "import math\n",
        "import pandas_datareader.data as web\n",
        "import numpy as np\n",
        "import pandas as pd\n",
        "from sklearn.preprocessing import MinMaxScaler\n",
        "from keras.models import Sequential\n",
        "from keras.layers import Dense, LSTM\n",
        "import matplotlib.pyplot as plt\n",
        "from datetime import datetime\n",
        "from datetime import time\n",
        "plt.style.use('fivethirtyeight') "
      ],
      "execution_count": null,
      "outputs": [
        {
          "output_type": "stream",
          "text": [
            "/usr/local/lib/python3.6/dist-packages/pandas_datareader/compat/__init__.py:7: FutureWarning: pandas.util.testing is deprecated. Use the functions in the public API at pandas.testing instead.\n",
            "  from pandas.util.testing import assert_frame_equal\n"
          ],
          "name": "stderr"
        }
      ]
    },
    {
      "cell_type": "code",
      "metadata": {
        "id": "sW8Zj9Hyd6LZ",
        "colab_type": "code",
        "colab": {
          "base_uri": "https://localhost:8080/",
          "height": 592
        },
        "outputId": "5f1eba8a-a57a-47ed-ae0f-72688a7fa5e1"
      },
      "source": [
        "pip install alpha_vantage"
      ],
      "execution_count": null,
      "outputs": [
        {
          "output_type": "stream",
          "text": [
            "Collecting alpha_vantage\n",
            "  Downloading https://files.pythonhosted.org/packages/12/e3/72ec32d859a363c2eebaa42e0d4abb5ac7172a7a77a2307576ceb5fc1b42/alpha_vantage-2.2.0.tar.gz\n",
            "Collecting aiohttp\n",
            "\u001b[?25l  Downloading https://files.pythonhosted.org/packages/7c/39/7eb5f98d24904e0f6d3edb505d4aa60e3ef83c0a58d6fe18244a51757247/aiohttp-3.6.2-cp36-cp36m-manylinux1_x86_64.whl (1.2MB)\n",
            "\u001b[K     |████████████████████████████████| 1.2MB 6.6MB/s \n",
            "\u001b[?25hRequirement already satisfied: requests in /usr/local/lib/python3.6/dist-packages (from alpha_vantage) (2.23.0)\n",
            "Requirement already satisfied: attrs>=17.3.0 in /usr/local/lib/python3.6/dist-packages (from aiohttp->alpha_vantage) (19.3.0)\n",
            "Collecting multidict<5.0,>=4.5\n",
            "\u001b[?25l  Downloading https://files.pythonhosted.org/packages/1a/95/f50352b5366e7d579e8b99631680a9e32e1b22adfa1629a8f23b1d22d5e2/multidict-4.7.6-cp36-cp36m-manylinux1_x86_64.whl (148kB)\n",
            "\u001b[K     |████████████████████████████████| 153kB 16.6MB/s \n",
            "\u001b[?25hCollecting idna-ssl>=1.0; python_version < \"3.7\"\n",
            "  Downloading https://files.pythonhosted.org/packages/46/03/07c4894aae38b0de52b52586b24bf189bb83e4ddabfe2e2c8f2419eec6f4/idna-ssl-1.1.0.tar.gz\n",
            "Collecting async-timeout<4.0,>=3.0\n",
            "  Downloading https://files.pythonhosted.org/packages/e1/1e/5a4441be21b0726c4464f3f23c8b19628372f606755a9d2e46c187e65ec4/async_timeout-3.0.1-py3-none-any.whl\n",
            "Requirement already satisfied: chardet<4.0,>=2.0 in /usr/local/lib/python3.6/dist-packages (from aiohttp->alpha_vantage) (3.0.4)\n",
            "Collecting yarl<2.0,>=1.0\n",
            "\u001b[?25l  Downloading https://files.pythonhosted.org/packages/a0/b4/2cbeaf2c3ea53865d9613b315fe24e78c66acedb1df7e4be4e064c87203b/yarl-1.5.1-cp36-cp36m-manylinux1_x86_64.whl (257kB)\n",
            "\u001b[K     |████████████████████████████████| 266kB 18.7MB/s \n",
            "\u001b[?25hRequirement already satisfied: typing-extensions>=3.6.5; python_version < \"3.7\" in /usr/local/lib/python3.6/dist-packages (from aiohttp->alpha_vantage) (3.7.4.2)\n",
            "Requirement already satisfied: urllib3!=1.25.0,!=1.25.1,<1.26,>=1.21.1 in /usr/local/lib/python3.6/dist-packages (from requests->alpha_vantage) (1.24.3)\n",
            "Requirement already satisfied: idna<3,>=2.5 in /usr/local/lib/python3.6/dist-packages (from requests->alpha_vantage) (2.10)\n",
            "Requirement already satisfied: certifi>=2017.4.17 in /usr/local/lib/python3.6/dist-packages (from requests->alpha_vantage) (2020.6.20)\n",
            "Building wheels for collected packages: alpha-vantage, idna-ssl\n",
            "  Building wheel for alpha-vantage (setup.py) ... \u001b[?25l\u001b[?25hdone\n",
            "  Created wheel for alpha-vantage: filename=alpha_vantage-2.2.0-cp36-none-any.whl size=25705 sha256=6902d400358fb1a883afae2800d162236701f87a9f9d96659524b9b047659290\n",
            "  Stored in directory: /root/.cache/pip/wheels/3a/fa/05/80b0afcbd2a4de8bd2a0c5cd77084e3d3a9cc12c48be9b7f84\n",
            "  Building wheel for idna-ssl (setup.py) ... \u001b[?25l\u001b[?25hdone\n",
            "  Created wheel for idna-ssl: filename=idna_ssl-1.1.0-cp36-none-any.whl size=3162 sha256=cecff42925fb98aa0d9c99282f52b392ca61e5a819051f3e9a058a08f1aa483c\n",
            "  Stored in directory: /root/.cache/pip/wheels/d3/00/b3/32d613e19e08a739751dd6bf998cfed277728f8b2127ad4eb7\n",
            "Successfully built alpha-vantage idna-ssl\n",
            "Installing collected packages: multidict, idna-ssl, async-timeout, yarl, aiohttp, alpha-vantage\n",
            "Successfully installed aiohttp-3.6.2 alpha-vantage-2.2.0 async-timeout-3.0.1 idna-ssl-1.1.0 multidict-4.7.6 yarl-1.5.1\n"
          ],
          "name": "stdout"
        }
      ]
    },
    {
      "cell_type": "code",
      "metadata": {
        "id": "RlnTjHxTeCOY",
        "colab_type": "code",
        "colab": {}
      },
      "source": [
        "api_key = '5LLGMLRK81AS4OEH'"
      ],
      "execution_count": null,
      "outputs": []
    },
    {
      "cell_type": "code",
      "metadata": {
        "id": "mPAvnyLzeB7R",
        "colab_type": "code",
        "colab": {}
      },
      "source": [
        "import pandas as pd\n",
        "from alpha_vantage.timeseries import TimeSeries\n",
        "import time\n",
        "import matplotlib.pyplot as plt\n",
        "from alpha_vantage.foreignexchange import ForeignExchange"
      ],
      "execution_count": null,
      "outputs": []
    },
    {
      "cell_type": "code",
      "metadata": {
        "id": "0AlB7_uOfQs6",
        "colab_type": "code",
        "colab": {
          "base_uri": "https://localhost:8080/",
          "height": 277
        },
        "outputId": "89c8fc38-cf39-4f31-efc5-4acffd28b202"
      },
      "source": [
        "ts = TimeSeries(key=api_key,output_format='pandas')\n",
        "df, meta_data = ts.get_daily(symbol='IBM', outputsize='full')\n",
        "print(df)"
      ],
      "execution_count": null,
      "outputs": [
        {
          "output_type": "stream",
          "text": [
            "            1. open   2. high  3. low  4. close   5. volume\n",
            "date                                                       \n",
            "2020-08-24   123.79  126.0600  123.36    125.68   4070816.0\n",
            "2020-08-21   123.01  123.4842  122.31    123.16   3385051.0\n",
            "2020-08-20   123.20  124.0400  122.81    123.15   2561164.0\n",
            "2020-08-19   124.83  125.5000  123.50    123.84   3743949.0\n",
            "2020-08-18   125.00  125.5000  124.24    124.92   2882355.0\n",
            "...             ...       ...     ...       ...         ...\n",
            "1999-11-05    92.75   92.9400   90.19     90.25  13737600.0\n",
            "1999-11-04    94.44   94.4400   90.00     91.56  16697600.0\n",
            "1999-11-03    95.87   95.9400   93.50     94.37  10369100.0\n",
            "1999-11-02    96.75   96.8100   93.69     94.81  11105400.0\n",
            "1999-11-01    98.50   98.8100   96.37     96.75   9551800.0\n",
            "\n",
            "[5237 rows x 5 columns]\n"
          ],
          "name": "stdout"
        }
      ]
    },
    {
      "cell_type": "code",
      "metadata": {
        "id": "yfKdxuL-eBvT",
        "colab_type": "code",
        "colab": {}
      },
      "source": [
        "# cc = ForeignExchange(key = api_key, output_format = 'pandas')\n",
        "# df, meta_data = cc.get_currency_exchange_intraday(from_symbol='GBP', to_symbol='JPY',interval='1min',outputsize='full')\n",
        "# print(df)"
      ],
      "execution_count": null,
      "outputs": []
    },
    {
      "cell_type": "code",
      "metadata": {
        "id": "WLKYJsm6eBi2",
        "colab_type": "code",
        "colab": {
          "base_uri": "https://localhost:8080/",
          "height": 446
        },
        "outputId": "736209d0-a04b-4262-9039-091b26fe43f2"
      },
      "source": [
        "df = df[::-1]\n",
        "df"
      ],
      "execution_count": null,
      "outputs": [
        {
          "output_type": "execute_result",
          "data": {
            "text/html": [
              "<div>\n",
              "<style scoped>\n",
              "    .dataframe tbody tr th:only-of-type {\n",
              "        vertical-align: middle;\n",
              "    }\n",
              "\n",
              "    .dataframe tbody tr th {\n",
              "        vertical-align: top;\n",
              "    }\n",
              "\n",
              "    .dataframe thead th {\n",
              "        text-align: right;\n",
              "    }\n",
              "</style>\n",
              "<table border=\"1\" class=\"dataframe\">\n",
              "  <thead>\n",
              "    <tr style=\"text-align: right;\">\n",
              "      <th></th>\n",
              "      <th>1. open</th>\n",
              "      <th>2. high</th>\n",
              "      <th>3. low</th>\n",
              "      <th>4. close</th>\n",
              "      <th>5. volume</th>\n",
              "    </tr>\n",
              "    <tr>\n",
              "      <th>date</th>\n",
              "      <th></th>\n",
              "      <th></th>\n",
              "      <th></th>\n",
              "      <th></th>\n",
              "      <th></th>\n",
              "    </tr>\n",
              "  </thead>\n",
              "  <tbody>\n",
              "    <tr>\n",
              "      <th>1999-11-01</th>\n",
              "      <td>98.50</td>\n",
              "      <td>98.8100</td>\n",
              "      <td>96.37</td>\n",
              "      <td>96.75</td>\n",
              "      <td>9551800.0</td>\n",
              "    </tr>\n",
              "    <tr>\n",
              "      <th>1999-11-02</th>\n",
              "      <td>96.75</td>\n",
              "      <td>96.8100</td>\n",
              "      <td>93.69</td>\n",
              "      <td>94.81</td>\n",
              "      <td>11105400.0</td>\n",
              "    </tr>\n",
              "    <tr>\n",
              "      <th>1999-11-03</th>\n",
              "      <td>95.87</td>\n",
              "      <td>95.9400</td>\n",
              "      <td>93.50</td>\n",
              "      <td>94.37</td>\n",
              "      <td>10369100.0</td>\n",
              "    </tr>\n",
              "    <tr>\n",
              "      <th>1999-11-04</th>\n",
              "      <td>94.44</td>\n",
              "      <td>94.4400</td>\n",
              "      <td>90.00</td>\n",
              "      <td>91.56</td>\n",
              "      <td>16697600.0</td>\n",
              "    </tr>\n",
              "    <tr>\n",
              "      <th>1999-11-05</th>\n",
              "      <td>92.75</td>\n",
              "      <td>92.9400</td>\n",
              "      <td>90.19</td>\n",
              "      <td>90.25</td>\n",
              "      <td>13737600.0</td>\n",
              "    </tr>\n",
              "    <tr>\n",
              "      <th>...</th>\n",
              "      <td>...</td>\n",
              "      <td>...</td>\n",
              "      <td>...</td>\n",
              "      <td>...</td>\n",
              "      <td>...</td>\n",
              "    </tr>\n",
              "    <tr>\n",
              "      <th>2020-08-18</th>\n",
              "      <td>125.00</td>\n",
              "      <td>125.5000</td>\n",
              "      <td>124.24</td>\n",
              "      <td>124.92</td>\n",
              "      <td>2882355.0</td>\n",
              "    </tr>\n",
              "    <tr>\n",
              "      <th>2020-08-19</th>\n",
              "      <td>124.83</td>\n",
              "      <td>125.5000</td>\n",
              "      <td>123.50</td>\n",
              "      <td>123.84</td>\n",
              "      <td>3743949.0</td>\n",
              "    </tr>\n",
              "    <tr>\n",
              "      <th>2020-08-20</th>\n",
              "      <td>123.20</td>\n",
              "      <td>124.0400</td>\n",
              "      <td>122.81</td>\n",
              "      <td>123.15</td>\n",
              "      <td>2561164.0</td>\n",
              "    </tr>\n",
              "    <tr>\n",
              "      <th>2020-08-21</th>\n",
              "      <td>123.01</td>\n",
              "      <td>123.4842</td>\n",
              "      <td>122.31</td>\n",
              "      <td>123.16</td>\n",
              "      <td>3385051.0</td>\n",
              "    </tr>\n",
              "    <tr>\n",
              "      <th>2020-08-24</th>\n",
              "      <td>123.79</td>\n",
              "      <td>126.0600</td>\n",
              "      <td>123.36</td>\n",
              "      <td>125.68</td>\n",
              "      <td>4070816.0</td>\n",
              "    </tr>\n",
              "  </tbody>\n",
              "</table>\n",
              "<p>5237 rows × 5 columns</p>\n",
              "</div>"
            ],
            "text/plain": [
              "            1. open   2. high  3. low  4. close   5. volume\n",
              "date                                                       \n",
              "1999-11-01    98.50   98.8100   96.37     96.75   9551800.0\n",
              "1999-11-02    96.75   96.8100   93.69     94.81  11105400.0\n",
              "1999-11-03    95.87   95.9400   93.50     94.37  10369100.0\n",
              "1999-11-04    94.44   94.4400   90.00     91.56  16697600.0\n",
              "1999-11-05    92.75   92.9400   90.19     90.25  13737600.0\n",
              "...             ...       ...     ...       ...         ...\n",
              "2020-08-18   125.00  125.5000  124.24    124.92   2882355.0\n",
              "2020-08-19   124.83  125.5000  123.50    123.84   3743949.0\n",
              "2020-08-20   123.20  124.0400  122.81    123.15   2561164.0\n",
              "2020-08-21   123.01  123.4842  122.31    123.16   3385051.0\n",
              "2020-08-24   123.79  126.0600  123.36    125.68   4070816.0\n",
              "\n",
              "[5237 rows x 5 columns]"
            ]
          },
          "metadata": {
            "tags": []
          },
          "execution_count": 7
        }
      ]
    },
    {
      "cell_type": "code",
      "metadata": {
        "id": "zOMA72kPmqUa",
        "colab_type": "code",
        "colab": {}
      },
      "source": [
        "#Get the stock quote\n",
        "# df = web.DataReader('TATAMOTORS.NS', data_source='yahoo',start = '2020-01-25', end = date.today())"
      ],
      "execution_count": null,
      "outputs": []
    },
    {
      "cell_type": "code",
      "metadata": {
        "id": "UdrFnTqS9qTt",
        "colab_type": "code",
        "colab": {
          "base_uri": "https://localhost:8080/",
          "height": 446
        },
        "outputId": "1c2d2929-c69e-47a0-87a4-a8e9434e81e0"
      },
      "source": [
        "df"
      ],
      "execution_count": null,
      "outputs": [
        {
          "output_type": "execute_result",
          "data": {
            "text/html": [
              "<div>\n",
              "<style scoped>\n",
              "    .dataframe tbody tr th:only-of-type {\n",
              "        vertical-align: middle;\n",
              "    }\n",
              "\n",
              "    .dataframe tbody tr th {\n",
              "        vertical-align: top;\n",
              "    }\n",
              "\n",
              "    .dataframe thead th {\n",
              "        text-align: right;\n",
              "    }\n",
              "</style>\n",
              "<table border=\"1\" class=\"dataframe\">\n",
              "  <thead>\n",
              "    <tr style=\"text-align: right;\">\n",
              "      <th></th>\n",
              "      <th>1. open</th>\n",
              "      <th>2. high</th>\n",
              "      <th>3. low</th>\n",
              "      <th>4. close</th>\n",
              "      <th>5. volume</th>\n",
              "    </tr>\n",
              "    <tr>\n",
              "      <th>date</th>\n",
              "      <th></th>\n",
              "      <th></th>\n",
              "      <th></th>\n",
              "      <th></th>\n",
              "      <th></th>\n",
              "    </tr>\n",
              "  </thead>\n",
              "  <tbody>\n",
              "    <tr>\n",
              "      <th>1999-11-01</th>\n",
              "      <td>98.50</td>\n",
              "      <td>98.8100</td>\n",
              "      <td>96.37</td>\n",
              "      <td>96.75</td>\n",
              "      <td>9551800.0</td>\n",
              "    </tr>\n",
              "    <tr>\n",
              "      <th>1999-11-02</th>\n",
              "      <td>96.75</td>\n",
              "      <td>96.8100</td>\n",
              "      <td>93.69</td>\n",
              "      <td>94.81</td>\n",
              "      <td>11105400.0</td>\n",
              "    </tr>\n",
              "    <tr>\n",
              "      <th>1999-11-03</th>\n",
              "      <td>95.87</td>\n",
              "      <td>95.9400</td>\n",
              "      <td>93.50</td>\n",
              "      <td>94.37</td>\n",
              "      <td>10369100.0</td>\n",
              "    </tr>\n",
              "    <tr>\n",
              "      <th>1999-11-04</th>\n",
              "      <td>94.44</td>\n",
              "      <td>94.4400</td>\n",
              "      <td>90.00</td>\n",
              "      <td>91.56</td>\n",
              "      <td>16697600.0</td>\n",
              "    </tr>\n",
              "    <tr>\n",
              "      <th>1999-11-05</th>\n",
              "      <td>92.75</td>\n",
              "      <td>92.9400</td>\n",
              "      <td>90.19</td>\n",
              "      <td>90.25</td>\n",
              "      <td>13737600.0</td>\n",
              "    </tr>\n",
              "    <tr>\n",
              "      <th>...</th>\n",
              "      <td>...</td>\n",
              "      <td>...</td>\n",
              "      <td>...</td>\n",
              "      <td>...</td>\n",
              "      <td>...</td>\n",
              "    </tr>\n",
              "    <tr>\n",
              "      <th>2020-08-18</th>\n",
              "      <td>125.00</td>\n",
              "      <td>125.5000</td>\n",
              "      <td>124.24</td>\n",
              "      <td>124.92</td>\n",
              "      <td>2882355.0</td>\n",
              "    </tr>\n",
              "    <tr>\n",
              "      <th>2020-08-19</th>\n",
              "      <td>124.83</td>\n",
              "      <td>125.5000</td>\n",
              "      <td>123.50</td>\n",
              "      <td>123.84</td>\n",
              "      <td>3743949.0</td>\n",
              "    </tr>\n",
              "    <tr>\n",
              "      <th>2020-08-20</th>\n",
              "      <td>123.20</td>\n",
              "      <td>124.0400</td>\n",
              "      <td>122.81</td>\n",
              "      <td>123.15</td>\n",
              "      <td>2561164.0</td>\n",
              "    </tr>\n",
              "    <tr>\n",
              "      <th>2020-08-21</th>\n",
              "      <td>123.01</td>\n",
              "      <td>123.4842</td>\n",
              "      <td>122.31</td>\n",
              "      <td>123.16</td>\n",
              "      <td>3385051.0</td>\n",
              "    </tr>\n",
              "    <tr>\n",
              "      <th>2020-08-24</th>\n",
              "      <td>123.79</td>\n",
              "      <td>126.0600</td>\n",
              "      <td>123.36</td>\n",
              "      <td>125.68</td>\n",
              "      <td>4070816.0</td>\n",
              "    </tr>\n",
              "  </tbody>\n",
              "</table>\n",
              "<p>5237 rows × 5 columns</p>\n",
              "</div>"
            ],
            "text/plain": [
              "            1. open   2. high  3. low  4. close   5. volume\n",
              "date                                                       \n",
              "1999-11-01    98.50   98.8100   96.37     96.75   9551800.0\n",
              "1999-11-02    96.75   96.8100   93.69     94.81  11105400.0\n",
              "1999-11-03    95.87   95.9400   93.50     94.37  10369100.0\n",
              "1999-11-04    94.44   94.4400   90.00     91.56  16697600.0\n",
              "1999-11-05    92.75   92.9400   90.19     90.25  13737600.0\n",
              "...             ...       ...     ...       ...         ...\n",
              "2020-08-18   125.00  125.5000  124.24    124.92   2882355.0\n",
              "2020-08-19   124.83  125.5000  123.50    123.84   3743949.0\n",
              "2020-08-20   123.20  124.0400  122.81    123.15   2561164.0\n",
              "2020-08-21   123.01  123.4842  122.31    123.16   3385051.0\n",
              "2020-08-24   123.79  126.0600  123.36    125.68   4070816.0\n",
              "\n",
              "[5237 rows x 5 columns]"
            ]
          },
          "metadata": {
            "tags": []
          },
          "execution_count": 9
        }
      ]
    },
    {
      "cell_type": "code",
      "metadata": {
        "id": "CKzQZaqRnR3F",
        "colab_type": "code",
        "colab": {}
      },
      "source": [
        "#show the data\n",
        "df['Date'] = df.index"
      ],
      "execution_count": null,
      "outputs": []
    },
    {
      "cell_type": "code",
      "metadata": {
        "id": "UTWfkYTxdpOx",
        "colab_type": "code",
        "colab": {}
      },
      "source": [
        "# sum_column = (df[\"2. high\"] + df[\"3. low\"])/2\n",
        "# df[\"avg\"] = sum_column"
      ],
      "execution_count": null,
      "outputs": []
    },
    {
      "cell_type": "code",
      "metadata": {
        "id": "ALCXElU2uJ1X",
        "colab_type": "code",
        "colab": {
          "base_uri": "https://localhost:8080/",
          "height": 446
        },
        "outputId": "50718544-00af-4f2c-aa5a-0520b59f834c"
      },
      "source": [
        "df"
      ],
      "execution_count": null,
      "outputs": [
        {
          "output_type": "execute_result",
          "data": {
            "text/html": [
              "<div>\n",
              "<style scoped>\n",
              "    .dataframe tbody tr th:only-of-type {\n",
              "        vertical-align: middle;\n",
              "    }\n",
              "\n",
              "    .dataframe tbody tr th {\n",
              "        vertical-align: top;\n",
              "    }\n",
              "\n",
              "    .dataframe thead th {\n",
              "        text-align: right;\n",
              "    }\n",
              "</style>\n",
              "<table border=\"1\" class=\"dataframe\">\n",
              "  <thead>\n",
              "    <tr style=\"text-align: right;\">\n",
              "      <th></th>\n",
              "      <th>1. open</th>\n",
              "      <th>2. high</th>\n",
              "      <th>3. low</th>\n",
              "      <th>4. close</th>\n",
              "      <th>5. volume</th>\n",
              "      <th>Date</th>\n",
              "    </tr>\n",
              "    <tr>\n",
              "      <th>date</th>\n",
              "      <th></th>\n",
              "      <th></th>\n",
              "      <th></th>\n",
              "      <th></th>\n",
              "      <th></th>\n",
              "      <th></th>\n",
              "    </tr>\n",
              "  </thead>\n",
              "  <tbody>\n",
              "    <tr>\n",
              "      <th>1999-11-01</th>\n",
              "      <td>98.50</td>\n",
              "      <td>98.8100</td>\n",
              "      <td>96.37</td>\n",
              "      <td>96.75</td>\n",
              "      <td>9551800.0</td>\n",
              "      <td>1999-11-01</td>\n",
              "    </tr>\n",
              "    <tr>\n",
              "      <th>1999-11-02</th>\n",
              "      <td>96.75</td>\n",
              "      <td>96.8100</td>\n",
              "      <td>93.69</td>\n",
              "      <td>94.81</td>\n",
              "      <td>11105400.0</td>\n",
              "      <td>1999-11-02</td>\n",
              "    </tr>\n",
              "    <tr>\n",
              "      <th>1999-11-03</th>\n",
              "      <td>95.87</td>\n",
              "      <td>95.9400</td>\n",
              "      <td>93.50</td>\n",
              "      <td>94.37</td>\n",
              "      <td>10369100.0</td>\n",
              "      <td>1999-11-03</td>\n",
              "    </tr>\n",
              "    <tr>\n",
              "      <th>1999-11-04</th>\n",
              "      <td>94.44</td>\n",
              "      <td>94.4400</td>\n",
              "      <td>90.00</td>\n",
              "      <td>91.56</td>\n",
              "      <td>16697600.0</td>\n",
              "      <td>1999-11-04</td>\n",
              "    </tr>\n",
              "    <tr>\n",
              "      <th>1999-11-05</th>\n",
              "      <td>92.75</td>\n",
              "      <td>92.9400</td>\n",
              "      <td>90.19</td>\n",
              "      <td>90.25</td>\n",
              "      <td>13737600.0</td>\n",
              "      <td>1999-11-05</td>\n",
              "    </tr>\n",
              "    <tr>\n",
              "      <th>...</th>\n",
              "      <td>...</td>\n",
              "      <td>...</td>\n",
              "      <td>...</td>\n",
              "      <td>...</td>\n",
              "      <td>...</td>\n",
              "      <td>...</td>\n",
              "    </tr>\n",
              "    <tr>\n",
              "      <th>2020-08-18</th>\n",
              "      <td>125.00</td>\n",
              "      <td>125.5000</td>\n",
              "      <td>124.24</td>\n",
              "      <td>124.92</td>\n",
              "      <td>2882355.0</td>\n",
              "      <td>2020-08-18</td>\n",
              "    </tr>\n",
              "    <tr>\n",
              "      <th>2020-08-19</th>\n",
              "      <td>124.83</td>\n",
              "      <td>125.5000</td>\n",
              "      <td>123.50</td>\n",
              "      <td>123.84</td>\n",
              "      <td>3743949.0</td>\n",
              "      <td>2020-08-19</td>\n",
              "    </tr>\n",
              "    <tr>\n",
              "      <th>2020-08-20</th>\n",
              "      <td>123.20</td>\n",
              "      <td>124.0400</td>\n",
              "      <td>122.81</td>\n",
              "      <td>123.15</td>\n",
              "      <td>2561164.0</td>\n",
              "      <td>2020-08-20</td>\n",
              "    </tr>\n",
              "    <tr>\n",
              "      <th>2020-08-21</th>\n",
              "      <td>123.01</td>\n",
              "      <td>123.4842</td>\n",
              "      <td>122.31</td>\n",
              "      <td>123.16</td>\n",
              "      <td>3385051.0</td>\n",
              "      <td>2020-08-21</td>\n",
              "    </tr>\n",
              "    <tr>\n",
              "      <th>2020-08-24</th>\n",
              "      <td>123.79</td>\n",
              "      <td>126.0600</td>\n",
              "      <td>123.36</td>\n",
              "      <td>125.68</td>\n",
              "      <td>4070816.0</td>\n",
              "      <td>2020-08-24</td>\n",
              "    </tr>\n",
              "  </tbody>\n",
              "</table>\n",
              "<p>5237 rows × 6 columns</p>\n",
              "</div>"
            ],
            "text/plain": [
              "            1. open   2. high  3. low  4. close   5. volume       Date\n",
              "date                                                                  \n",
              "1999-11-01    98.50   98.8100   96.37     96.75   9551800.0 1999-11-01\n",
              "1999-11-02    96.75   96.8100   93.69     94.81  11105400.0 1999-11-02\n",
              "1999-11-03    95.87   95.9400   93.50     94.37  10369100.0 1999-11-03\n",
              "1999-11-04    94.44   94.4400   90.00     91.56  16697600.0 1999-11-04\n",
              "1999-11-05    92.75   92.9400   90.19     90.25  13737600.0 1999-11-05\n",
              "...             ...       ...     ...       ...         ...        ...\n",
              "2020-08-18   125.00  125.5000  124.24    124.92   2882355.0 2020-08-18\n",
              "2020-08-19   124.83  125.5000  123.50    123.84   3743949.0 2020-08-19\n",
              "2020-08-20   123.20  124.0400  122.81    123.15   2561164.0 2020-08-20\n",
              "2020-08-21   123.01  123.4842  122.31    123.16   3385051.0 2020-08-21\n",
              "2020-08-24   123.79  126.0600  123.36    125.68   4070816.0 2020-08-24\n",
              "\n",
              "[5237 rows x 6 columns]"
            ]
          },
          "metadata": {
            "tags": []
          },
          "execution_count": 12
        }
      ]
    },
    {
      "cell_type": "code",
      "metadata": {
        "id": "Wf68KJAlnbDI",
        "colab_type": "code",
        "colab": {
          "base_uri": "https://localhost:8080/",
          "height": 35
        },
        "outputId": "7899eaee-2f73-441a-c8d3-2697985650fa"
      },
      "source": [
        "#Get number of rows and colomns in datasets\n",
        "df.shape"
      ],
      "execution_count": null,
      "outputs": [
        {
          "output_type": "execute_result",
          "data": {
            "text/plain": [
              "(5237, 6)"
            ]
          },
          "metadata": {
            "tags": []
          },
          "execution_count": 13
        }
      ]
    },
    {
      "cell_type": "code",
      "metadata": {
        "id": "qRU7fuU5pyzl",
        "colab_type": "code",
        "colab": {
          "base_uri": "https://localhost:8080/",
          "height": 301
        },
        "outputId": "779c1583-58a4-4024-fc4a-a6cd1a169baf"
      },
      "source": [
        "# Close price history\n",
        "plt.figure(figsize=(16,4))\n",
        "plt.title('Close Price History')\n",
        "plt.plot(df['4. close'],);\n",
        "plt.xlabel('Date', fontsize=18)\n",
        "plt.ylabel('Close price USD($)', fontsize = 18)\n",
        "plt.show()"
      ],
      "execution_count": null,
      "outputs": [
        {
          "output_type": "display_data",
          "data": {
            "image/png": "[encoded data removed]",
            "text/plain": [
              "<Figure size 1152x288 with 1 Axes>"
            ]
          },
          "metadata": {
            "tags": [],
            "needs_background": "light"
          }
        }
      ]
    },
    {
      "cell_type": "code",
      "metadata": {
        "id": "-rVlC095qXQx",
        "colab_type": "code",
        "colab": {
          "base_uri": "https://localhost:8080/",
          "height": 35
        },
        "outputId": "c29204c0-d4e7-45df-fda9-d5cf19ad93e5"
      },
      "source": [
        "# Create new dataframe with only close coloumn\n",
        "data = df.filter(['4. close'])\n",
        "# Convert dataframe to numpy array\n",
        "dataset = data.values\n",
        "# Get the number of rows to train the model on\n",
        "training_data_len = math.ceil( len(dataset) * 0.8)\n",
        "\n",
        "training_data_len"
      ],
      "execution_count": null,
      "outputs": [
        {
          "output_type": "execute_result",
          "data": {
            "text/plain": [
              "4190"
            ]
          },
          "metadata": {
            "tags": []
          },
          "execution_count": 15
        }
      ]
    },
    {
      "cell_type": "code",
      "metadata": {
        "id": "054BIqTuvqM9",
        "colab_type": "code",
        "colab": {
          "base_uri": "https://localhost:8080/",
          "height": 139
        },
        "outputId": "8cc2fd88-895a-431f-9608-488ab6876da9"
      },
      "source": [
        "# Scale the data\n",
        "scaler = MinMaxScaler(feature_range=(0,1))\n",
        "scaled_data = scaler.fit_transform(dataset)\n",
        "\n",
        "scaled_data"
      ],
      "execution_count": null,
      "outputs": [
        {
          "output_type": "execute_result",
          "data": {
            "text/plain": [
              "array([[0.25931687],\n",
              "       [0.24724694],\n",
              "       [0.24450943],\n",
              "       ...,\n",
              "       [0.42356747],\n",
              "       [0.42362969],\n",
              "       [0.43930816]])"
            ]
          },
          "metadata": {
            "tags": []
          },
          "execution_count": 16
        }
      ]
    },
    {
      "cell_type": "code",
      "metadata": {
        "id": "TpFHvI_owSV5",
        "colab_type": "code",
        "colab": {
          "base_uri": "https://localhost:8080/",
          "height": 260
        },
        "outputId": "695d7f70-bada-48b0-bc2f-b4ace753831d"
      },
      "source": [
        "# Create training datasets\n",
        "# Create the scaled training datasets\n",
        "train_data = scaled_data[0:training_data_len,:]\n",
        "# Slit x_train and y_train datasets\n",
        "x_train = []\n",
        "y_train = []\n",
        "for i in range(60,len(train_data)):\n",
        "  x_train.append(train_data[i-60:i,0])\n",
        "  y_train.append(train_data[i,0])\n",
        "  if i<=60:\n",
        "    print(x_train)\n",
        "    print(y_train)\n",
        "    print() "
      ],
      "execution_count": null,
      "outputs": [
        {
          "output_type": "stream",
          "text": [
            "[array([0.25931687, 0.24724694, 0.24450943, 0.22702669, 0.21887638,\n",
            "       0.24183413, 0.23984322, 0.26087227, 0.24842904, 0.25384185,\n",
            "       0.24258073, 0.24606483, 0.24065203, 0.26709388, 0.30405027,\n",
            "       0.32850121, 0.31724009, 0.30753437, 0.31064518, 0.30560567,\n",
            "       0.29857525, 0.30081503, 0.31232502, 0.35338767, 0.37908293,\n",
            "       0.38294033, 0.39326821, 0.36272009, 0.33553164, 0.33988677,\n",
            "       0.33708704, 0.32308841, 0.33671374, 0.34175325, 0.33677596,\n",
            "       0.34249984, 0.32931002, 0.33316742, 0.34019785, 0.34057114,\n",
            "       0.33553164, 0.33397623, 0.32850121, 0.37908293, 0.35456978,\n",
            "       0.37908293, 0.36663971, 0.3635289 , 0.39152616, 0.39774778,\n",
            "       0.40085858, 0.39308157, 0.40160518, 0.37752753, 0.40085858,\n",
            "       0.39774778, 0.41330181, 0.41330181, 0.39849437, 0.38374914])]\n",
            "[0.3635288993965034]\n",
            "\n"
          ],
          "name": "stdout"
        }
      ]
    },
    {
      "cell_type": "code",
      "metadata": {
        "id": "i9wytjq9xqI8",
        "colab_type": "code",
        "colab": {}
      },
      "source": [
        "# convert x_train y_train to numpy arrays\n",
        "x_train, y_train = np.array(x_train), np.array(y_train)"
      ],
      "execution_count": null,
      "outputs": []
    },
    {
      "cell_type": "code",
      "metadata": {
        "id": "kPm9qFun1Yyh",
        "colab_type": "code",
        "colab": {
          "base_uri": "https://localhost:8080/",
          "height": 35
        },
        "outputId": "ba2a9aa0-9ef6-41a5-a199-71926be9894e"
      },
      "source": [
        "# Reshape the data\n",
        "x_train = np.reshape(x_train,(x_train.shape[0], x_train.shape[1],1))\n",
        "x_train.shape"
      ],
      "execution_count": null,
      "outputs": [
        {
          "output_type": "execute_result",
          "data": {
            "text/plain": [
              "(4130, 60, 1)"
            ]
          },
          "metadata": {
            "tags": []
          },
          "execution_count": 19
        }
      ]
    },
    {
      "cell_type": "code",
      "metadata": {
        "id": "YphvzrAL1nXb",
        "colab_type": "code",
        "colab": {}
      },
      "source": [
        "# Build LSTM Model\n",
        "model = Sequential()\n",
        "model.add(LSTM(50,return_sequences=True, input_shape = (x_train.shape[1],1)))\n",
        "model.add(LSTM(50, return_sequences=False))\n",
        "model.add(Dense(15))\n",
        "model.add(Dense(1))"
      ],
      "execution_count": null,
      "outputs": []
    },
    {
      "cell_type": "code",
      "metadata": {
        "id": "vUy-netL42K4",
        "colab_type": "code",
        "colab": {}
      },
      "source": [
        "model.compile(optimizer='adam',loss='sparse_categorical_crossentropy',metrics = ['accuracy'])\n"
      ],
      "execution_count": null,
      "outputs": []
    },
    {
      "cell_type": "code",
      "metadata": {
        "id": "KJKvbL_r5kH-",
        "colab_type": "code",
        "colab": {
          "base_uri": "https://localhost:8080/",
          "height": 1000
        },
        "outputId": "c27917d9-f8b5-435d-f047-855a6a0542aa"
      },
      "source": [
        "model.fit(x_train,y_train,batch_size=512, epochs = 30,)"
      ],
      "execution_count": null,
      "outputs": [
        {
          "output_type": "stream",
          "text": [
            "Epoch 1/30\n",
            "2/9 [=====>........................] - ETA: 3s - loss: 3.9197 - accuracy: 0.0000e+00WARNING:tensorflow:Callbacks method `on_train_batch_end` is slow compared to the batch time (batch time: 0.2384s vs `on_train_batch_end` time: 0.4230s). Check your callbacks.\n",
            "9/9 [==============================] - 5s 567ms/step - loss: 2.7226 - accuracy: 0.0000e+00\n",
            "Epoch 2/30\n",
            "9/9 [==============================] - 5s 580ms/step - loss: 1.8098 - accuracy: 2.4213e-04\n",
            "Epoch 3/30\n",
            "9/9 [==============================] - 5s 586ms/step - loss: 1.4493 - accuracy: 0.0000e+00\n",
            "Epoch 4/30\n",
            "9/9 [==============================] - 5s 588ms/step - loss: 1.0960 - accuracy: 2.4213e-04\n",
            "Epoch 5/30\n",
            "9/9 [==============================] - 5s 589ms/step - loss: 0.7775 - accuracy: 2.4213e-04\n",
            "Epoch 6/30\n",
            "9/9 [==============================] - 5s 603ms/step - loss: 0.5596 - accuracy: 0.0000e+00\n",
            "Epoch 7/30\n",
            "9/9 [==============================] - 5s 609ms/step - loss: 0.3845 - accuracy: 0.0000e+00\n",
            "Epoch 8/30\n",
            "9/9 [==============================] - 6s 619ms/step - loss: 0.2652 - accuracy: 2.4213e-04\n",
            "Epoch 9/30\n",
            "9/9 [==============================] - 6s 620ms/step - loss: 0.1834 - accuracy: 2.4213e-04\n",
            "Epoch 10/30\n",
            "9/9 [==============================] - 6s 620ms/step - loss: 0.1352 - accuracy: 2.4213e-04\n",
            "Epoch 11/30\n",
            "9/9 [==============================] - 6s 613ms/step - loss: 0.1105 - accuracy: 2.4213e-04\n",
            "Epoch 12/30\n",
            "9/9 [==============================] - 5s 606ms/step - loss: 0.0883 - accuracy: 2.4213e-04\n",
            "Epoch 13/30\n",
            "9/9 [==============================] - 5s 603ms/step - loss: 0.0776 - accuracy: 2.4213e-04\n",
            "Epoch 14/30\n",
            "9/9 [==============================] - 5s 595ms/step - loss: 0.0680 - accuracy: 2.4213e-04\n",
            "Epoch 15/30\n",
            "9/9 [==============================] - 5s 599ms/step - loss: 0.0564 - accuracy: 2.4213e-04\n",
            "Epoch 16/30\n",
            "9/9 [==============================] - 5s 596ms/step - loss: 0.0469 - accuracy: 2.4213e-04\n",
            "Epoch 17/30\n",
            "9/9 [==============================] - 5s 593ms/step - loss: 0.0407 - accuracy: 2.4213e-04\n",
            "Epoch 18/30\n",
            "9/9 [==============================] - 5s 595ms/step - loss: 0.0323 - accuracy: 2.4213e-04\n",
            "Epoch 19/30\n",
            "9/9 [==============================] - 5s 597ms/step - loss: 0.0304 - accuracy: 2.4213e-04\n",
            "Epoch 20/30\n",
            "9/9 [==============================] - 5s 596ms/step - loss: 0.0231 - accuracy: 2.4213e-04\n",
            "Epoch 21/30\n",
            "9/9 [==============================] - 5s 599ms/step - loss: 0.0196 - accuracy: 2.4213e-04\n",
            "Epoch 22/30\n",
            "9/9 [==============================] - 5s 600ms/step - loss: 0.0162 - accuracy: 2.4213e-04\n",
            "Epoch 23/30\n",
            "9/9 [==============================] - 5s 603ms/step - loss: 0.0144 - accuracy: 2.4213e-04\n",
            "Epoch 24/30\n",
            "9/9 [==============================] - 5s 602ms/step - loss: 0.0128 - accuracy: 2.4213e-04\n",
            "Epoch 25/30\n",
            "9/9 [==============================] - 5s 607ms/step - loss: 0.0103 - accuracy: 2.4213e-04\n",
            "Epoch 26/30\n",
            "9/9 [==============================] - 5s 604ms/step - loss: 0.0082 - accuracy: 2.4213e-04\n",
            "Epoch 27/30\n",
            "9/9 [==============================] - 5s 607ms/step - loss: 0.0107 - accuracy: 2.4213e-04\n",
            "Epoch 28/30\n",
            "9/9 [==============================] - 5s 607ms/step - loss: 0.0087 - accuracy: 2.4213e-04\n",
            "Epoch 29/30\n",
            "9/9 [==============================] - 5s 603ms/step - loss: 0.0072 - accuracy: 2.4213e-04\n",
            "Epoch 30/30\n",
            "9/9 [==============================] - 5s 601ms/step - loss: 0.0074 - accuracy: 2.4213e-04\n"
          ],
          "name": "stdout"
        },
        {
          "output_type": "execute_result",
          "data": {
            "text/plain": [
              "<tensorflow.python.keras.callbacks.History at 0x7f6ca007ff60>"
            ]
          },
          "metadata": {
            "tags": []
          },
          "execution_count": 22
        }
      ]
    },
    {
      "cell_type": "code",
      "metadata": {
        "id": "lQrQdp_g5_VL",
        "colab_type": "code",
        "colab": {}
      },
      "source": [
        "# Crete testing datasets\n",
        "# Create a new array containing scaled value from index 1704 to 2130\n",
        "test_data = scaled_data[training_data_len-60: ,:]\n",
        "# Create dataset x_test, y_test \n",
        "x_test = []\n",
        "y_test = dataset[training_data_len: ,:]\n",
        "for i in range(60, len(test_data)):\n",
        "  x_test.append(test_data[i-60:i, 0])"
      ],
      "execution_count": null,
      "outputs": []
    },
    {
      "cell_type": "code",
      "metadata": {
        "id": "pCf7PuLD8ifs",
        "colab_type": "code",
        "colab": {}
      },
      "source": [
        "x_test = np.array(x_test)"
      ],
      "execution_count": null,
      "outputs": []
    },
    {
      "cell_type": "code",
      "metadata": {
        "id": "ChpGsyct73c7",
        "colab_type": "code",
        "colab": {}
      },
      "source": [
        "# Reshape the data\n",
        "x_test = np.reshape(x_test,(x_test.shape[0],x_test.shape[1],1))"
      ],
      "execution_count": null,
      "outputs": []
    },
    {
      "cell_type": "code",
      "metadata": {
        "id": "REUYDN6V2VpO",
        "colab_type": "code",
        "colab": {}
      },
      "source": [
        "# x_test = range(10)"
      ],
      "execution_count": null,
      "outputs": []
    },
    {
      "cell_type": "code",
      "metadata": {
        "id": "0cu0bGnW8VOj",
        "colab_type": "code",
        "colab": {}
      },
      "source": [
        "# Get model prediction price value\n",
        "predictions = model.predict(x_test)\n",
        "predictions = scaler.inverse_transform(predictions)"
      ],
      "execution_count": null,
      "outputs": []
    },
    {
      "cell_type": "code",
      "metadata": {
        "id": "8m8QIi-3EokX",
        "colab_type": "code",
        "colab": {
          "base_uri": "https://localhost:8080/",
          "height": 503
        },
        "outputId": "1eac4034-114c-480e-9557-3bb74510183c"
      },
      "source": [
        "model.summary()"
      ],
      "execution_count": null,
      "outputs": [
        {
          "output_type": "stream",
          "text": [
            "Model: \"sequential\"\n",
            "_________________________________________________________________\n",
            "Layer (type)                 Output Shape              Param #   \n",
            "=================================================================\n",
            "lstm (LSTM)                  (None, 60, 1000)          4008000   \n",
            "_________________________________________________________________\n",
            "dropout (Dropout)            (None, 60, 1000)          0         \n",
            "_________________________________________________________________\n",
            "batch_normalization (BatchNo (None, 60, 1000)          4000      \n",
            "_________________________________________________________________\n",
            "lstm_1 (LSTM)                (None, 1000)              8004000   \n",
            "_________________________________________________________________\n",
            "dropout_1 (Dropout)          (None, 1000)              0         \n",
            "_________________________________________________________________\n",
            "batch_normalization_1 (Batch (None, 1000)              4000      \n",
            "_________________________________________________________________\n",
            "dense (Dense)                (None, 1000)              1001000   \n",
            "_________________________________________________________________\n",
            "dropout_2 (Dropout)          (None, 1000)              0         \n",
            "_________________________________________________________________\n",
            "batch_normalization_2 (Batch (None, 1000)              4000      \n",
            "_________________________________________________________________\n",
            "dense_1 (Dense)              (None, 5)                 5005      \n",
            "=================================================================\n",
            "Total params: 13,030,005\n",
            "Trainable params: 13,024,005\n",
            "Non-trainable params: 6,000\n",
            "_________________________________________________________________\n"
          ],
          "name": "stdout"
        }
      ]
    },
    {
      "cell_type": "code",
      "metadata": {
        "id": "cQ1NT69s9EoW",
        "colab_type": "code",
        "colab": {
          "base_uri": "https://localhost:8080/",
          "height": 35
        },
        "outputId": "03c4c311-f0a5-48e0-ad5b-c9620ec69b05"
      },
      "source": [
        "rmse = np.sqrt( np.mean(predictions - y_test)**2)\n",
        "rmse"
      ],
      "execution_count": null,
      "outputs": [
        {
          "output_type": "execute_result",
          "data": {
            "text/plain": [
              "57.38517174925708"
            ]
          },
          "metadata": {
            "tags": []
          },
          "execution_count": 35
        }
      ]
    },
    {
      "cell_type": "code",
      "metadata": {
        "id": "hmAgyqvW9VMf",
        "colab_type": "code",
        "colab": {
          "base_uri": "https://localhost:8080/",
          "height": 797
        },
        "outputId": "2bacc997-9a5c-4e94-e5e7-ee0b5d5bf29b"
      },
      "source": [
        "# PLot the data\n",
        "train = data[:training_data_len]\n",
        "valid = data[training_data_len:]\n",
        "valid['Predictions'] = predictions\n",
        "# Visualize the data\n",
        "plt.figure(figsize=(12,4))\n",
        "plt.title(\"Model\")\n",
        "plt.xlabel('Date', fontsize = 18)\n",
        "plt.ylabel('Close Price USD($) ', fontsize=18)\n",
        "# plt.plot(train['4.close'])\n",
        "plt.plot(valid[['4. close', 'Predictions']])\n",
        "plt.legend(['Close','Val','Predictions'],loc = 'lower right')\n",
        "plt.tight_layout()\n",
        "plt.show()"
      ],
      "execution_count": null,
      "outputs": [
        {
          "output_type": "error",
          "ename": "ValueError",
          "evalue": "ignored",
          "traceback": [
            "\u001b[0;31m---------------------------------------------------------------------------\u001b[0m",
            "\u001b[0;31mKeyError\u001b[0m                                  Traceback (most recent call last)",
            "\u001b[0;32m/usr/local/lib/python3.6/dist-packages/pandas/core/indexes/base.py\u001b[0m in \u001b[0;36mget_loc\u001b[0;34m(self, key, method, tolerance)\u001b[0m\n\u001b[1;32m   2645\u001b[0m             \u001b[0;32mtry\u001b[0m\u001b[0;34m:\u001b[0m\u001b[0;34m\u001b[0m\u001b[0;34m\u001b[0m\u001b[0m\n\u001b[0;32m-> 2646\u001b[0;31m                 \u001b[0;32mreturn\u001b[0m \u001b[0mself\u001b[0m\u001b[0;34m.\u001b[0m\u001b[0m_engine\u001b[0m\u001b[0;34m.\u001b[0m\u001b[0mget_loc\u001b[0m\u001b[0;34m(\u001b[0m\u001b[0mkey\u001b[0m\u001b[0;34m)\u001b[0m\u001b[0;34m\u001b[0m\u001b[0;34m\u001b[0m\u001b[0m\n\u001b[0m\u001b[1;32m   2647\u001b[0m             \u001b[0;32mexcept\u001b[0m \u001b[0mKeyError\u001b[0m\u001b[0;34m:\u001b[0m\u001b[0;34m\u001b[0m\u001b[0;34m\u001b[0m\u001b[0m\n",
            "\u001b[0;32mpandas/_libs/index.pyx\u001b[0m in \u001b[0;36mpandas._libs.index.IndexEngine.get_loc\u001b[0;34m()\u001b[0m\n",
            "\u001b[0;32mpandas/_libs/index.pyx\u001b[0m in \u001b[0;36mpandas._libs.index.IndexEngine.get_loc\u001b[0;34m()\u001b[0m\n",
            "\u001b[0;32mpandas/_libs/hashtable_class_helper.pxi\u001b[0m in \u001b[0;36mpandas._libs.hashtable.PyObjectHashTable.get_item\u001b[0;34m()\u001b[0m\n",
            "\u001b[0;32mpandas/_libs/hashtable_class_helper.pxi\u001b[0m in \u001b[0;36mpandas._libs.hashtable.PyObjectHashTable.get_item\u001b[0;34m()\u001b[0m\n",
            "\u001b[0;31mKeyError\u001b[0m: 'Predictions'",
            "\nDuring handling of the above exception, another exception occurred:\n",
            "\u001b[0;31mKeyError\u001b[0m                                  Traceback (most recent call last)",
            "\u001b[0;32m/usr/local/lib/python3.6/dist-packages/pandas/core/internals/managers.py\u001b[0m in \u001b[0;36mset\u001b[0;34m(self, item, value)\u001b[0m\n\u001b[1;32m   1070\u001b[0m         \u001b[0;32mtry\u001b[0m\u001b[0;34m:\u001b[0m\u001b[0;34m\u001b[0m\u001b[0;34m\u001b[0m\u001b[0m\n\u001b[0;32m-> 1071\u001b[0;31m             \u001b[0mloc\u001b[0m \u001b[0;34m=\u001b[0m \u001b[0mself\u001b[0m\u001b[0;34m.\u001b[0m\u001b[0mitems\u001b[0m\u001b[0;34m.\u001b[0m\u001b[0mget_loc\u001b[0m\u001b[0;34m(\u001b[0m\u001b[0mitem\u001b[0m\u001b[0;34m)\u001b[0m\u001b[0;34m\u001b[0m\u001b[0;34m\u001b[0m\u001b[0m\n\u001b[0m\u001b[1;32m   1072\u001b[0m         \u001b[0;32mexcept\u001b[0m \u001b[0mKeyError\u001b[0m\u001b[0;34m:\u001b[0m\u001b[0;34m\u001b[0m\u001b[0;34m\u001b[0m\u001b[0m\n",
            "\u001b[0;32m/usr/local/lib/python3.6/dist-packages/pandas/core/indexes/base.py\u001b[0m in \u001b[0;36mget_loc\u001b[0;34m(self, key, method, tolerance)\u001b[0m\n\u001b[1;32m   2647\u001b[0m             \u001b[0;32mexcept\u001b[0m \u001b[0mKeyError\u001b[0m\u001b[0;34m:\u001b[0m\u001b[0;34m\u001b[0m\u001b[0;34m\u001b[0m\u001b[0m\n\u001b[0;32m-> 2648\u001b[0;31m                 \u001b[0;32mreturn\u001b[0m \u001b[0mself\u001b[0m\u001b[0;34m.\u001b[0m\u001b[0m_engine\u001b[0m\u001b[0;34m.\u001b[0m\u001b[0mget_loc\u001b[0m\u001b[0;34m(\u001b[0m\u001b[0mself\u001b[0m\u001b[0;34m.\u001b[0m\u001b[0m_maybe_cast_indexer\u001b[0m\u001b[0;34m(\u001b[0m\u001b[0mkey\u001b[0m\u001b[0;34m)\u001b[0m\u001b[0;34m)\u001b[0m\u001b[0;34m\u001b[0m\u001b[0;34m\u001b[0m\u001b[0m\n\u001b[0m\u001b[1;32m   2649\u001b[0m         \u001b[0mindexer\u001b[0m \u001b[0;34m=\u001b[0m \u001b[0mself\u001b[0m\u001b[0;34m.\u001b[0m\u001b[0mget_indexer\u001b[0m\u001b[0;34m(\u001b[0m\u001b[0;34m[\u001b[0m\u001b[0mkey\u001b[0m\u001b[0;34m]\u001b[0m\u001b[0;34m,\u001b[0m \u001b[0mmethod\u001b[0m\u001b[0;34m=\u001b[0m\u001b[0mmethod\u001b[0m\u001b[0;34m,\u001b[0m \u001b[0mtolerance\u001b[0m\u001b[0;34m=\u001b[0m\u001b[0mtolerance\u001b[0m\u001b[0;34m)\u001b[0m\u001b[0;34m\u001b[0m\u001b[0;34m\u001b[0m\u001b[0m\n",
            "\u001b[0;32mpandas/_libs/index.pyx\u001b[0m in \u001b[0;36mpandas._libs.index.IndexEngine.get_loc\u001b[0;34m()\u001b[0m\n",
            "\u001b[0;32mpandas/_libs/index.pyx\u001b[0m in \u001b[0;36mpandas._libs.index.IndexEngine.get_loc\u001b[0;34m()\u001b[0m\n",
            "\u001b[0;32mpandas/_libs/hashtable_class_helper.pxi\u001b[0m in \u001b[0;36mpandas._libs.hashtable.PyObjectHashTable.get_item\u001b[0;34m()\u001b[0m\n",
            "\u001b[0;32mpandas/_libs/hashtable_class_helper.pxi\u001b[0m in \u001b[0;36mpandas._libs.hashtable.PyObjectHashTable.get_item\u001b[0;34m()\u001b[0m\n",
            "\u001b[0;31mKeyError\u001b[0m: 'Predictions'",
            "\nDuring handling of the above exception, another exception occurred:\n",
            "\u001b[0;31mValueError\u001b[0m                                Traceback (most recent call last)",
            "\u001b[0;32m<ipython-input-36-9efb3a0c8aed>\u001b[0m in \u001b[0;36m<module>\u001b[0;34m()\u001b[0m\n\u001b[1;32m      2\u001b[0m \u001b[0mtrain\u001b[0m \u001b[0;34m=\u001b[0m \u001b[0mdata\u001b[0m\u001b[0;34m[\u001b[0m\u001b[0;34m:\u001b[0m\u001b[0mtraining_data_len\u001b[0m\u001b[0;34m]\u001b[0m\u001b[0;34m\u001b[0m\u001b[0;34m\u001b[0m\u001b[0m\n\u001b[1;32m      3\u001b[0m \u001b[0mvalid\u001b[0m \u001b[0;34m=\u001b[0m \u001b[0mdata\u001b[0m\u001b[0;34m[\u001b[0m\u001b[0mtraining_data_len\u001b[0m\u001b[0;34m:\u001b[0m\u001b[0;34m]\u001b[0m\u001b[0;34m\u001b[0m\u001b[0;34m\u001b[0m\u001b[0m\n\u001b[0;32m----> 4\u001b[0;31m \u001b[0mvalid\u001b[0m\u001b[0;34m[\u001b[0m\u001b[0;34m'Predictions'\u001b[0m\u001b[0;34m]\u001b[0m \u001b[0;34m=\u001b[0m \u001b[0mpredictions\u001b[0m\u001b[0;34m\u001b[0m\u001b[0;34m\u001b[0m\u001b[0m\n\u001b[0m\u001b[1;32m      5\u001b[0m \u001b[0;31m# Visualize the data\u001b[0m\u001b[0;34m\u001b[0m\u001b[0;34m\u001b[0m\u001b[0;34m\u001b[0m\u001b[0m\n\u001b[1;32m      6\u001b[0m \u001b[0mplt\u001b[0m\u001b[0;34m.\u001b[0m\u001b[0mfigure\u001b[0m\u001b[0;34m(\u001b[0m\u001b[0mfigsize\u001b[0m\u001b[0;34m=\u001b[0m\u001b[0;34m(\u001b[0m\u001b[0;36m12\u001b[0m\u001b[0;34m,\u001b[0m\u001b[0;36m4\u001b[0m\u001b[0;34m)\u001b[0m\u001b[0;34m)\u001b[0m\u001b[0;34m\u001b[0m\u001b[0;34m\u001b[0m\u001b[0m\n",
            "\u001b[0;32m/usr/local/lib/python3.6/dist-packages/pandas/core/frame.py\u001b[0m in \u001b[0;36m__setitem__\u001b[0;34m(self, key, value)\u001b[0m\n\u001b[1;32m   2936\u001b[0m         \u001b[0;32melse\u001b[0m\u001b[0;34m:\u001b[0m\u001b[0;34m\u001b[0m\u001b[0;34m\u001b[0m\u001b[0m\n\u001b[1;32m   2937\u001b[0m             \u001b[0;31m# set column\u001b[0m\u001b[0;34m\u001b[0m\u001b[0;34m\u001b[0m\u001b[0;34m\u001b[0m\u001b[0m\n\u001b[0;32m-> 2938\u001b[0;31m             \u001b[0mself\u001b[0m\u001b[0;34m.\u001b[0m\u001b[0m_set_item\u001b[0m\u001b[0;34m(\u001b[0m\u001b[0mkey\u001b[0m\u001b[0;34m,\u001b[0m \u001b[0mvalue\u001b[0m\u001b[0;34m)\u001b[0m\u001b[0;34m\u001b[0m\u001b[0;34m\u001b[0m\u001b[0m\n\u001b[0m\u001b[1;32m   2939\u001b[0m \u001b[0;34m\u001b[0m\u001b[0m\n\u001b[1;32m   2940\u001b[0m     \u001b[0;32mdef\u001b[0m \u001b[0m_setitem_slice\u001b[0m\u001b[0;34m(\u001b[0m\u001b[0mself\u001b[0m\u001b[0;34m,\u001b[0m \u001b[0mkey\u001b[0m\u001b[0;34m,\u001b[0m \u001b[0mvalue\u001b[0m\u001b[0;34m)\u001b[0m\u001b[0;34m:\u001b[0m\u001b[0;34m\u001b[0m\u001b[0;34m\u001b[0m\u001b[0m\n",
            "\u001b[0;32m/usr/local/lib/python3.6/dist-packages/pandas/core/frame.py\u001b[0m in \u001b[0;36m_set_item\u001b[0;34m(self, key, value)\u001b[0m\n\u001b[1;32m   2999\u001b[0m         \u001b[0mself\u001b[0m\u001b[0;34m.\u001b[0m\u001b[0m_ensure_valid_index\u001b[0m\u001b[0;34m(\u001b[0m\u001b[0mvalue\u001b[0m\u001b[0;34m)\u001b[0m\u001b[0;34m\u001b[0m\u001b[0;34m\u001b[0m\u001b[0m\n\u001b[1;32m   3000\u001b[0m         \u001b[0mvalue\u001b[0m \u001b[0;34m=\u001b[0m \u001b[0mself\u001b[0m\u001b[0;34m.\u001b[0m\u001b[0m_sanitize_column\u001b[0m\u001b[0;34m(\u001b[0m\u001b[0mkey\u001b[0m\u001b[0;34m,\u001b[0m \u001b[0mvalue\u001b[0m\u001b[0;34m)\u001b[0m\u001b[0;34m\u001b[0m\u001b[0;34m\u001b[0m\u001b[0m\n\u001b[0;32m-> 3001\u001b[0;31m         \u001b[0mNDFrame\u001b[0m\u001b[0;34m.\u001b[0m\u001b[0m_set_item\u001b[0m\u001b[0;34m(\u001b[0m\u001b[0mself\u001b[0m\u001b[0;34m,\u001b[0m \u001b[0mkey\u001b[0m\u001b[0;34m,\u001b[0m \u001b[0mvalue\u001b[0m\u001b[0;34m)\u001b[0m\u001b[0;34m\u001b[0m\u001b[0;34m\u001b[0m\u001b[0m\n\u001b[0m\u001b[1;32m   3002\u001b[0m \u001b[0;34m\u001b[0m\u001b[0m\n\u001b[1;32m   3003\u001b[0m         \u001b[0;31m# check if we are modifying a copy\u001b[0m\u001b[0;34m\u001b[0m\u001b[0;34m\u001b[0m\u001b[0;34m\u001b[0m\u001b[0m\n",
            "\u001b[0;32m/usr/local/lib/python3.6/dist-packages/pandas/core/generic.py\u001b[0m in \u001b[0;36m_set_item\u001b[0;34m(self, key, value)\u001b[0m\n\u001b[1;32m   3622\u001b[0m \u001b[0;34m\u001b[0m\u001b[0m\n\u001b[1;32m   3623\u001b[0m     \u001b[0;32mdef\u001b[0m \u001b[0m_set_item\u001b[0m\u001b[0;34m(\u001b[0m\u001b[0mself\u001b[0m\u001b[0;34m,\u001b[0m \u001b[0mkey\u001b[0m\u001b[0;34m,\u001b[0m \u001b[0mvalue\u001b[0m\u001b[0;34m)\u001b[0m \u001b[0;34m->\u001b[0m \u001b[0;32mNone\u001b[0m\u001b[0;34m:\u001b[0m\u001b[0;34m\u001b[0m\u001b[0;34m\u001b[0m\u001b[0m\n\u001b[0;32m-> 3624\u001b[0;31m         \u001b[0mself\u001b[0m\u001b[0;34m.\u001b[0m\u001b[0m_data\u001b[0m\u001b[0;34m.\u001b[0m\u001b[0mset\u001b[0m\u001b[0;34m(\u001b[0m\u001b[0mkey\u001b[0m\u001b[0;34m,\u001b[0m \u001b[0mvalue\u001b[0m\u001b[0;34m)\u001b[0m\u001b[0;34m\u001b[0m\u001b[0;34m\u001b[0m\u001b[0m\n\u001b[0m\u001b[1;32m   3625\u001b[0m         \u001b[0mself\u001b[0m\u001b[0;34m.\u001b[0m\u001b[0m_clear_item_cache\u001b[0m\u001b[0;34m(\u001b[0m\u001b[0;34m)\u001b[0m\u001b[0;34m\u001b[0m\u001b[0;34m\u001b[0m\u001b[0m\n\u001b[1;32m   3626\u001b[0m \u001b[0;34m\u001b[0m\u001b[0m\n",
            "\u001b[0;32m/usr/local/lib/python3.6/dist-packages/pandas/core/internals/managers.py\u001b[0m in \u001b[0;36mset\u001b[0;34m(self, item, value)\u001b[0m\n\u001b[1;32m   1072\u001b[0m         \u001b[0;32mexcept\u001b[0m \u001b[0mKeyError\u001b[0m\u001b[0;34m:\u001b[0m\u001b[0;34m\u001b[0m\u001b[0;34m\u001b[0m\u001b[0m\n\u001b[1;32m   1073\u001b[0m             \u001b[0;31m# This item wasn't present, just insert at end\u001b[0m\u001b[0;34m\u001b[0m\u001b[0;34m\u001b[0m\u001b[0;34m\u001b[0m\u001b[0m\n\u001b[0;32m-> 1074\u001b[0;31m             \u001b[0mself\u001b[0m\u001b[0;34m.\u001b[0m\u001b[0minsert\u001b[0m\u001b[0;34m(\u001b[0m\u001b[0mlen\u001b[0m\u001b[0;34m(\u001b[0m\u001b[0mself\u001b[0m\u001b[0;34m.\u001b[0m\u001b[0mitems\u001b[0m\u001b[0;34m)\u001b[0m\u001b[0;34m,\u001b[0m \u001b[0mitem\u001b[0m\u001b[0;34m,\u001b[0m \u001b[0mvalue\u001b[0m\u001b[0;34m)\u001b[0m\u001b[0;34m\u001b[0m\u001b[0;34m\u001b[0m\u001b[0m\n\u001b[0m\u001b[1;32m   1075\u001b[0m             \u001b[0;32mreturn\u001b[0m\u001b[0;34m\u001b[0m\u001b[0;34m\u001b[0m\u001b[0m\n\u001b[1;32m   1076\u001b[0m \u001b[0;34m\u001b[0m\u001b[0m\n",
            "\u001b[0;32m/usr/local/lib/python3.6/dist-packages/pandas/core/internals/managers.py\u001b[0m in \u001b[0;36minsert\u001b[0;34m(self, loc, item, value, allow_duplicates)\u001b[0m\n\u001b[1;32m   1179\u001b[0m         \u001b[0mnew_axis\u001b[0m \u001b[0;34m=\u001b[0m \u001b[0mself\u001b[0m\u001b[0;34m.\u001b[0m\u001b[0mitems\u001b[0m\u001b[0;34m.\u001b[0m\u001b[0minsert\u001b[0m\u001b[0;34m(\u001b[0m\u001b[0mloc\u001b[0m\u001b[0;34m,\u001b[0m \u001b[0mitem\u001b[0m\u001b[0;34m)\u001b[0m\u001b[0;34m\u001b[0m\u001b[0;34m\u001b[0m\u001b[0m\n\u001b[1;32m   1180\u001b[0m \u001b[0;34m\u001b[0m\u001b[0m\n\u001b[0;32m-> 1181\u001b[0;31m         \u001b[0mblock\u001b[0m \u001b[0;34m=\u001b[0m \u001b[0mmake_block\u001b[0m\u001b[0;34m(\u001b[0m\u001b[0mvalues\u001b[0m\u001b[0;34m=\u001b[0m\u001b[0mvalue\u001b[0m\u001b[0;34m,\u001b[0m \u001b[0mndim\u001b[0m\u001b[0;34m=\u001b[0m\u001b[0mself\u001b[0m\u001b[0;34m.\u001b[0m\u001b[0mndim\u001b[0m\u001b[0;34m,\u001b[0m \u001b[0mplacement\u001b[0m\u001b[0;34m=\u001b[0m\u001b[0mslice\u001b[0m\u001b[0;34m(\u001b[0m\u001b[0mloc\u001b[0m\u001b[0;34m,\u001b[0m \u001b[0mloc\u001b[0m \u001b[0;34m+\u001b[0m \u001b[0;36m1\u001b[0m\u001b[0;34m)\u001b[0m\u001b[0;34m)\u001b[0m\u001b[0;34m\u001b[0m\u001b[0;34m\u001b[0m\u001b[0m\n\u001b[0m\u001b[1;32m   1182\u001b[0m \u001b[0;34m\u001b[0m\u001b[0m\n\u001b[1;32m   1183\u001b[0m         \u001b[0;32mfor\u001b[0m \u001b[0mblkno\u001b[0m\u001b[0;34m,\u001b[0m \u001b[0mcount\u001b[0m \u001b[0;32min\u001b[0m \u001b[0m_fast_count_smallints\u001b[0m\u001b[0;34m(\u001b[0m\u001b[0mself\u001b[0m\u001b[0;34m.\u001b[0m\u001b[0m_blknos\u001b[0m\u001b[0;34m[\u001b[0m\u001b[0mloc\u001b[0m\u001b[0;34m:\u001b[0m\u001b[0;34m]\u001b[0m\u001b[0;34m)\u001b[0m\u001b[0;34m:\u001b[0m\u001b[0;34m\u001b[0m\u001b[0;34m\u001b[0m\u001b[0m\n",
            "\u001b[0;32m/usr/local/lib/python3.6/dist-packages/pandas/core/internals/blocks.py\u001b[0m in \u001b[0;36mmake_block\u001b[0;34m(values, placement, klass, ndim, dtype)\u001b[0m\n\u001b[1;32m   3051\u001b[0m         \u001b[0mvalues\u001b[0m \u001b[0;34m=\u001b[0m \u001b[0mDatetimeArray\u001b[0m\u001b[0;34m.\u001b[0m\u001b[0m_simple_new\u001b[0m\u001b[0;34m(\u001b[0m\u001b[0mvalues\u001b[0m\u001b[0;34m,\u001b[0m \u001b[0mdtype\u001b[0m\u001b[0;34m=\u001b[0m\u001b[0mdtype\u001b[0m\u001b[0;34m)\u001b[0m\u001b[0;34m\u001b[0m\u001b[0;34m\u001b[0m\u001b[0m\n\u001b[1;32m   3052\u001b[0m \u001b[0;34m\u001b[0m\u001b[0m\n\u001b[0;32m-> 3053\u001b[0;31m     \u001b[0;32mreturn\u001b[0m \u001b[0mklass\u001b[0m\u001b[0;34m(\u001b[0m\u001b[0mvalues\u001b[0m\u001b[0;34m,\u001b[0m \u001b[0mndim\u001b[0m\u001b[0;34m=\u001b[0m\u001b[0mndim\u001b[0m\u001b[0;34m,\u001b[0m \u001b[0mplacement\u001b[0m\u001b[0;34m=\u001b[0m\u001b[0mplacement\u001b[0m\u001b[0;34m)\u001b[0m\u001b[0;34m\u001b[0m\u001b[0;34m\u001b[0m\u001b[0m\n\u001b[0m\u001b[1;32m   3054\u001b[0m \u001b[0;34m\u001b[0m\u001b[0m\n\u001b[1;32m   3055\u001b[0m \u001b[0;34m\u001b[0m\u001b[0m\n",
            "\u001b[0;32m/usr/local/lib/python3.6/dist-packages/pandas/core/internals/blocks.py\u001b[0m in \u001b[0;36m__init__\u001b[0;34m(self, values, placement, ndim)\u001b[0m\n\u001b[1;32m    123\u001b[0m         \u001b[0;32mif\u001b[0m \u001b[0mself\u001b[0m\u001b[0;34m.\u001b[0m\u001b[0m_validate_ndim\u001b[0m \u001b[0;32mand\u001b[0m \u001b[0mself\u001b[0m\u001b[0;34m.\u001b[0m\u001b[0mndim\u001b[0m \u001b[0;32mand\u001b[0m \u001b[0mlen\u001b[0m\u001b[0;34m(\u001b[0m\u001b[0mself\u001b[0m\u001b[0;34m.\u001b[0m\u001b[0mmgr_locs\u001b[0m\u001b[0;34m)\u001b[0m \u001b[0;34m!=\u001b[0m \u001b[0mlen\u001b[0m\u001b[0;34m(\u001b[0m\u001b[0mself\u001b[0m\u001b[0;34m.\u001b[0m\u001b[0mvalues\u001b[0m\u001b[0;34m)\u001b[0m\u001b[0;34m:\u001b[0m\u001b[0;34m\u001b[0m\u001b[0;34m\u001b[0m\u001b[0m\n\u001b[1;32m    124\u001b[0m             raise ValueError(\n\u001b[0;32m--> 125\u001b[0;31m                 \u001b[0;34mf\"Wrong number of items passed {len(self.values)}, \"\u001b[0m\u001b[0;34m\u001b[0m\u001b[0;34m\u001b[0m\u001b[0m\n\u001b[0m\u001b[1;32m    126\u001b[0m                 \u001b[0;34mf\"placement implies {len(self.mgr_locs)}\"\u001b[0m\u001b[0;34m\u001b[0m\u001b[0;34m\u001b[0m\u001b[0m\n\u001b[1;32m    127\u001b[0m             )\n",
            "\u001b[0;31mValueError\u001b[0m: Wrong number of items passed 5, placement implies 1"
          ]
        }
      ]
    },
    {
      "cell_type": "code",
      "metadata": {
        "id": "AsNPgoq04c6X",
        "colab_type": "code",
        "colab": {}
      },
      "source": [
        "# valid.sum(axis=0)"
      ],
      "execution_count": null,
      "outputs": []
    },
    {
      "cell_type": "code",
      "metadata": {
        "id": "nbqQ7crH-FvX",
        "colab_type": "code",
        "colab": {}
      },
      "source": [
        "valid"
      ],
      "execution_count": null,
      "outputs": []
    },
    {
      "cell_type": "code",
      "metadata": {
        "id": "70AKqhoPCGOS",
        "colab_type": "code",
        "colab": {}
      },
      "source": [
        "# # Get the quote\n",
        "# # apple_quote = web.DataReader('TATAMOTORS.NS',data_source='yahoo',start='2012-01-01',end='2020-06-22')\n",
        "# apple_quote, meta_data = cc.get_currency_exchange_intraday(from_symbol='GBP', to_symbol='JPY',interval='1min',outputsize='full')\n",
        "# apple_quote = apple_quote[::-1]\n",
        "# sum_column = (apple_quote[\"2. high\"] + apple_quote[\"3. low\"])/2\n",
        "# apple_quote[\"average\"] = sum_column\n",
        "# # Create new dataframe\n",
        "# new_df = apple_quote.filter(items=['average'])\n",
        "# # Get the last 60 days closing price and convert to numpy array\n",
        "# last_60_days = new_df[-60:].values\n",
        "# # Scale the data to be values between 0 and 1\n",
        "# last_60_days_scaled = scaler.transform(last_60_days)\n",
        "# # Create an empty list\n",
        "# X_test = []\n",
        "# # Append the past 60 days\n",
        "# X_test.append(last_60_days_scaled)\n",
        "\n",
        "# # Convert the X_test dataset to numpy array\n",
        "# X_test = np.array(X_test)\n",
        "# # Reshape the data\n",
        "# X_test = np.reshape(X_test,(X_test.shape[0],X_test.shape[1],1))\n",
        "# # Get Predicted scaled price\n",
        "# pred_price = model.predict(X_test)\n",
        "# # undo the scaling\n",
        "# pred_price = scaler.inverse_transform(pred_price)\n",
        "# comp = (new_df['average'][-1])\n",
        "# # comp = float(\"{:.5f}\".format(comp))\n",
        "# # pred_price = float(pred_price)\n",
        "# # pred_price = float(\"{:.4f}\".format(pred_price))\n",
        "# print(pred_price)\n",
        "# print(comp)\n",
        "# if pred_price > comp:\n",
        "#   print(\"green\")\n",
        "# elif pred_price < comp:\n",
        "#   print(\"red\")\n",
        "# else:\n",
        "#   print (\"Dont buy or sell\")"
      ],
      "execution_count": null,
      "outputs": []
    },
    {
      "cell_type": "code",
      "metadata": {
        "id": "KDNxPwwKlgoQ",
        "colab_type": "code",
        "colab": {}
      },
      "source": [
        "# new, meta_data = cc.get_currency_exchange_intraday(from_symbol='AUD', to_symbol='JPY',interval='5min',outputsize='full')\n",
        "# new = new[::-1]\n",
        "# print(new.tail(10))"
      ],
      "execution_count": null,
      "outputs": []
    },
    {
      "cell_type": "code",
      "metadata": {
        "id": "_SlVRj83-vA8",
        "colab_type": "code",
        "colab": {}
      },
      "source": [
        "# pred_price = np.reshape(pred_price,1)\n",
        "# lst_2 = np.reshape(lst_2,60)\n",
        "# lst_2 = np.append(lst_2,pred_price)\n",
        "# lst_2 = lst_2[1:]\n",
        "# lst_2=np.reshape(lst_2,(1,60,1))\n",
        "# pred_price = model.predict(lst_2)\n",
        "# pred_price = scaler.inverse_transform(pred_price)\n",
        "# print(pred_price)\n",
        "# pred_price = scaler.transform(pred_price)"
      ],
      "execution_count": null,
      "outputs": []
    },
    {
      "cell_type": "code",
      "metadata": {
        "id": "oWCoEGtnjIzo",
        "colab_type": "code",
        "colab": {}
      },
      "source": [
        ""
      ],
      "execution_count": null,
      "outputs": []
    }
  ]
}