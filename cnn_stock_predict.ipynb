{
  "nbformat": 4,
  "nbformat_minor": 0,
  "metadata": {
    "colab": {
      "name": "cnn_stock_predict.ipynb",
      "provenance": [],
      "authorship_tag": "ABX9TyN58AFtGYrjcX93cpWtICWC",
      "include_colab_link": true
    },
    "kernelspec": {
      "name": "python3",
      "display_name": "Python 3"
    }
  },
  "cells": [
    {
      "cell_type": "markdown",
      "metadata": {
        "id": "view-in-github",
        "colab_type": "text"
      },
      "source": [
        "<a href=\"https://colab.research.google.com/github/abhinag007/Stock-Money-MLM/blob/master/cnn_stock_predict.ipynb\" target=\"_parent\"><img src=\"https://colab.research.google.com/assets/colab-badge.svg\" alt=\"Open In Colab\"/></a>"
      ]
    },
    {
      "cell_type": "code",
      "metadata": {
        "id": "lG7zioc6y9Xz",
        "colab_type": "code",
        "colab": {
          "base_uri": "https://localhost:8080/",
          "height": 297
        },
        "outputId": "8e5a3b4a-aef4-4bd5-93ff-3efc4494444d"
      },
      "source": [
        "pip install iexfinance"
      ],
      "execution_count": null,
      "outputs": [
        {
          "output_type": "stream",
          "text": [
            "Collecting iexfinance\n",
            "\u001b[?25l  Downloading https://files.pythonhosted.org/packages/1c/5a/ea97aa0b1581352fe1019105d69dddec25a9f0c331b7c1136ee76ae50589/iexfinance-0.4.3-py3-none-any.whl (51kB)\n",
            "\r\u001b[K     |██████▍                         | 10kB 21.0MB/s eta 0:00:01\r\u001b[K     |████████████▉                   | 20kB 6.3MB/s eta 0:00:01\r\u001b[K     |███████████████████▎            | 30kB 6.9MB/s eta 0:00:01\r\u001b[K     |█████████████████████████▊      | 40kB 8.0MB/s eta 0:00:01\r\u001b[K     |████████████████████████████████| 51kB 2.8MB/s \n",
            "\u001b[?25hRequirement already satisfied: pandas in /usr/local/lib/python3.6/dist-packages (from iexfinance) (1.0.5)\n",
            "Requirement already satisfied: requests in /usr/local/lib/python3.6/dist-packages (from iexfinance) (2.23.0)\n",
            "Requirement already satisfied: numpy>=1.13.3 in /usr/local/lib/python3.6/dist-packages (from pandas->iexfinance) (1.18.5)\n",
            "Requirement already satisfied: python-dateutil>=2.6.1 in /usr/local/lib/python3.6/dist-packages (from pandas->iexfinance) (2.8.1)\n",
            "Requirement already satisfied: pytz>=2017.2 in /usr/local/lib/python3.6/dist-packages (from pandas->iexfinance) (2018.9)\n",
            "Requirement already satisfied: idna<3,>=2.5 in /usr/local/lib/python3.6/dist-packages (from requests->iexfinance) (2.10)\n",
            "Requirement already satisfied: urllib3!=1.25.0,!=1.25.1,<1.26,>=1.21.1 in /usr/local/lib/python3.6/dist-packages (from requests->iexfinance) (1.24.3)\n",
            "Requirement already satisfied: certifi>=2017.4.17 in /usr/local/lib/python3.6/dist-packages (from requests->iexfinance) (2020.6.20)\n",
            "Requirement already satisfied: chardet<4,>=3.0.2 in /usr/local/lib/python3.6/dist-packages (from requests->iexfinance) (3.0.4)\n",
            "Requirement already satisfied: six>=1.5 in /usr/local/lib/python3.6/dist-packages (from python-dateutil>=2.6.1->pandas->iexfinance) (1.15.0)\n",
            "Installing collected packages: iexfinance\n",
            "Successfully installed iexfinance-0.4.3\n"
          ],
          "name": "stdout"
        }
      ]
    },
    {
      "cell_type": "code",
      "metadata": {
        "id": "IcMzmHIJ0P5f",
        "colab_type": "code",
        "colab": {
          "base_uri": "https://localhost:8080/",
          "height": 349
        },
        "outputId": "fee8c401-8e9a-4df4-bc12-571f74da37bf"
      },
      "source": [
        "pip install pandas datetime matplotlib"
      ],
      "execution_count": null,
      "outputs": [
        {
          "output_type": "stream",
          "text": [
            "Requirement already satisfied: pandas in /usr/local/lib/python3.6/dist-packages (1.0.5)\n",
            "Collecting datetime\n",
            "\u001b[?25l  Downloading https://files.pythonhosted.org/packages/73/22/a5297f3a1f92468cc737f8ce7ba6e5f245fcfafeae810ba37bd1039ea01c/DateTime-4.3-py2.py3-none-any.whl (60kB)\n",
            "\r\u001b[K     |█████▌                          | 10kB 21.5MB/s eta 0:00:01\r\u001b[K     |███████████                     | 20kB 6.2MB/s eta 0:00:01\r\u001b[K     |████████████████▍               | 30kB 7.3MB/s eta 0:00:01\r\u001b[K     |█████████████████████▉          | 40kB 7.8MB/s eta 0:00:01\r\u001b[K     |███████████████████████████▎    | 51kB 6.6MB/s eta 0:00:01\r\u001b[K     |████████████████████████████████| 61kB 3.4MB/s \n",
            "\u001b[?25hRequirement already satisfied: matplotlib in /usr/local/lib/python3.6/dist-packages (3.2.2)\n",
            "Requirement already satisfied: python-dateutil>=2.6.1 in /usr/local/lib/python3.6/dist-packages (from pandas) (2.8.1)\n",
            "Requirement already satisfied: pytz>=2017.2 in /usr/local/lib/python3.6/dist-packages (from pandas) (2018.9)\n",
            "Requirement already satisfied: numpy>=1.13.3 in /usr/local/lib/python3.6/dist-packages (from pandas) (1.18.5)\n",
            "Collecting zope.interface\n",
            "\u001b[?25l  Downloading https://files.pythonhosted.org/packages/57/33/565274c28a11af60b7cfc0519d46bde4125fcd7d32ebc0a81b480d0e8da6/zope.interface-5.1.0-cp36-cp36m-manylinux2010_x86_64.whl (234kB)\n",
            "\u001b[K     |████████████████████████████████| 235kB 10.4MB/s \n",
            "\u001b[?25hRequirement already satisfied: cycler>=0.10 in /usr/local/lib/python3.6/dist-packages (from matplotlib) (0.10.0)\n",
            "Requirement already satisfied: pyparsing!=2.0.4,!=2.1.2,!=2.1.6,>=2.0.1 in /usr/local/lib/python3.6/dist-packages (from matplotlib) (2.4.7)\n",
            "Requirement already satisfied: kiwisolver>=1.0.1 in /usr/local/lib/python3.6/dist-packages (from matplotlib) (1.2.0)\n",
            "Requirement already satisfied: six>=1.5 in /usr/local/lib/python3.6/dist-packages (from python-dateutil>=2.6.1->pandas) (1.15.0)\n",
            "Requirement already satisfied: setuptools in /usr/local/lib/python3.6/dist-packages (from zope.interface->datetime) (49.2.0)\n",
            "Installing collected packages: zope.interface, datetime\n",
            "Successfully installed datetime-4.3 zope.interface-5.1.0\n"
          ],
          "name": "stdout"
        }
      ]
    },
    {
      "cell_type": "code",
      "metadata": {
        "id": "m7RlkvDZ0YZ0",
        "colab_type": "code",
        "colab": {}
      },
      "source": [
        "import pandas as pd\n",
        "from iexfinance.stocks import Stock\n",
        "from datetime import datetime\n",
        "import matplotlib.pyplot as plt\n",
        "from iexfinance.stocks import get_historical_data"
      ],
      "execution_count": null,
      "outputs": []
    },
    {
      "cell_type": "code",
      "metadata": {
        "id": "69nh4cMX0dMS",
        "colab_type": "code",
        "colab": {}
      },
      "source": [
        "table=pd.read_html('https://en.wikipedia.org/wiki/List_of_S%26P_500_companies')\n",
        "df = table[0]\n",
        "df.to_csv('S&P500-Info.csv')\n",
        "df.to_csv(\"S&P500-Symbols.csv\", columns=['Symbol'])"
      ],
      "execution_count": null,
      "outputs": []
    },
    {
      "cell_type": "code",
      "metadata": {
        "id": "2dLsjIen0gQr",
        "colab_type": "code",
        "colab": {}
      },
      "source": [
        "sp = pd.read_csv('S&P500-Symbols.csv', index_col=[0])\n"
      ],
      "execution_count": null,
      "outputs": []
    },
    {
      "cell_type": "code",
      "metadata": {
        "id": "ZDwLv9AA1Qly",
        "colab_type": "code",
        "colab": {}
      },
      "source": [
        "# getCompanyInfo returns a dictionary with the company symbol as a key and the info as the value \n",
        "# call to iex finance api to return company info for a list of symbols\n",
        "def getCompanyInfo(symbols):\n",
        "    stock_batch = Stock(symbols,\n",
        "                        token='pk_5fffbf57fa5e4a24a2728f6d066145f2')\n",
        "    company_info = stock_batch.get_company()\n",
        "    return company_info"
      ],
      "execution_count": null,
      "outputs": []
    },
    {
      "cell_type": "code",
      "metadata": {
        "id": "GckVsruh1Uux",
        "colab_type": "code",
        "colab": {}
      },
      "source": [
        "sp_company_info = getCompanyInfo(sp[\"Symbol\"][:5].tolist())\n"
      ],
      "execution_count": null,
      "outputs": []
    },
    {
      "cell_type": "code",
      "metadata": {
        "id": "VLzyz6Cz2-VD",
        "colab_type": "code",
        "colab": {}
      },
      "source": [
        "company_info_to_df = []\n",
        "for company in sp_company_info:\n",
        "    company_info_to_df.append(sp_company_info[company])"
      ],
      "execution_count": null,
      "outputs": []
    },
    {
      "cell_type": "code",
      "metadata": {
        "id": "Fay07jRN3Ku9",
        "colab_type": "code",
        "colab": {
          "base_uri": "https://localhost:8080/",
          "height": 202
        },
        "outputId": "1e2c20ca-6cd8-4f00-cc92-3055b448c121"
      },
      "source": [
        "columns = ['symbol', 'companyName', 'exchange',\n",
        "           'industry', 'website', 'CEO', 'sector']\n",
        "df = pd.DataFrame(company_info_to_df, columns=columns )\n",
        "df"
      ],
      "execution_count": null,
      "outputs": [
        {
          "output_type": "execute_result",
          "data": {
            "text/html": [
              "<div>\n",
              "<style scoped>\n",
              "    .dataframe tbody tr th:only-of-type {\n",
              "        vertical-align: middle;\n",
              "    }\n",
              "\n",
              "    .dataframe tbody tr th {\n",
              "        vertical-align: top;\n",
              "    }\n",
              "\n",
              "    .dataframe thead th {\n",
              "        text-align: right;\n",
              "    }\n",
              "</style>\n",
              "<table border=\"1\" class=\"dataframe\">\n",
              "  <thead>\n",
              "    <tr style=\"text-align: right;\">\n",
              "      <th></th>\n",
              "      <th>symbol</th>\n",
              "      <th>companyName</th>\n",
              "      <th>exchange</th>\n",
              "      <th>industry</th>\n",
              "      <th>website</th>\n",
              "      <th>CEO</th>\n",
              "      <th>sector</th>\n",
              "    </tr>\n",
              "  </thead>\n",
              "  <tbody>\n",
              "    <tr>\n",
              "      <th>0</th>\n",
              "      <td>MMM</td>\n",
              "      <td>3M Co.</td>\n",
              "      <td>New York Stock Exchange</td>\n",
              "      <td>Industrial Conglomerates</td>\n",
              "      <td>http://www.3m.com</td>\n",
              "      <td>Michael F. Roman</td>\n",
              "      <td>Producer Manufacturing</td>\n",
              "    </tr>\n",
              "    <tr>\n",
              "      <th>1</th>\n",
              "      <td>ABT</td>\n",
              "      <td>Abbott Laboratories</td>\n",
              "      <td>New York Stock Exchange</td>\n",
              "      <td>Medical Specialties</td>\n",
              "      <td>http://www.abbott.com</td>\n",
              "      <td>Robert B. Ford</td>\n",
              "      <td>Health Technology</td>\n",
              "    </tr>\n",
              "    <tr>\n",
              "      <th>2</th>\n",
              "      <td>ABBV</td>\n",
              "      <td>AbbVie, Inc.</td>\n",
              "      <td>New York Stock Exchange</td>\n",
              "      <td>Pharmaceuticals: Major</td>\n",
              "      <td>http://www.abbvie.com</td>\n",
              "      <td>Richard A. Gonzalez</td>\n",
              "      <td>Health Technology</td>\n",
              "    </tr>\n",
              "    <tr>\n",
              "      <th>3</th>\n",
              "      <td>ABMD</td>\n",
              "      <td>ABIOMED, Inc.</td>\n",
              "      <td>NASDAQ</td>\n",
              "      <td>Medical Specialties</td>\n",
              "      <td>http://www.abiomed.com</td>\n",
              "      <td>Michael R. Minogue</td>\n",
              "      <td>Health Technology</td>\n",
              "    </tr>\n",
              "    <tr>\n",
              "      <th>4</th>\n",
              "      <td>ACN</td>\n",
              "      <td>Accenture Plc</td>\n",
              "      <td>New York Stock Exchange</td>\n",
              "      <td>Information Technology Services</td>\n",
              "      <td>http://www.accenture.com</td>\n",
              "      <td>Julie Spellman Sweet</td>\n",
              "      <td>Technology Services</td>\n",
              "    </tr>\n",
              "  </tbody>\n",
              "</table>\n",
              "</div>"
            ],
            "text/plain": [
              "  symbol          companyName  ...                   CEO                  sector\n",
              "0    MMM               3M Co.  ...      Michael F. Roman  Producer Manufacturing\n",
              "1    ABT  Abbott Laboratories  ...        Robert B. Ford       Health Technology\n",
              "2   ABBV         AbbVie, Inc.  ...   Richard A. Gonzalez       Health Technology\n",
              "3   ABMD        ABIOMED, Inc.  ...    Michael R. Minogue       Health Technology\n",
              "4    ACN        Accenture Plc  ...  Julie Spellman Sweet     Technology Services\n",
              "\n",
              "[5 rows x 7 columns]"
            ]
          },
          "metadata": {
            "tags": []
          },
          "execution_count": 40
        }
      ]
    },
    {
      "cell_type": "code",
      "metadata": {
        "id": "Z2rXz1PD3Nlu",
        "colab_type": "code",
        "colab": {}
      },
      "source": [
        "def getEarnings(symbol):\n",
        "    stock_batch = Stock(symbol,\n",
        "                        token='pk_5fffbf57fa5e4a24a2728f6d066145f2')\n",
        "    earnings = stock_batch.get_earnings(last=4)\n",
        "    return earnings\n",
        "\n",
        "single_stock_earnings = getEarnings(sp[\"Symbol\"][0])"
      ],
      "execution_count": null,
      "outputs": []
    },
    {
      "cell_type": "code",
      "metadata": {
        "id": "iF_Ttz6l3sbS",
        "colab_type": "code",
        "colab": {}
      },
      "source": [
        "df_earnings = pd.DataFrame(single_stock_earnings)\n"
      ],
      "execution_count": null,
      "outputs": []
    },
    {
      "cell_type": "code",
      "metadata": {
        "id": "4cWM2bgB30je",
        "colab_type": "code",
        "colab": {
          "base_uri": "https://localhost:8080/",
          "height": 346
        },
        "outputId": "5d913603-02ce-4451-f80e-bafb26922af9"
      },
      "source": [
        "def getHistoricalPrices(stock):\n",
        "    return get_historical_data(stock, start, end, \n",
        "                               output_format='pandas', \n",
        "                               token='pk_5fffbf57fa5e4a24a2728f6d066145f2')\n",
        " \n",
        "start = datetime(2016, 1, 1)\n",
        "end = datetime(2020, 8, 7)\n",
        "single_stock_history = getHistoricalPrices(sp[\"Symbol\"][1])"
      ],
      "execution_count": null,
      "outputs": [
        {
          "output_type": "error",
          "ename": "IEXQueryError",
          "evalue": "ignored",
          "traceback": [
            "\u001b[0;31m---------------------------------------------------------------------------\u001b[0m",
            "\u001b[0;31mIEXQueryError\u001b[0m                             Traceback (most recent call last)",
            "\u001b[0;32m<ipython-input-53-c6447d8654e8>\u001b[0m in \u001b[0;36m<module>\u001b[0;34m()\u001b[0m\n\u001b[1;32m      6\u001b[0m \u001b[0mstart\u001b[0m \u001b[0;34m=\u001b[0m \u001b[0mdatetime\u001b[0m\u001b[0;34m(\u001b[0m\u001b[0;36m2016\u001b[0m\u001b[0;34m,\u001b[0m \u001b[0;36m1\u001b[0m\u001b[0;34m,\u001b[0m \u001b[0;36m1\u001b[0m\u001b[0;34m)\u001b[0m\u001b[0;34m\u001b[0m\u001b[0;34m\u001b[0m\u001b[0m\n\u001b[1;32m      7\u001b[0m \u001b[0mend\u001b[0m \u001b[0;34m=\u001b[0m \u001b[0mdatetime\u001b[0m\u001b[0;34m(\u001b[0m\u001b[0;36m2020\u001b[0m\u001b[0;34m,\u001b[0m \u001b[0;36m8\u001b[0m\u001b[0;34m,\u001b[0m \u001b[0;36m7\u001b[0m\u001b[0;34m)\u001b[0m\u001b[0;34m\u001b[0m\u001b[0;34m\u001b[0m\u001b[0m\n\u001b[0;32m----> 8\u001b[0;31m \u001b[0msingle_stock_history\u001b[0m \u001b[0;34m=\u001b[0m \u001b[0mgetHistoricalPrices\u001b[0m\u001b[0;34m(\u001b[0m\u001b[0msp\u001b[0m\u001b[0;34m[\u001b[0m\u001b[0;34m\"Symbol\"\u001b[0m\u001b[0;34m]\u001b[0m\u001b[0;34m[\u001b[0m\u001b[0;36m1\u001b[0m\u001b[0;34m]\u001b[0m\u001b[0;34m)\u001b[0m\u001b[0;34m\u001b[0m\u001b[0;34m\u001b[0m\u001b[0m\n\u001b[0m",
            "\u001b[0;32m<ipython-input-53-c6447d8654e8>\u001b[0m in \u001b[0;36mgetHistoricalPrices\u001b[0;34m(stock)\u001b[0m\n\u001b[1;32m      2\u001b[0m     return get_historical_data(stock, start, end, \n\u001b[1;32m      3\u001b[0m                                \u001b[0moutput_format\u001b[0m\u001b[0;34m=\u001b[0m\u001b[0;34m'pandas'\u001b[0m\u001b[0;34m,\u001b[0m\u001b[0;34m\u001b[0m\u001b[0;34m\u001b[0m\u001b[0m\n\u001b[0;32m----> 4\u001b[0;31m                                token='pk_5fffbf57fa5e4a24a2728f6d066145f2')\n\u001b[0m\u001b[1;32m      5\u001b[0m \u001b[0;34m\u001b[0m\u001b[0m\n\u001b[1;32m      6\u001b[0m \u001b[0mstart\u001b[0m \u001b[0;34m=\u001b[0m \u001b[0mdatetime\u001b[0m\u001b[0;34m(\u001b[0m\u001b[0;36m2016\u001b[0m\u001b[0;34m,\u001b[0m \u001b[0;36m1\u001b[0m\u001b[0;34m,\u001b[0m \u001b[0;36m1\u001b[0m\u001b[0;34m)\u001b[0m\u001b[0;34m\u001b[0m\u001b[0;34m\u001b[0m\u001b[0m\n",
            "\u001b[0;32m/usr/local/lib/python3.6/dist-packages/iexfinance/stocks/__init__.py\u001b[0m in \u001b[0;36mget_historical_data\u001b[0;34m(symbols, start, end, close_only, **kwargs)\u001b[0m\n\u001b[1;32m     42\u001b[0m     \"\"\"\n\u001b[1;32m     43\u001b[0m     return HistoricalReader(symbols, start=start, end=end,\n\u001b[0;32m---> 44\u001b[0;31m                             close_only=close_only, **kwargs).fetch()\n\u001b[0m\u001b[1;32m     45\u001b[0m \u001b[0;34m\u001b[0m\u001b[0m\n\u001b[1;32m     46\u001b[0m \u001b[0;34m\u001b[0m\u001b[0m\n",
            "\u001b[0;32m/usr/local/lib/python3.6/dist-packages/iexfinance/base.py\u001b[0m in \u001b[0;36mfetch\u001b[0;34m(self, fmt_p, fmt_j)\u001b[0m\n\u001b[1;32m    207\u001b[0m         \"\"\"\n\u001b[1;32m    208\u001b[0m         \u001b[0murl\u001b[0m \u001b[0;34m=\u001b[0m \u001b[0mself\u001b[0m\u001b[0;34m.\u001b[0m\u001b[0m_prepare_query\u001b[0m\u001b[0;34m(\u001b[0m\u001b[0;34m)\u001b[0m\u001b[0;34m\u001b[0m\u001b[0;34m\u001b[0m\u001b[0m\n\u001b[0;32m--> 209\u001b[0;31m         \u001b[0mdata\u001b[0m \u001b[0;34m=\u001b[0m \u001b[0mself\u001b[0m\u001b[0;34m.\u001b[0m\u001b[0m_execute_iex_query\u001b[0m\u001b[0;34m(\u001b[0m\u001b[0murl\u001b[0m\u001b[0;34m)\u001b[0m\u001b[0;34m\u001b[0m\u001b[0;34m\u001b[0m\u001b[0m\n\u001b[0m\u001b[1;32m    210\u001b[0m         \u001b[0;32mreturn\u001b[0m \u001b[0mself\u001b[0m\u001b[0;34m.\u001b[0m\u001b[0m_output_format\u001b[0m\u001b[0;34m(\u001b[0m\u001b[0mdata\u001b[0m\u001b[0;34m,\u001b[0m \u001b[0mfmt_j\u001b[0m\u001b[0;34m=\u001b[0m\u001b[0mfmt_j\u001b[0m\u001b[0;34m,\u001b[0m \u001b[0mfmt_p\u001b[0m\u001b[0;34m=\u001b[0m\u001b[0mfmt_p\u001b[0m\u001b[0;34m)\u001b[0m\u001b[0;34m\u001b[0m\u001b[0;34m\u001b[0m\u001b[0m\n\u001b[1;32m    211\u001b[0m \u001b[0;34m\u001b[0m\u001b[0m\n",
            "\u001b[0;32m/usr/local/lib/python3.6/dist-packages/iexfinance/base.py\u001b[0m in \u001b[0;36m_execute_iex_query\u001b[0;34m(self, url)\u001b[0m\n\u001b[1;32m    163\u001b[0m                 \u001b[0;32mreturn\u001b[0m \u001b[0mself\u001b[0m\u001b[0;34m.\u001b[0m\u001b[0m_validate_response\u001b[0m\u001b[0;34m(\u001b[0m\u001b[0mresponse\u001b[0m\u001b[0;34m)\u001b[0m\u001b[0;34m\u001b[0m\u001b[0;34m\u001b[0m\u001b[0m\n\u001b[1;32m    164\u001b[0m             \u001b[0mtime\u001b[0m\u001b[0;34m.\u001b[0m\u001b[0msleep\u001b[0m\u001b[0;34m(\u001b[0m\u001b[0mself\u001b[0m\u001b[0;34m.\u001b[0m\u001b[0mpause\u001b[0m\u001b[0;34m)\u001b[0m\u001b[0;34m\u001b[0m\u001b[0;34m\u001b[0m\u001b[0m\n\u001b[0;32m--> 165\u001b[0;31m         \u001b[0;32mreturn\u001b[0m \u001b[0mself\u001b[0m\u001b[0;34m.\u001b[0m\u001b[0m_handle_error\u001b[0m\u001b[0;34m(\u001b[0m\u001b[0mresponse\u001b[0m\u001b[0;34m)\u001b[0m\u001b[0;34m\u001b[0m\u001b[0;34m\u001b[0m\u001b[0m\n\u001b[0m\u001b[1;32m    166\u001b[0m \u001b[0;34m\u001b[0m\u001b[0m\n\u001b[1;32m    167\u001b[0m     \u001b[0;32mdef\u001b[0m \u001b[0m_handle_error\u001b[0m\u001b[0;34m(\u001b[0m\u001b[0mself\u001b[0m\u001b[0;34m,\u001b[0m \u001b[0mresponse\u001b[0m\u001b[0;34m)\u001b[0m\u001b[0;34m:\u001b[0m\u001b[0;34m\u001b[0m\u001b[0;34m\u001b[0m\u001b[0m\n",
            "\u001b[0;32m/usr/local/lib/python3.6/dist-packages/iexfinance/base.py\u001b[0m in \u001b[0;36m_handle_error\u001b[0;34m(self, response)\u001b[0m\n\u001b[1;32m    176\u001b[0m                 \u001b[0;32mraise\u001b[0m \u001b[0mauth_error\u001b[0m\u001b[0;34m(\u001b[0m\u001b[0mauth_msg\u001b[0m\u001b[0;34m)\u001b[0m\u001b[0;34m\u001b[0m\u001b[0;34m\u001b[0m\u001b[0m\n\u001b[1;32m    177\u001b[0m             \u001b[0;32melse\u001b[0m\u001b[0;34m:\u001b[0m\u001b[0;34m\u001b[0m\u001b[0;34m\u001b[0m\u001b[0m\n\u001b[0;32m--> 178\u001b[0;31m                 raise IEXQueryError(\"The query could not be completed. \"\n\u001b[0m\u001b[1;32m    179\u001b[0m                                     \u001b[0;34m\"There was a client-side error with your \"\u001b[0m\u001b[0;34m\u001b[0m\u001b[0;34m\u001b[0m\u001b[0m\n\u001b[1;32m    180\u001b[0m                                     \"request.\")\n",
            "\u001b[0;31mIEXQueryError\u001b[0m: An error occurred while making the query."
          ]
        }
      ]
    },
    {
      "cell_type": "code",
      "metadata": {
        "id": "AfGoWJ6M34CY",
        "colab_type": "code",
        "colab": {}
      },
      "source": [
        "single_stock_history"
      ],
      "execution_count": null,
      "outputs": []
    },
    {
      "cell_type": "code",
      "metadata": {
        "id": "0X_kcGnj4LrZ",
        "colab_type": "code",
        "colab": {
          "base_uri": "https://localhost:8080/",
          "height": 295
        },
        "outputId": "6216e152-76b9-451a-f157-29564c6c57a1"
      },
      "source": [
        "single_stock_history['close'].plot(label=\"3M Close\")\n"
      ],
      "execution_count": null,
      "outputs": [
        {
          "output_type": "execute_result",
          "data": {
            "text/plain": [
              "<matplotlib.axes._subplots.AxesSubplot at 0x7f2b5b953d30>"
            ]
          },
          "metadata": {
            "tags": []
          },
          "execution_count": 50
        },
        {
          "output_type": "display_data",
          "data": {
            "image/png": "[encoded data removed]",
            "text/plain": [
              "<Figure size 432x288 with 1 Axes>"
            ]
          },
          "metadata": {
            "tags": [],
            "needs_background": "light"
          }
        }
      ]
    },
    {
      "cell_type": "code",
      "metadata": {
        "id": "jKQETpAQ4kqS",
        "colab_type": "code",
        "colab": {}
      },
      "source": [
        "# Full code\n",
        "\n",
        "\n",
        "# import pandas as pd\n",
        "# from iexfinance.stocks import Stock\n",
        "# from datetime import datetime\n",
        "# import matplotlib.pyplot as plt\n",
        "# from iexfinance.stocks import get_historical_data\n",
        "# def getCompanyInfo(symbols):\n",
        "#     stock_batch = Stock(symbols,\n",
        "#                         token=<API_TOKEN>)\n",
        "#     company_info = stock_batch.get_company()\n",
        "#     return company_info\n",
        "# def getEarnings(symbol):\n",
        "#     stock_batch = Stock(symbol,\n",
        "#                         token=<API_TOKEN>)\n",
        "#     earnings = stock_batch.get_earnings(last=4)\n",
        "#     return earnings\n",
        "# def getHistoricalPrices(stock):\n",
        "#     return get_historical_data(stock, start, end, \n",
        "#                                output_format='pandas', \n",
        "#                                token=<API_TOKEN>)\n",
        "# sp = pd.read_csv('S&P500-Symbols.csv', index_col=[0])\n",
        "# sp_company_info = getCompanyInfo(sp[\"Symbol\"][:5].tolist())\n",
        "# company_info_to_df = []\n",
        "# for company in sp_company_info:\n",
        "#     company_info_to_df.append(sp_company_info[company])\n",
        "# columns = ['symbol', 'companyName', 'exchange',\n",
        "#            'industry', 'website', 'CEO', 'sector']\n",
        "# df = pd.DataFrame(company_info_to_df, columns=columns )\n",
        "# df.head()\n",
        "# single_stock_earnings = getEarnings(sp[\"Symbol\"][0])\n",
        "# df_earnings = pd.DataFrame(single_stock_earnings)\n",
        "# df_earnings.head()\n",
        "# start = datetime(2016, 1, 1)\n",
        "# end = datetime(2019, 7, 30)\n",
        "# single_stock_history = getHistoricalPrices(sp[\"Symbol\"][0])\n",
        "# single_stock_history['close'].plot(label=\"3M Close\")"
      ],
      "execution_count": null,
      "outputs": []
    }
  ]
}