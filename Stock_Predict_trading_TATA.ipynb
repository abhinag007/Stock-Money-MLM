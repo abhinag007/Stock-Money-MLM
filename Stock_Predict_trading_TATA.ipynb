{
  "nbformat": 4,
  "nbformat_minor": 0,
  "metadata": {
    "colab": {
      "name": "Stock_Predict_trading TATA.ipynb",
      "provenance": [],
      "collapsed_sections": [],
      "include_colab_link": true
    },
    "kernelspec": {
      "name": "python3",
      "display_name": "Python 3"
    }
  },
  "cells": [
    {
      "cell_type": "markdown",
      "metadata": {
        "id": "view-in-github",
        "colab_type": "text"
      },
      "source": [
        "<a href=\"https://colab.research.google.com/github/abhinag007/Stock-Money-MLM/blob/master/Stock_Predict_trading_TATA.ipynb\" target=\"_parent\"><img src=\"https://colab.research.google.com/assets/colab-badge.svg\" alt=\"Open In Colab\"/></a>"
      ]
    },
    {
      "cell_type": "code",
      "metadata": {
        "id": "heOiZpE9YYZG",
        "colab_type": "code",
        "colab": {
          "base_uri": "https://localhost:8080/",
          "height": 592
        },
        "outputId": "6f842387-6963-4e0b-b713-3e9c4f3a72cc"
      },
      "source": [
        "pip install alpha_vantage"
      ],
      "execution_count": null,
      "outputs": [
        {
          "output_type": "stream",
          "text": [
            "Collecting alpha_vantage\n",
            "  Downloading https://files.pythonhosted.org/packages/12/e3/72ec32d859a363c2eebaa42e0d4abb5ac7172a7a77a2307576ceb5fc1b42/alpha_vantage-2.2.0.tar.gz\n",
            "Collecting aiohttp\n",
            "\u001b[?25l  Downloading https://files.pythonhosted.org/packages/7c/39/7eb5f98d24904e0f6d3edb505d4aa60e3ef83c0a58d6fe18244a51757247/aiohttp-3.6.2-cp36-cp36m-manylinux1_x86_64.whl (1.2MB)\n",
            "\u001b[K     |████████████████████████████████| 1.2MB 6.7MB/s \n",
            "\u001b[?25hRequirement already satisfied: requests in /usr/local/lib/python3.6/dist-packages (from alpha_vantage) (2.23.0)\n",
            "Collecting async-timeout<4.0,>=3.0\n",
            "  Downloading https://files.pythonhosted.org/packages/e1/1e/5a4441be21b0726c4464f3f23c8b19628372f606755a9d2e46c187e65ec4/async_timeout-3.0.1-py3-none-any.whl\n",
            "Requirement already satisfied: chardet<4.0,>=2.0 in /usr/local/lib/python3.6/dist-packages (from aiohttp->alpha_vantage) (3.0.4)\n",
            "Requirement already satisfied: typing-extensions>=3.6.5; python_version < \"3.7\" in /usr/local/lib/python3.6/dist-packages (from aiohttp->alpha_vantage) (3.7.4.2)\n",
            "Collecting yarl<2.0,>=1.0\n",
            "\u001b[?25l  Downloading https://files.pythonhosted.org/packages/a0/b4/2cbeaf2c3ea53865d9613b315fe24e78c66acedb1df7e4be4e064c87203b/yarl-1.5.1-cp36-cp36m-manylinux1_x86_64.whl (257kB)\n",
            "\u001b[K     |████████████████████████████████| 266kB 21.8MB/s \n",
            "\u001b[?25hRequirement already satisfied: attrs>=17.3.0 in /usr/local/lib/python3.6/dist-packages (from aiohttp->alpha_vantage) (19.3.0)\n",
            "Collecting idna-ssl>=1.0; python_version < \"3.7\"\n",
            "  Downloading https://files.pythonhosted.org/packages/46/03/07c4894aae38b0de52b52586b24bf189bb83e4ddabfe2e2c8f2419eec6f4/idna-ssl-1.1.0.tar.gz\n",
            "Collecting multidict<5.0,>=4.5\n",
            "\u001b[?25l  Downloading https://files.pythonhosted.org/packages/1a/95/f50352b5366e7d579e8b99631680a9e32e1b22adfa1629a8f23b1d22d5e2/multidict-4.7.6-cp36-cp36m-manylinux1_x86_64.whl (148kB)\n",
            "\u001b[K     |████████████████████████████████| 153kB 25.8MB/s \n",
            "\u001b[?25hRequirement already satisfied: certifi>=2017.4.17 in /usr/local/lib/python3.6/dist-packages (from requests->alpha_vantage) (2020.6.20)\n",
            "Requirement already satisfied: idna<3,>=2.5 in /usr/local/lib/python3.6/dist-packages (from requests->alpha_vantage) (2.10)\n",
            "Requirement already satisfied: urllib3!=1.25.0,!=1.25.1,<1.26,>=1.21.1 in /usr/local/lib/python3.6/dist-packages (from requests->alpha_vantage) (1.24.3)\n",
            "Building wheels for collected packages: alpha-vantage, idna-ssl\n",
            "  Building wheel for alpha-vantage (setup.py) ... \u001b[?25l\u001b[?25hdone\n",
            "  Created wheel for alpha-vantage: filename=alpha_vantage-2.2.0-cp36-none-any.whl size=25705 sha256=915666992e2e40f4c28dddc07f007daa579432fbcbc2d3f24248558f9dac504f\n",
            "  Stored in directory: /root/.cache/pip/wheels/3a/fa/05/80b0afcbd2a4de8bd2a0c5cd77084e3d3a9cc12c48be9b7f84\n",
            "  Building wheel for idna-ssl (setup.py) ... \u001b[?25l\u001b[?25hdone\n",
            "  Created wheel for idna-ssl: filename=idna_ssl-1.1.0-cp36-none-any.whl size=3162 sha256=75e5beef19bc8e7efd566bfe8b48792b9d57d290b8a0bd57dd8bc37ebce9e3b2\n",
            "  Stored in directory: /root/.cache/pip/wheels/d3/00/b3/32d613e19e08a739751dd6bf998cfed277728f8b2127ad4eb7\n",
            "Successfully built alpha-vantage idna-ssl\n",
            "Installing collected packages: async-timeout, multidict, yarl, idna-ssl, aiohttp, alpha-vantage\n",
            "Successfully installed aiohttp-3.6.2 alpha-vantage-2.2.0 async-timeout-3.0.1 idna-ssl-1.1.0 multidict-4.7.6 yarl-1.5.1\n"
          ],
          "name": "stdout"
        }
      ]
    },
    {
      "cell_type": "code",
      "metadata": {
        "id": "apJmPMcGlpwI",
        "colab_type": "code",
        "colab": {}
      },
      "source": [
        "import math\n",
        "import pandas_datareader.data as web\n",
        "import numpy as np\n",
        "import pandas as pd\n",
        "from sklearn.preprocessing import MinMaxScaler\n",
        "from keras.models import Sequential\n",
        "from keras.layers import Dense, LSTM\n",
        "import matplotlib.pyplot as plt\n",
        "from datetime import date\n",
        "from datetime import time\n",
        "plt.style.use('fivethirtyeight') "
      ],
      "execution_count": null,
      "outputs": []
    },
    {
      "cell_type": "code",
      "metadata": {
        "id": "sW8Zj9Hyd6LZ",
        "colab_type": "code",
        "colab": {}
      },
      "source": [
        "# pip install alpha_vantage"
      ],
      "execution_count": null,
      "outputs": []
    },
    {
      "cell_type": "code",
      "metadata": {
        "id": "RlnTjHxTeCOY",
        "colab_type": "code",
        "colab": {}
      },
      "source": [
        "api_key = '5LLGMLRK81AS4OEH'"
      ],
      "execution_count": null,
      "outputs": []
    },
    {
      "cell_type": "code",
      "metadata": {
        "id": "mPAvnyLzeB7R",
        "colab_type": "code",
        "colab": {}
      },
      "source": [
        "import pandas as pd\n",
        "from alpha_vantage.timeseries import TimeSeries\n",
        "import time\n",
        "import matplotlib.pyplot as plt\n",
        "from alpha_vantage.foreignexchange import ForeignExchange"
      ],
      "execution_count": null,
      "outputs": []
    },
    {
      "cell_type": "code",
      "metadata": {
        "id": "0AlB7_uOfQs6",
        "colab_type": "code",
        "colab": {}
      },
      "source": [
        "# ts = TimeSeries(key=api_key,output_format='pandas')\n",
        "# df, meta_data = ts.get_daily(symbol='IBM', outputsize='full')\n",
        "# print(df)"
      ],
      "execution_count": null,
      "outputs": []
    },
    {
      "cell_type": "code",
      "metadata": {
        "id": "yfKdxuL-eBvT",
        "colab_type": "code",
        "colab": {}
      },
      "source": [
        "# cc = ForeignExchange(key = api_key, output_format = 'pandas')\n",
        "# df, meta_data = cc.get_currency_exchange_intraday(from_symbol='GBP', to_symbol='JPY',interval='1min',outputsize='full')\n",
        "# print(df)"
      ],
      "execution_count": null,
      "outputs": []
    },
    {
      "cell_type": "code",
      "metadata": {
        "id": "WLKYJsm6eBi2",
        "colab_type": "code",
        "colab": {}
      },
      "source": [
        "# df = df[::-1]\n",
        "# df.tail(10)"
      ],
      "execution_count": null,
      "outputs": []
    },
    {
      "cell_type": "code",
      "metadata": {
        "id": "zOMA72kPmqUa",
        "colab_type": "code",
        "colab": {}
      },
      "source": [
        "# Get the stock quote\n",
        "df = web.DataReader('TATAMOTORS.NS', data_source='yahoo',start = '2010-01-25', end = date.today())"
      ],
      "execution_count": null,
      "outputs": []
    },
    {
      "cell_type": "code",
      "metadata": {
        "id": "UdrFnTqS9qTt",
        "colab_type": "code",
        "colab": {
          "base_uri": "https://localhost:8080/",
          "height": 446
        },
        "outputId": "9b9507c4-b999-4f50-f9bf-4775fa2cd894"
      },
      "source": [
        "df"
      ],
      "execution_count": null,
      "outputs": [
        {
          "output_type": "execute_result",
          "data": {
            "text/html": [
              "<div>\n",
              "<style scoped>\n",
              "    .dataframe tbody tr th:only-of-type {\n",
              "        vertical-align: middle;\n",
              "    }\n",
              "\n",
              "    .dataframe tbody tr th {\n",
              "        vertical-align: top;\n",
              "    }\n",
              "\n",
              "    .dataframe thead th {\n",
              "        text-align: right;\n",
              "    }\n",
              "</style>\n",
              "<table border=\"1\" class=\"dataframe\">\n",
              "  <thead>\n",
              "    <tr style=\"text-align: right;\">\n",
              "      <th></th>\n",
              "      <th>High</th>\n",
              "      <th>Low</th>\n",
              "      <th>Open</th>\n",
              "      <th>Close</th>\n",
              "      <th>Volume</th>\n",
              "      <th>Adj Close</th>\n",
              "    </tr>\n",
              "    <tr>\n",
              "      <th>Date</th>\n",
              "      <th></th>\n",
              "      <th></th>\n",
              "      <th></th>\n",
              "      <th></th>\n",
              "      <th></th>\n",
              "      <th></th>\n",
              "    </tr>\n",
              "  </thead>\n",
              "  <tbody>\n",
              "    <tr>\n",
              "      <th>2010-01-25</th>\n",
              "      <td>154.938004</td>\n",
              "      <td>150.386993</td>\n",
              "      <td>153.988007</td>\n",
              "      <td>152.098999</td>\n",
              "      <td>8448704.0</td>\n",
              "      <td>121.989670</td>\n",
              "    </tr>\n",
              "    <tr>\n",
              "      <th>2010-01-27</th>\n",
              "      <td>150.862000</td>\n",
              "      <td>140.731003</td>\n",
              "      <td>148.804001</td>\n",
              "      <td>142.065994</td>\n",
              "      <td>16092885.0</td>\n",
              "      <td>113.942802</td>\n",
              "    </tr>\n",
              "    <tr>\n",
              "      <th>2010-01-28</th>\n",
              "      <td>145.371002</td>\n",
              "      <td>138.960007</td>\n",
              "      <td>143.460999</td>\n",
              "      <td>140.710999</td>\n",
              "      <td>27120073.0</td>\n",
              "      <td>112.856033</td>\n",
              "    </tr>\n",
              "    <tr>\n",
              "      <th>2010-01-29</th>\n",
              "      <td>140.848999</td>\n",
              "      <td>132.875000</td>\n",
              "      <td>139.503998</td>\n",
              "      <td>137.395996</td>\n",
              "      <td>20899408.0</td>\n",
              "      <td>110.197281</td>\n",
              "    </tr>\n",
              "    <tr>\n",
              "      <th>2010-02-01</th>\n",
              "      <td>143.134995</td>\n",
              "      <td>134.229996</td>\n",
              "      <td>136.080002</td>\n",
              "      <td>142.442001</td>\n",
              "      <td>24102055.0</td>\n",
              "      <td>114.244377</td>\n",
              "    </tr>\n",
              "    <tr>\n",
              "      <th>...</th>\n",
              "      <td>...</td>\n",
              "      <td>...</td>\n",
              "      <td>...</td>\n",
              "      <td>...</td>\n",
              "      <td>...</td>\n",
              "      <td>...</td>\n",
              "    </tr>\n",
              "    <tr>\n",
              "      <th>2020-08-13</th>\n",
              "      <td>131.899994</td>\n",
              "      <td>124.400002</td>\n",
              "      <td>126.099998</td>\n",
              "      <td>131.149994</td>\n",
              "      <td>95489249.0</td>\n",
              "      <td>131.149994</td>\n",
              "    </tr>\n",
              "    <tr>\n",
              "      <th>2020-08-14</th>\n",
              "      <td>132.649994</td>\n",
              "      <td>123.699997</td>\n",
              "      <td>131.149994</td>\n",
              "      <td>124.599998</td>\n",
              "      <td>75032834.0</td>\n",
              "      <td>124.599998</td>\n",
              "    </tr>\n",
              "    <tr>\n",
              "      <th>2020-08-17</th>\n",
              "      <td>126.250000</td>\n",
              "      <td>120.599998</td>\n",
              "      <td>124.500000</td>\n",
              "      <td>123.550003</td>\n",
              "      <td>61154250.0</td>\n",
              "      <td>123.550003</td>\n",
              "    </tr>\n",
              "    <tr>\n",
              "      <th>2020-08-18</th>\n",
              "      <td>127.500000</td>\n",
              "      <td>123.599998</td>\n",
              "      <td>124.000000</td>\n",
              "      <td>125.599998</td>\n",
              "      <td>62153763.0</td>\n",
              "      <td>125.599998</td>\n",
              "    </tr>\n",
              "    <tr>\n",
              "      <th>2020-08-19</th>\n",
              "      <td>127.599998</td>\n",
              "      <td>124.750000</td>\n",
              "      <td>127.000000</td>\n",
              "      <td>125.150002</td>\n",
              "      <td>45119495.0</td>\n",
              "      <td>125.150002</td>\n",
              "    </tr>\n",
              "  </tbody>\n",
              "</table>\n",
              "<p>2604 rows × 6 columns</p>\n",
              "</div>"
            ],
            "text/plain": [
              "                  High         Low  ...      Volume   Adj Close\n",
              "Date                                ...                        \n",
              "2010-01-25  154.938004  150.386993  ...   8448704.0  121.989670\n",
              "2010-01-27  150.862000  140.731003  ...  16092885.0  113.942802\n",
              "2010-01-28  145.371002  138.960007  ...  27120073.0  112.856033\n",
              "2010-01-29  140.848999  132.875000  ...  20899408.0  110.197281\n",
              "2010-02-01  143.134995  134.229996  ...  24102055.0  114.244377\n",
              "...                ...         ...  ...         ...         ...\n",
              "2020-08-13  131.899994  124.400002  ...  95489249.0  131.149994\n",
              "2020-08-14  132.649994  123.699997  ...  75032834.0  124.599998\n",
              "2020-08-17  126.250000  120.599998  ...  61154250.0  123.550003\n",
              "2020-08-18  127.500000  123.599998  ...  62153763.0  125.599998\n",
              "2020-08-19  127.599998  124.750000  ...  45119495.0  125.150002\n",
              "\n",
              "[2604 rows x 6 columns]"
            ]
          },
          "metadata": {
            "tags": []
          },
          "execution_count": 16
        }
      ]
    },
    {
      "cell_type": "code",
      "metadata": {
        "id": "CKzQZaqRnR3F",
        "colab_type": "code",
        "colab": {}
      },
      "source": [
        "#show the data\n",
        "df['Date'] = df.index"
      ],
      "execution_count": null,
      "outputs": []
    },
    {
      "cell_type": "code",
      "metadata": {
        "id": "ALCXElU2uJ1X",
        "colab_type": "code",
        "colab": {
          "base_uri": "https://localhost:8080/",
          "height": 446
        },
        "outputId": "3501a161-7b4a-4ff5-af43-6929c3358e1e"
      },
      "source": [
        "df"
      ],
      "execution_count": null,
      "outputs": [
        {
          "output_type": "execute_result",
          "data": {
            "text/html": [
              "<div>\n",
              "<style scoped>\n",
              "    .dataframe tbody tr th:only-of-type {\n",
              "        vertical-align: middle;\n",
              "    }\n",
              "\n",
              "    .dataframe tbody tr th {\n",
              "        vertical-align: top;\n",
              "    }\n",
              "\n",
              "    .dataframe thead th {\n",
              "        text-align: right;\n",
              "    }\n",
              "</style>\n",
              "<table border=\"1\" class=\"dataframe\">\n",
              "  <thead>\n",
              "    <tr style=\"text-align: right;\">\n",
              "      <th></th>\n",
              "      <th>High</th>\n",
              "      <th>Low</th>\n",
              "      <th>Open</th>\n",
              "      <th>Close</th>\n",
              "      <th>Volume</th>\n",
              "      <th>Adj Close</th>\n",
              "      <th>Date</th>\n",
              "    </tr>\n",
              "    <tr>\n",
              "      <th>Date</th>\n",
              "      <th></th>\n",
              "      <th></th>\n",
              "      <th></th>\n",
              "      <th></th>\n",
              "      <th></th>\n",
              "      <th></th>\n",
              "      <th></th>\n",
              "    </tr>\n",
              "  </thead>\n",
              "  <tbody>\n",
              "    <tr>\n",
              "      <th>2010-01-25</th>\n",
              "      <td>154.938004</td>\n",
              "      <td>150.386993</td>\n",
              "      <td>153.988007</td>\n",
              "      <td>152.098999</td>\n",
              "      <td>8448704.0</td>\n",
              "      <td>121.989670</td>\n",
              "      <td>2010-01-25</td>\n",
              "    </tr>\n",
              "    <tr>\n",
              "      <th>2010-01-27</th>\n",
              "      <td>150.862000</td>\n",
              "      <td>140.731003</td>\n",
              "      <td>148.804001</td>\n",
              "      <td>142.065994</td>\n",
              "      <td>16092885.0</td>\n",
              "      <td>113.942802</td>\n",
              "      <td>2010-01-27</td>\n",
              "    </tr>\n",
              "    <tr>\n",
              "      <th>2010-01-28</th>\n",
              "      <td>145.371002</td>\n",
              "      <td>138.960007</td>\n",
              "      <td>143.460999</td>\n",
              "      <td>140.710999</td>\n",
              "      <td>27120073.0</td>\n",
              "      <td>112.856033</td>\n",
              "      <td>2010-01-28</td>\n",
              "    </tr>\n",
              "    <tr>\n",
              "      <th>2010-01-29</th>\n",
              "      <td>140.848999</td>\n",
              "      <td>132.875000</td>\n",
              "      <td>139.503998</td>\n",
              "      <td>137.395996</td>\n",
              "      <td>20899408.0</td>\n",
              "      <td>110.197281</td>\n",
              "      <td>2010-01-29</td>\n",
              "    </tr>\n",
              "    <tr>\n",
              "      <th>2010-02-01</th>\n",
              "      <td>143.134995</td>\n",
              "      <td>134.229996</td>\n",
              "      <td>136.080002</td>\n",
              "      <td>142.442001</td>\n",
              "      <td>24102055.0</td>\n",
              "      <td>114.244377</td>\n",
              "      <td>2010-02-01</td>\n",
              "    </tr>\n",
              "    <tr>\n",
              "      <th>...</th>\n",
              "      <td>...</td>\n",
              "      <td>...</td>\n",
              "      <td>...</td>\n",
              "      <td>...</td>\n",
              "      <td>...</td>\n",
              "      <td>...</td>\n",
              "      <td>...</td>\n",
              "    </tr>\n",
              "    <tr>\n",
              "      <th>2020-08-13</th>\n",
              "      <td>131.899994</td>\n",
              "      <td>124.400002</td>\n",
              "      <td>126.099998</td>\n",
              "      <td>131.149994</td>\n",
              "      <td>95489249.0</td>\n",
              "      <td>131.149994</td>\n",
              "      <td>2020-08-13</td>\n",
              "    </tr>\n",
              "    <tr>\n",
              "      <th>2020-08-14</th>\n",
              "      <td>132.649994</td>\n",
              "      <td>123.699997</td>\n",
              "      <td>131.149994</td>\n",
              "      <td>124.599998</td>\n",
              "      <td>75032834.0</td>\n",
              "      <td>124.599998</td>\n",
              "      <td>2020-08-14</td>\n",
              "    </tr>\n",
              "    <tr>\n",
              "      <th>2020-08-17</th>\n",
              "      <td>126.250000</td>\n",
              "      <td>120.599998</td>\n",
              "      <td>124.500000</td>\n",
              "      <td>123.550003</td>\n",
              "      <td>61154250.0</td>\n",
              "      <td>123.550003</td>\n",
              "      <td>2020-08-17</td>\n",
              "    </tr>\n",
              "    <tr>\n",
              "      <th>2020-08-18</th>\n",
              "      <td>127.500000</td>\n",
              "      <td>123.599998</td>\n",
              "      <td>124.000000</td>\n",
              "      <td>125.599998</td>\n",
              "      <td>62153763.0</td>\n",
              "      <td>125.599998</td>\n",
              "      <td>2020-08-18</td>\n",
              "    </tr>\n",
              "    <tr>\n",
              "      <th>2020-08-19</th>\n",
              "      <td>127.599998</td>\n",
              "      <td>124.750000</td>\n",
              "      <td>127.000000</td>\n",
              "      <td>125.150002</td>\n",
              "      <td>45119495.0</td>\n",
              "      <td>125.150002</td>\n",
              "      <td>2020-08-19</td>\n",
              "    </tr>\n",
              "  </tbody>\n",
              "</table>\n",
              "<p>2604 rows × 7 columns</p>\n",
              "</div>"
            ],
            "text/plain": [
              "                  High         Low  ...   Adj Close       Date\n",
              "Date                                ...                       \n",
              "2010-01-25  154.938004  150.386993  ...  121.989670 2010-01-25\n",
              "2010-01-27  150.862000  140.731003  ...  113.942802 2010-01-27\n",
              "2010-01-28  145.371002  138.960007  ...  112.856033 2010-01-28\n",
              "2010-01-29  140.848999  132.875000  ...  110.197281 2010-01-29\n",
              "2010-02-01  143.134995  134.229996  ...  114.244377 2010-02-01\n",
              "...                ...         ...  ...         ...        ...\n",
              "2020-08-13  131.899994  124.400002  ...  131.149994 2020-08-13\n",
              "2020-08-14  132.649994  123.699997  ...  124.599998 2020-08-14\n",
              "2020-08-17  126.250000  120.599998  ...  123.550003 2020-08-17\n",
              "2020-08-18  127.500000  123.599998  ...  125.599998 2020-08-18\n",
              "2020-08-19  127.599998  124.750000  ...  125.150002 2020-08-19\n",
              "\n",
              "[2604 rows x 7 columns]"
            ]
          },
          "metadata": {
            "tags": []
          },
          "execution_count": 18
        }
      ]
    },
    {
      "cell_type": "code",
      "metadata": {
        "id": "Wf68KJAlnbDI",
        "colab_type": "code",
        "colab": {
          "base_uri": "https://localhost:8080/",
          "height": 35
        },
        "outputId": "7f8bf3da-d51a-4c65-efc6-fae62aa1a12c"
      },
      "source": [
        "#Get number of rows and colomns in datasets\n",
        "df.shape"
      ],
      "execution_count": null,
      "outputs": [
        {
          "output_type": "execute_result",
          "data": {
            "text/plain": [
              "(2604, 7)"
            ]
          },
          "metadata": {
            "tags": []
          },
          "execution_count": 19
        }
      ]
    },
    {
      "cell_type": "code",
      "metadata": {
        "id": "qRU7fuU5pyzl",
        "colab_type": "code",
        "colab": {
          "base_uri": "https://localhost:8080/",
          "height": 325
        },
        "outputId": "a73ba694-4876-43b4-eb46-ae460550f6d8"
      },
      "source": [
        "# Close price history\n",
        "plt.figure(figsize=(16,4))\n",
        "plt.title('Close Price History')\n",
        "plt.plot(df['Open'],);\n",
        "plt.xlabel('Date', fontsize=18)\n",
        "plt.ylabel('Close price USD($)', fontsize = 18)\n",
        "plt.show()"
      ],
      "execution_count": null,
      "outputs": [
        {
          "output_type": "display_data",
          "data": {
            "image/png": "[encoded data removed]",
            "text/plain": [
              "<Figure size 1152x288 with 1 Axes>"
            ]
          },
          "metadata": {
            "tags": []
          }
        }
      ]
    },
    {
      "cell_type": "code",
      "metadata": {
        "id": "-rVlC095qXQx",
        "colab_type": "code",
        "colab": {
          "base_uri": "https://localhost:8080/",
          "height": 35
        },
        "outputId": "7645f3b7-865c-412c-cfc0-ced44f0b7e07"
      },
      "source": [
        "# Create new dataframe with only close coloumn\n",
        "data = df.filter(['Open'])\n",
        "# Convert dataframe to numpy array\n",
        "dataset = data.values\n",
        "# Get the number of rows to train the model on\n",
        "training_data_len = math.ceil( len(dataset) * 0.99)\n",
        "\n",
        "training_data_len"
      ],
      "execution_count": null,
      "outputs": [
        {
          "output_type": "execute_result",
          "data": {
            "text/plain": [
              "2578"
            ]
          },
          "metadata": {
            "tags": []
          },
          "execution_count": 21
        }
      ]
    },
    {
      "cell_type": "code",
      "metadata": {
        "id": "054BIqTuvqM9",
        "colab_type": "code",
        "colab": {
          "base_uri": "https://localhost:8080/",
          "height": 139
        },
        "outputId": "ce64d9dd-8e5b-4622-be1d-83cfc70275d9"
      },
      "source": [
        "# Scale the data\n",
        "scaler = MinMaxScaler(feature_range=(0,1))\n",
        "scaled_data = scaler.fit_transform(dataset)\n",
        "\n",
        "scaled_data"
      ],
      "execution_count": null,
      "outputs": [
        {
          "output_type": "execute_result",
          "data": {
            "text/plain": [
              "array([[0.16392363],\n",
              "       [0.15421052],\n",
              "       [0.1441995 ],\n",
              "       ...,\n",
              "       [0.10867285],\n",
              "       [0.10773601],\n",
              "       [0.11335702]])"
            ]
          },
          "metadata": {
            "tags": []
          },
          "execution_count": 22
        }
      ]
    },
    {
      "cell_type": "code",
      "metadata": {
        "id": "TpFHvI_owSV5",
        "colab_type": "code",
        "colab": {
          "base_uri": "https://localhost:8080/",
          "height": 260
        },
        "outputId": "e92985d3-ca98-47f1-c91b-9f96302681e1"
      },
      "source": [
        "# Create training datasets\n",
        "# Create the scaled training datasets\n",
        "train_data = scaled_data[0:training_data_len,:]\n",
        "# Slit x_train and y_train datasets\n",
        "x_train = []\n",
        "y_train = []\n",
        "for i in range(60,len(train_data)):\n",
        "  x_train.append(train_data[i-60:i,0])\n",
        "  y_train.append(train_data[i,0])\n",
        "  if i<=60:\n",
        "    print(x_train)\n",
        "    print(y_train)\n",
        "    print() "
      ],
      "execution_count": null,
      "outputs": [
        {
          "output_type": "stream",
          "text": [
            "[array([0.16392363, 0.15421052, 0.1441995 , 0.13678538, 0.13036995,\n",
            "       0.14605444, 0.1404915 , 0.14271742, 0.12380836, 0.12568014,\n",
            "       0.1220471 , 0.12936941, 0.12566141, 0.13266895, 0.13014886,\n",
            "       0.13863844, 0.14030789, 0.1364144 , 0.13863844, 0.13455946,\n",
            "       0.13196444, 0.13048236, 0.1219553 , 0.14234644, 0.17571464,\n",
            "       0.17530617, 0.17868064, 0.17200664, 0.16644558, 0.16385056,\n",
            "       0.16459064, 0.16199561, 0.15532347, 0.16199561, 0.16822556,\n",
            "       0.16559306, 0.16292307, 0.16347958, 0.15717652, 0.1516155 ,\n",
            "       0.14660903, 0.15461898, 0.15157802, 0.15643456, 0.15717652,\n",
            "       0.16575982, 0.1664081 , 0.16271885, 0.17052456, 0.16644558,\n",
            "       0.17569588, 0.16570361, 0.16459064, 0.16273758, 0.15949425,\n",
            "       0.16347958, 0.16985567, 0.17456421, 0.18609475, 0.18943177])]\n",
            "[0.1902842948527716]\n",
            "\n"
          ],
          "name": "stdout"
        }
      ]
    },
    {
      "cell_type": "code",
      "metadata": {
        "id": "i9wytjq9xqI8",
        "colab_type": "code",
        "colab": {}
      },
      "source": [
        "# convert x_train y_train to numpy arrays\n",
        "x_train, y_train = np.array(x_train), np.array(y_train)"
      ],
      "execution_count": null,
      "outputs": []
    },
    {
      "cell_type": "code",
      "metadata": {
        "id": "kPm9qFun1Yyh",
        "colab_type": "code",
        "colab": {
          "base_uri": "https://localhost:8080/",
          "height": 35
        },
        "outputId": "3008b9f7-4bb7-4bd4-d097-d3396e95ad91"
      },
      "source": [
        "# Reshape the data\n",
        "x_train = np.reshape(x_train,(x_train.shape[0], x_train.shape[1],1))\n",
        "x_train.shape"
      ],
      "execution_count": null,
      "outputs": [
        {
          "output_type": "execute_result",
          "data": {
            "text/plain": [
              "(2518, 60, 1)"
            ]
          },
          "metadata": {
            "tags": []
          },
          "execution_count": 25
        }
      ]
    },
    {
      "cell_type": "code",
      "metadata": {
        "id": "YphvzrAL1nXb",
        "colab_type": "code",
        "colab": {}
      },
      "source": [
        "# Build LSTM Model\n",
        "model = Sequential()\n",
        "model.add(LSTM(50,return_sequences=True, input_shape = (x_train.shape[1],1)))\n",
        "model.add(LSTM(50, return_sequences=False))\n",
        "model.add(Dense(15))\n",
        "model.add(Dense(1))\n"
      ],
      "execution_count": null,
      "outputs": []
    },
    {
      "cell_type": "code",
      "metadata": {
        "id": "vUy-netL42K4",
        "colab_type": "code",
        "colab": {}
      },
      "source": [
        "model.compile(optimizer='adam',loss='mse')\n"
      ],
      "execution_count": null,
      "outputs": []
    },
    {
      "cell_type": "code",
      "metadata": {
        "id": "KJKvbL_r5kH-",
        "colab_type": "code",
        "colab": {
          "base_uri": "https://localhost:8080/",
          "height": 52
        },
        "outputId": "4e532429-709e-4909-ae76-7d4901bfcaa2"
      },
      "source": [
        "model.fit(x_train,y_train,batch_size=1, epochs = 1,)"
      ],
      "execution_count": null,
      "outputs": [
        {
          "output_type": "stream",
          "text": [
            "2518/2518 [==============================] - 53s 21ms/step - loss: 0.0018\n"
          ],
          "name": "stdout"
        },
        {
          "output_type": "execute_result",
          "data": {
            "text/plain": [
              "<tensorflow.python.keras.callbacks.History at 0x7fedf4746d30>"
            ]
          },
          "metadata": {
            "tags": []
          },
          "execution_count": 28
        }
      ]
    },
    {
      "cell_type": "code",
      "metadata": {
        "id": "lQrQdp_g5_VL",
        "colab_type": "code",
        "colab": {}
      },
      "source": [
        "# Crete testing datasets\n",
        "# Create a new array containing scaled value from index 1704 to 2130\n",
        "test_data = scaled_data[training_data_len-60: ,:]\n",
        "# Create dataset x_test, y_test \n",
        "x_test = []\n",
        "y_test = dataset[training_data_len: ,:]\n",
        "for i in range(60, len(test_data)):\n",
        "  x_test.append(test_data[i-60:i, 0])"
      ],
      "execution_count": null,
      "outputs": []
    },
    {
      "cell_type": "code",
      "metadata": {
        "id": "pCf7PuLD8ifs",
        "colab_type": "code",
        "colab": {}
      },
      "source": [
        "x_test = np.array(x_test)"
      ],
      "execution_count": null,
      "outputs": []
    },
    {
      "cell_type": "code",
      "metadata": {
        "id": "ChpGsyct73c7",
        "colab_type": "code",
        "colab": {}
      },
      "source": [
        "# Reshape the data\n",
        "x_test = np.reshape(x_test,(x_test.shape[0],x_test.shape[1],1))"
      ],
      "execution_count": null,
      "outputs": []
    },
    {
      "cell_type": "code",
      "metadata": {
        "id": "REUYDN6V2VpO",
        "colab_type": "code",
        "colab": {}
      },
      "source": [
        "# x_test = range(10)"
      ],
      "execution_count": null,
      "outputs": []
    },
    {
      "cell_type": "code",
      "metadata": {
        "id": "0cu0bGnW8VOj",
        "colab_type": "code",
        "colab": {}
      },
      "source": [
        "# Get model prediction price value\n",
        "predictions = model.predict(x_test)\n",
        "predictions = scaler.inverse_transform(predictions)"
      ],
      "execution_count": null,
      "outputs": []
    },
    {
      "cell_type": "code",
      "metadata": {
        "id": "cQ1NT69s9EoW",
        "colab_type": "code",
        "colab": {
          "base_uri": "https://localhost:8080/",
          "height": 35
        },
        "outputId": "f97f5887-ca19-4ce0-8dde-de55cbd9da00"
      },
      "source": [
        "rmse = np.sqrt( np.mean(predictions - y_test)**2)\n",
        "rmse"
      ],
      "execution_count": null,
      "outputs": [
        {
          "output_type": "execute_result",
          "data": {
            "text/plain": [
              "8.42355962900015"
            ]
          },
          "metadata": {
            "tags": []
          },
          "execution_count": 34
        }
      ]
    },
    {
      "cell_type": "code",
      "metadata": {
        "id": "hmAgyqvW9VMf",
        "colab_type": "code",
        "colab": {
          "base_uri": "https://localhost:8080/",
          "height": 393
        },
        "outputId": "156e99c9-8bdb-48ed-e735-f59b504a68a8"
      },
      "source": [
        "# PLot the data\n",
        "train = data[:training_data_len]\n",
        "valid = data[training_data_len:]\n",
        "valid['Predictions'] = predictions\n",
        "# Visualize the data\n",
        "plt.figure(figsize=(12,4))\n",
        "plt.title(\"Model\")\n",
        "plt.xlabel('Date', fontsize = 18)\n",
        "plt.ylabel('Close Price USD($) ', fontsize=18)\n",
        "# plt.plot(train['Open'])\n",
        "plt.plot(valid[['Open', 'Predictions']])\n",
        "plt.legend(['Close','Val','Predictions'],loc = 'lower right')\n",
        "plt.tight_layout()\n",
        "plt.show()"
      ],
      "execution_count": null,
      "outputs": [
        {
          "output_type": "stream",
          "text": [
            "/usr/local/lib/python3.6/dist-packages/ipykernel_launcher.py:4: SettingWithCopyWarning: \n",
            "A value is trying to be set on a copy of a slice from a DataFrame.\n",
            "Try using .loc[row_indexer,col_indexer] = value instead\n",
            "\n",
            "See the caveats in the documentation: https://pandas.pydata.org/pandas-docs/stable/user_guide/indexing.html#returning-a-view-versus-a-copy\n",
            "  after removing the cwd from sys.path.\n"
          ],
          "name": "stderr"
        },
        {
          "output_type": "display_data",
          "data": {
            "image/png": "[encoded data removed]",
            "text/plain": [
              "<Figure size 864x288 with 1 Axes>"
            ]
          },
          "metadata": {
            "tags": []
          }
        }
      ]
    },
    {
      "cell_type": "code",
      "metadata": {
        "id": "4WJaZ2df44LB",
        "colab_type": "code",
        "colab": {
          "base_uri": "https://localhost:8080/",
          "height": 69
        },
        "outputId": "9dc37676-b770-4be4-851a-d5c73d461808"
      },
      "source": [
        "valid.sum(axis=0)"
      ],
      "execution_count": null,
      "outputs": [
        {
          "output_type": "execute_result",
          "data": {
            "text/plain": [
              "Open           2930.449982\n",
              "Predictions    2711.437431\n",
              "dtype: float64"
            ]
          },
          "metadata": {
            "tags": []
          },
          "execution_count": 36
        }
      ]
    },
    {
      "cell_type": "code",
      "metadata": {
        "id": "nbqQ7crH-FvX",
        "colab_type": "code",
        "colab": {
          "base_uri": "https://localhost:8080/",
          "height": 877
        },
        "outputId": "72cb4305-23fc-455a-fa9a-0d2c3e06ec08"
      },
      "source": [
        "valid"
      ],
      "execution_count": null,
      "outputs": [
        {
          "output_type": "execute_result",
          "data": {
            "text/html": [
              "<div>\n",
              "<style scoped>\n",
              "    .dataframe tbody tr th:only-of-type {\n",
              "        vertical-align: middle;\n",
              "    }\n",
              "\n",
              "    .dataframe tbody tr th {\n",
              "        vertical-align: top;\n",
              "    }\n",
              "\n",
              "    .dataframe thead th {\n",
              "        text-align: right;\n",
              "    }\n",
              "</style>\n",
              "<table border=\"1\" class=\"dataframe\">\n",
              "  <thead>\n",
              "    <tr style=\"text-align: right;\">\n",
              "      <th></th>\n",
              "      <th>Open</th>\n",
              "      <th>Predictions</th>\n",
              "    </tr>\n",
              "    <tr>\n",
              "      <th>Date</th>\n",
              "      <th></th>\n",
              "      <th></th>\n",
              "    </tr>\n",
              "  </thead>\n",
              "  <tbody>\n",
              "    <tr>\n",
              "      <th>2020-07-15</th>\n",
              "      <td>106.800003</td>\n",
              "      <td>101.487213</td>\n",
              "    </tr>\n",
              "    <tr>\n",
              "      <th>2020-07-16</th>\n",
              "      <td>103.949997</td>\n",
              "      <td>101.402176</td>\n",
              "    </tr>\n",
              "    <tr>\n",
              "      <th>2020-07-17</th>\n",
              "      <td>103.650002</td>\n",
              "      <td>100.721672</td>\n",
              "    </tr>\n",
              "    <tr>\n",
              "      <th>2020-07-20</th>\n",
              "      <td>106.349998</td>\n",
              "      <td>99.779640</td>\n",
              "    </tr>\n",
              "    <tr>\n",
              "      <th>2020-07-21</th>\n",
              "      <td>106.000000</td>\n",
              "      <td>99.283096</td>\n",
              "    </tr>\n",
              "    <tr>\n",
              "      <th>2020-07-22</th>\n",
              "      <td>108.500000</td>\n",
              "      <td>99.056404</td>\n",
              "    </tr>\n",
              "    <tr>\n",
              "      <th>2020-07-23</th>\n",
              "      <td>105.449997</td>\n",
              "      <td>99.419380</td>\n",
              "    </tr>\n",
              "    <tr>\n",
              "      <th>2020-07-24</th>\n",
              "      <td>104.699997</td>\n",
              "      <td>99.560280</td>\n",
              "    </tr>\n",
              "    <tr>\n",
              "      <th>2020-07-27</th>\n",
              "      <td>104.000000</td>\n",
              "      <td>99.442368</td>\n",
              "    </tr>\n",
              "    <tr>\n",
              "      <th>2020-07-28</th>\n",
              "      <td>102.300003</td>\n",
              "      <td>99.095337</td>\n",
              "    </tr>\n",
              "    <tr>\n",
              "      <th>2020-07-29</th>\n",
              "      <td>108.099998</td>\n",
              "      <td>98.410950</td>\n",
              "    </tr>\n",
              "    <tr>\n",
              "      <th>2020-07-30</th>\n",
              "      <td>106.400002</td>\n",
              "      <td>98.587448</td>\n",
              "    </tr>\n",
              "    <tr>\n",
              "      <th>2020-07-31</th>\n",
              "      <td>104.000000</td>\n",
              "      <td>98.934319</td>\n",
              "    </tr>\n",
              "    <tr>\n",
              "      <th>2020-08-03</th>\n",
              "      <td>103.000000</td>\n",
              "      <td>98.934196</td>\n",
              "    </tr>\n",
              "    <tr>\n",
              "      <th>2020-08-04</th>\n",
              "      <td>112.949997</td>\n",
              "      <td>98.586334</td>\n",
              "    </tr>\n",
              "    <tr>\n",
              "      <th>2020-08-05</th>\n",
              "      <td>112.400002</td>\n",
              "      <td>99.704445</td>\n",
              "    </tr>\n",
              "    <tr>\n",
              "      <th>2020-08-06</th>\n",
              "      <td>116.199997</td>\n",
              "      <td>101.353867</td>\n",
              "    </tr>\n",
              "    <tr>\n",
              "      <th>2020-08-07</th>\n",
              "      <td>117.000000</td>\n",
              "      <td>103.638237</td>\n",
              "    </tr>\n",
              "    <tr>\n",
              "      <th>2020-08-10</th>\n",
              "      <td>119.949997</td>\n",
              "      <td>106.027306</td>\n",
              "    </tr>\n",
              "    <tr>\n",
              "      <th>2020-08-11</th>\n",
              "      <td>125.000000</td>\n",
              "      <td>108.561104</td>\n",
              "    </tr>\n",
              "    <tr>\n",
              "      <th>2020-08-12</th>\n",
              "      <td>121.000000</td>\n",
              "      <td>111.577843</td>\n",
              "    </tr>\n",
              "    <tr>\n",
              "      <th>2020-08-13</th>\n",
              "      <td>126.099998</td>\n",
              "      <td>113.710594</td>\n",
              "    </tr>\n",
              "    <tr>\n",
              "      <th>2020-08-14</th>\n",
              "      <td>131.149994</td>\n",
              "      <td>115.839790</td>\n",
              "    </tr>\n",
              "    <tr>\n",
              "      <th>2020-08-17</th>\n",
              "      <td>124.500000</td>\n",
              "      <td>118.436485</td>\n",
              "    </tr>\n",
              "    <tr>\n",
              "      <th>2020-08-18</th>\n",
              "      <td>124.000000</td>\n",
              "      <td>119.769951</td>\n",
              "    </tr>\n",
              "    <tr>\n",
              "      <th>2020-08-19</th>\n",
              "      <td>127.000000</td>\n",
              "      <td>120.116997</td>\n",
              "    </tr>\n",
              "  </tbody>\n",
              "</table>\n",
              "</div>"
            ],
            "text/plain": [
              "                  Open  Predictions\n",
              "Date                               \n",
              "2020-07-15  106.800003   101.487213\n",
              "2020-07-16  103.949997   101.402176\n",
              "2020-07-17  103.650002   100.721672\n",
              "2020-07-20  106.349998    99.779640\n",
              "2020-07-21  106.000000    99.283096\n",
              "2020-07-22  108.500000    99.056404\n",
              "2020-07-23  105.449997    99.419380\n",
              "2020-07-24  104.699997    99.560280\n",
              "2020-07-27  104.000000    99.442368\n",
              "2020-07-28  102.300003    99.095337\n",
              "2020-07-29  108.099998    98.410950\n",
              "2020-07-30  106.400002    98.587448\n",
              "2020-07-31  104.000000    98.934319\n",
              "2020-08-03  103.000000    98.934196\n",
              "2020-08-04  112.949997    98.586334\n",
              "2020-08-05  112.400002    99.704445\n",
              "2020-08-06  116.199997   101.353867\n",
              "2020-08-07  117.000000   103.638237\n",
              "2020-08-10  119.949997   106.027306\n",
              "2020-08-11  125.000000   108.561104\n",
              "2020-08-12  121.000000   111.577843\n",
              "2020-08-13  126.099998   113.710594\n",
              "2020-08-14  131.149994   115.839790\n",
              "2020-08-17  124.500000   118.436485\n",
              "2020-08-18  124.000000   119.769951\n",
              "2020-08-19  127.000000   120.116997"
            ]
          },
          "metadata": {
            "tags": []
          },
          "execution_count": 37
        }
      ]
    },
    {
      "cell_type": "code",
      "metadata": {
        "id": "70AKqhoPCGOS",
        "colab_type": "code",
        "colab": {}
      },
      "source": [
        "# # Get the quote\n",
        "# # apple_quote = web.DataReader('TATAMOTORS.NS',data_source='yahoo',start='2012-01-01',end='2020-06-22')\n",
        "# apple_quote, meta_data = cc.get_currency_exchange_intraday(from_symbol='GBP', to_symbol='JPY',interval='1min',outputsize='full')\n",
        "# apple_quote = apple_quote[::-1]\n",
        "# # Create new dataframe\n",
        "# new_df = apple_quote.filter(items=['Open'])\n",
        "# # Get the last 60 days closing price and convert to numpy array\n",
        "# last_60_days = new_df[-60:].values\n",
        "# # Scale the data to be values between 0 and 1\n",
        "# last_60_days_scaled = scaler.transform(last_60_days)\n",
        "# # Create an empty list\n",
        "# X_test = []\n",
        "# # Append the past 60 days\n",
        "# X_test.append(last_60_days_scaled)\n",
        "\n",
        "# # Convert the X_test dataset to numpy array\n",
        "# X_test = np.array(X_test)\n",
        "# # Reshape the data\n",
        "# X_test = np.reshape(X_test,(X_test.shape[0],X_test.shape[1],1))\n",
        "# # Get Predicted scaled price\n",
        "# pred_price = model.predict(X_test)\n",
        "# # undo the scaling\n",
        "# pred_price = scaler.inverse_transform(pred_price)\n",
        "# comp = (new_df['Open'][-1])\n",
        "# # comp = float(\"{:.5f}\".format(comp))\n",
        "# # pred_price = float(pred_price)\n",
        "# # pred_price = float(\"{:.4f}\".format(pred_price))\n",
        "# print(pred_price)\n",
        "# print(comp)\n",
        "# if pred_price > comp:\n",
        "#   print(\"green\")\n",
        "# elif pred_price < comp:\n",
        "#   print(\"red\")\n",
        "# else:\n",
        "#   print (\"Dont buy or sell\")"
      ],
      "execution_count": null,
      "outputs": []
    },
    {
      "cell_type": "code",
      "metadata": {
        "id": "yOwcPWVfR527",
        "colab_type": "code",
        "colab": {}
      },
      "source": [
        ""
      ],
      "execution_count": null,
      "outputs": []
    },
    {
      "cell_type": "code",
      "metadata": {
        "id": "KDNxPwwKlgoQ",
        "colab_type": "code",
        "colab": {}
      },
      "source": [
        "# new, meta_data = cc.get_currency_exchange_intraday(from_symbol='GBP', to_symbol='JPY',interval='1min',outputsize='full')\n",
        "# new = new[::-1]\n",
        "# print(new.tail(10))"
      ],
      "execution_count": null,
      "outputs": []
    },
    {
      "cell_type": "code",
      "metadata": {
        "id": "_SlVRj83-vA8",
        "colab_type": "code",
        "colab": {}
      },
      "source": [
        "# pred_price = np.reshape(pred_price,1)\n",
        "# lst_2 = np.reshape(lst_2,60)\n",
        "# lst_2 = np.append(lst_2,pred_price)\n",
        "# lst_2 = lst_2[1:]\n",
        "# lst_2=np.reshape(lst_2,(1,60,1))\n",
        "# pred_price = model.predict(lst_2)\n",
        "# pred_price = scaler.inverse_transform(pred_price)\n",
        "# print(pred_price)\n",
        "# pred_price = scaler.transform(pred_price)"
      ],
      "execution_count": null,
      "outputs": []
    },
    {
      "cell_type": "code",
      "metadata": {
        "id": "oWCoEGtnjIzo",
        "colab_type": "code",
        "colab": {}
      },
      "source": [
        ""
      ],
      "execution_count": null,
      "outputs": []
    }
  ]
}